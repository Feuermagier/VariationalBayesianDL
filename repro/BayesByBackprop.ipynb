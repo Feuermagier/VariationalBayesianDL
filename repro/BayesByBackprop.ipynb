{
 "cells": [
  {
   "cell_type": "markdown",
   "metadata": {},
   "source": [
    "Weight Uncertainty in Neural Networks, Blundell et. al."
   ]
  },
  {
   "cell_type": "code",
   "execution_count": 7,
   "metadata": {},
   "outputs": [],
   "source": [
    "import numpy as np\n",
    "import torch\n",
    "import torch.nn as nn\n",
    "import torch.nn.functional as F\n",
    "import torchvision\n",
    "from torchvision.transforms import transforms\n",
    "import matplotlib.pyplot as plt\n",
    "import itertools\n",
    "import importlib\n",
    "\n",
    "import sys\n",
    "sys.path.append(\"..\")\n",
    "from training.util import GaussianMixture\n",
    "from training import bbb, util"
   ]
  },
  {
   "cell_type": "code",
   "execution_count": 19,
   "metadata": {},
   "outputs": [
    {
     "data": {
      "text/plain": [
       "<module 'training.bbb' from 'd:\\\\Uni\\\\Bachelorarbeit\\\\VariationalBayesianDL\\\\repro\\\\..\\\\training\\\\bbb.py'>"
      ]
     },
     "execution_count": 19,
     "metadata": {},
     "output_type": "execute_result"
    }
   ],
   "source": [
    "importlib.reload(bbb)"
   ]
  },
  {
   "cell_type": "code",
   "execution_count": 28,
   "metadata": {},
   "outputs": [
    {
     "name": "stdout",
     "output_type": "stream",
     "text": [
      "Epoch 0: loss 2.867413282394409\n",
      "Epoch 10: loss 2.7959725856781006\n",
      "Epoch 20: loss 2.7956392765045166\n",
      "Epoch 30: loss 2.7958829402923584\n",
      "Epoch 40: loss 2.7952895164489746\n",
      "Epoch 50: loss 2.7941854000091553\n",
      "Epoch 60: loss 2.794682025909424\n",
      "Epoch 70: loss 2.794407844543457\n",
      "Epoch 80: loss 2.7931859493255615\n",
      "Epoch 90: loss 2.793890953063965\n",
      "Epoch 100: loss 2.794369697570801\n",
      "Epoch 110: loss 2.793063163757324\n",
      "Epoch 120: loss 2.794504165649414\n",
      "Epoch 130: loss 2.793743371963501\n",
      "Epoch 140: loss 2.792853593826294\n",
      "Epoch 150: loss 2.793654441833496\n",
      "Epoch 160: loss 2.7933318614959717\n",
      "Epoch 170: loss 2.7942864894866943\n",
      "Epoch 180: loss 2.7932465076446533\n",
      "Epoch 190: loss 2.7932589054107666\n",
      "Epoch 200: loss 2.7928736209869385\n",
      "Epoch 210: loss 2.793475866317749\n",
      "Epoch 220: loss 2.793247938156128\n",
      "Epoch 230: loss 2.7936575412750244\n",
      "Epoch 240: loss 2.7937979698181152\n",
      "Epoch 250: loss 2.7932851314544678\n",
      "Epoch 260: loss 2.793111562728882\n",
      "Epoch 270: loss 2.7940073013305664\n",
      "Epoch 280: loss 2.7930562496185303\n",
      "Epoch 290: loss 2.7927160263061523\n",
      "Epoch 300: loss 2.7933030128479004\n",
      "Epoch 310: loss 2.7928905487060547\n",
      "Epoch 320: loss 2.793546199798584\n",
      "Epoch 330: loss 2.7934563159942627\n",
      "Epoch 340: loss 2.793123722076416\n",
      "Epoch 350: loss 2.793673038482666\n",
      "Epoch 360: loss 2.792801856994629\n",
      "Epoch 370: loss 2.7930266857147217\n",
      "Epoch 380: loss 2.793325901031494\n",
      "Epoch 390: loss 2.7930469512939453\n",
      "Epoch 400: loss 2.7934370040893555\n",
      "Epoch 410: loss 2.7938036918640137\n",
      "Epoch 420: loss 2.7926719188690186\n",
      "Epoch 430: loss 2.792950391769409\n",
      "Epoch 440: loss 2.7926671504974365\n",
      "Epoch 450: loss 2.7925260066986084\n",
      "Epoch 460: loss 2.7925689220428467\n",
      "Epoch 470: loss 2.7930004596710205\n",
      "Epoch 480: loss 2.7931625843048096\n",
      "Epoch 490: loss 2.793381690979004\n",
      "Final loss 2.793407917022705\n",
      "RMSE 0.5118111968040466\n"
     ]
    },
    {
     "data": {
      "image/png": "[encoded data removed]",
      "text/plain": [
       "<Figure size 432x288 with 1 Axes>"
      ]
     },
     "metadata": {
      "needs_background": "light"
     },
     "output_type": "display_data"
    }
   ],
   "source": [
    "# 5.1: Regression curves (optimized using the Local Reparametrization Trick and a single normal distribution as the prior)\n",
    "\n",
    "from training import toy\n",
    "importlib.reload(toy)\n",
    "\n",
    "torch.manual_seed(42)\n",
    "device = torch.device(\"cpu\")\n",
    "\n",
    "batch_size = 5\n",
    "trainset = toy.TrigonometricToyDataset(sample_count=200, normalize=True)\n",
    "trainloader = torch.utils.data.DataLoader(trainset, batch_size, shuffle=True)\n",
    "\n",
    "pi = 0.5  # 0.25, 0.5, 0.75\n",
    "sigma1 = np.exp(-1)  # 0, 1, 2\n",
    "sigma2 = np.exp(-7)  # 6, 7, 8\n",
    "#prior = util.GaussianMixture(pi, sigma1, sigma2)\n",
    "prior = torch.distributions.Normal(0, 1.0)\n",
    "\n",
    "model = nn.Sequential(\n",
    "    bbb.BBBLinear(1, 100, prior, prior, device, mc_sample=2, sampling=\"activations\"),\n",
    "    nn.ReLU(),\n",
    "    bbb.BBBLinear(100, 1, prior, prior, device, mc_sample=2, sampling=\"activations\")\n",
    ")\n",
    "model.to(device)\n",
    "\n",
    "optimizer = torch.optim.SGD(model.parameters(), lr=0.01)\n",
    "loss_fn = torch.nn.MSELoss()\n",
    "\n",
    "for epoch in range(500):\n",
    "    loss = bbb.run_bbb_epoch(model, optimizer, loss_fn, trainloader, device)\n",
    "    if epoch % 10 == 0:\n",
    "        print(f\"Epoch {epoch}: loss {loss / (len(trainloader) * batch_size)}\")\n",
    "print(f\"Final loss {loss / (len(trainloader) * batch_size)}\")\n",
    "\n",
    "def eval_bbb(input):\n",
    "    samples = 100\n",
    "    model.eval()\n",
    "    outputs = torch.stack([model(input) for _ in range(samples)])\n",
    "    return torch.mean(outputs, dim=0), torch.var(outputs, dim=0)\n",
    "trainset.plot(eval_bbb)"
   ]
  }
 ],
 "metadata": {
  "interpreter": {
   "hash": "0e7c78064c0373a43d5649a0756f15757864c8e7f314765530680950dc16e1bb"
  },
  "kernelspec": {
   "display_name": "Python 3.8.12 ('ml')",
   "language": "python",
   "name": "python3"
  },
  "language_info": {
   "codemirror_mode": {
    "name": "ipython",
    "version": 3
   },
   "file_extension": ".py",
   "mimetype": "text/x-python",
   "name": "python",
   "nbconvert_exporter": "python",
   "pygments_lexer": "ipython3",
   "version": "3.8.12"
  },
  "orig_nbformat": 4
 },
 "nbformat": 4,
 "nbformat_minor": 2
}
