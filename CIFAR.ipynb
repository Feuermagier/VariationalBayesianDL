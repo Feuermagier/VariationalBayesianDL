{
 "cells": [
  {
   "cell_type": "code",
   "execution_count": 1,
   "metadata": {},
   "outputs": [
    {
     "name": "stderr",
     "output_type": "stream",
     "text": [
      "/home/flo/anaconda3/envs/bdl2/lib/python3.9/site-packages/tqdm/auto.py:22: TqdmWarning: IProgress not found. Please update jupyter and ipywidgets. See https://ipywidgets.readthedocs.io/en/stable/user_install.html\n",
      "  from .autonotebook import tqdm as notebook_tqdm\n"
     ]
    }
   ],
   "source": [
    "%load_ext autoreload\n",
    "%autoreload 2\n",
    "\n",
    "import torch\n",
    "import matplotlib.pyplot as plt\n",
    "\n",
    "from training.util import sgd, plot_losses"
   ]
  },
  {
   "cell_type": "code",
   "execution_count": 6,
   "metadata": {},
   "outputs": [
    {
     "name": "stdout",
     "output_type": "stream",
     "text": [
      "Files already downloaded and verified\n",
      "Files already downloaded and verified\n"
     ]
    }
   ],
   "source": [
    "import experiments.base.cifar as cifar\n",
    "\n",
    "batch_size = 128\n",
    "trainloader = cifar.cifar10_trainloader(\"/mnt/d/Uni/Bachelorarbeit/linux/data/\", batch_size=batch_size, subsample=5000)\n",
    "testloader = cifar.cifar10_testloader(\"/mnt/d/Uni/Bachelorarbeit/linux/data/\", batch_size=batch_size)"
   ]
  },
  {
   "cell_type": "code",
   "execution_count": 3,
   "metadata": {},
   "outputs": [],
   "source": [
    "device = torch.device(\"cuda\")"
   ]
  },
  {
   "cell_type": "code",
   "execution_count": null,
   "metadata": {},
   "outputs": [],
   "source": [
    "import experiments.base.cifar as cifar\n",
    "corrupted_testloader = cifar.cifar10_corrupted_testloader(\"/mnt/d/Uni/Bachelorarbeit/linux/data/\", intensity=4, batch_size=128)"
   ]
  },
  {
   "cell_type": "code",
   "execution_count": 33,
   "metadata": {},
   "outputs": [
    {
     "name": "stdout",
     "output_type": "stream",
     "text": [
      "Epoch 0: loss 2.36492657661438\n",
      "Epoch 1: loss 2.3618083000183105\n",
      "Epoch 2: loss 2.3654890060424805\n",
      "Epoch 3: loss 2.366486072540283\n",
      "Epoch 4: loss 2.3584392070770264\n",
      "Epoch 5: loss 2.3593029975891113\n",
      "Epoch 6: loss 2.361320972442627\n",
      "Epoch 7: loss 2.360414981842041\n",
      "Epoch 8: loss 2.3581619262695312\n",
      "Epoch 9: loss 2.361074447631836\n",
      "Final loss 2.361074447631836\n"
     ]
    }
   ],
   "source": [
    "from training.pp import MAP\n",
    "from training.vogn import iVONModuleFunctorch, VOGNModule\n",
    "\n",
    "layers = [\n",
    "    (\"preresnet-20\", (32, 3, 10)),\n",
    "    (\"logsoftmax\", ())\n",
    "]\n",
    "\n",
    "model = VOGNModule(layers)\n",
    "model.train_model(10, torch.nn.NLLLoss(), {\"lr\": 1e-4, \"prior_prec\": 150, \"betas\": (0.9, 0.999), \"damping\": 1e-3, \"augmentation\": 1}, trainloader, batch_size, device, mc_samples=4)"
   ]
  },
  {
   "cell_type": "code",
   "execution_count": null,
   "metadata": {},
   "outputs": [],
   "source": [
    "from training.pp import MAP\n",
    "from training.vogn import iVONModuleFunctorch, VOGNModule\n",
    "\n",
    "layers = [\n",
    "    (\"preresnet-20\", (32, 3, 10)),\n",
    "    (\"logsoftmax\", ())\n",
    "]\n",
    "\n",
    "model = VOGNModule(layers)\n",
    "model.train_model(10, torch.nn.NLLLoss(), {\"lr\": 1e-4, \"prior_prec\": 150, \"betas\": (0.9, 0.999), \"damping\": 1e-3, \"augmentation\": 1}, trainloader, batch_size, device, mc_samples=4)"
   ]
  },
  {
   "cell_type": "code",
   "execution_count": 35,
   "metadata": {},
   "outputs": [
    {
     "name": "stdout",
     "output_type": "stream",
     "text": [
      " Accuracy: 0.09700000286102295\n",
      " Avg Log Likelihood: -2.3664472103118896\n",
      " Avg Likelihood: 0.09659472852945328\n",
      " ECE: 0.03634331941008568\n"
     ]
    },
    {
     "data": {
      "text/plain": [
       "(tensor(0.0970),\n",
       " tensor(-2.3664),\n",
       " tensor(0.0966),\n",
       " <training.calibration.ClassificationCalibrationResults at 0x7fcc93c173a0>)"
      ]
     },
     "execution_count": 35,
     "metadata": {},
     "output_type": "execute_result"
    }
   ],
   "source": [
    "import experiments.base.multiclass_classification as exp\n",
    "\n",
    "model.to(device)\n",
    "exp.eval_model(model, 5, testloader, device)"
   ]
  },
  {
   "cell_type": "code",
   "execution_count": 36,
   "metadata": {},
   "outputs": [
    {
     "data": {
      "image/png": "[encoded data removed]",
      "text/plain": [
       "<Figure size 432x288 with 1 Axes>"
      ]
     },
     "metadata": {
      "needs_background": "light"
     },
     "output_type": "display_data"
    }
   ],
   "source": [
    "plot_losses(\"MAP\", model.all_losses(), plt.subplot())"
   ]
  }
 ],
 "metadata": {
  "kernelspec": {
   "display_name": "Python 3.9.12 ('bdl2')",
   "language": "python",
   "name": "python3"
  },
  "language_info": {
   "codemirror_mode": {
    "name": "ipython",
    "version": 3
   },
   "file_extension": ".py",
   "mimetype": "text/x-python",
   "name": "python",
   "nbconvert_exporter": "python",
   "pygments_lexer": "ipython3",
   "version": "3.9.12"
  },
  "orig_nbformat": 4,
  "vscode": {
   "interpreter": {
    "hash": "dcfaf3907fb5ccaba69729c1b2eca8858ecf7d628290008c66c1f9d42d557f9b"
   }
  }
 },
 "nbformat": 4,
 "nbformat_minor": 2
}
