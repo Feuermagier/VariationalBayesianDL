{
 "cells": [
  {
   "cell_type": "code",
   "execution_count": 1,
   "metadata": {},
   "outputs": [
    {
     "name": "stderr",
     "output_type": "stream",
     "text": [
      "/home/flo/anaconda3/envs/bdl2/lib/python3.9/site-packages/tqdm/auto.py:22: TqdmWarning: IProgress not found. Please update jupyter and ipywidgets. See https://ipywidgets.readthedocs.io/en/stable/user_install.html\n",
      "  from .autonotebook import tqdm as notebook_tqdm\n"
     ]
    }
   ],
   "source": [
    "%load_ext autoreload\n",
    "%autoreload 2\n",
    "\n",
    "import torch\n",
    "import matplotlib.pyplot as plt\n",
    "\n",
    "from training.util import sgd, plot_losses, adam, lr_scheduler, wilson_scheduler, scheduler_factory"
   ]
  },
  {
   "cell_type": "code",
   "execution_count": 2,
   "metadata": {},
   "outputs": [],
   "source": [
    "device = torch.device(\"cuda\")"
   ]
  },
  {
   "cell_type": "code",
   "execution_count": 3,
   "metadata": {},
   "outputs": [],
   "source": [
    "import experiments.base.cifar as cifar\n",
    "\n",
    "batch_size = 128\n",
    "trainloader = cifar.cifar10_trainloader(\"/mnt/d/Uni/Bachelorarbeit/linux/data/\", batch_size=batch_size, subsample=5000)\n",
    "testloader = cifar.cifar10_testloader(\"/mnt/d/Uni/Bachelorarbeit/linux/data/\", batch_size=batch_size)\n",
    "#stl_testloader = cifar.stl10_testloader(\"/mnt/d/Uni/Bachelorarbeit/linux/data/\", batch_size=128)"
   ]
  },
  {
   "cell_type": "code",
   "execution_count": 7,
   "metadata": {},
   "outputs": [
    {
     "ename": "",
     "evalue": "",
     "output_type": "error",
     "traceback": [
      "\u001b[1;31mCanceled future for execute_request message before replies were done"
     ]
    },
    {
     "ename": "",
     "evalue": "",
     "output_type": "error",
     "traceback": [
      "\u001b[1;31mThe Kernel crashed while executing code in the the current cell or a previous cell. Please review the code in the cell(s) to identify a possible cause of the failure. Click <a href='https://aka.ms/vscodeJupyterKernelCrash'>here</a> for more info. View Jupyter <a href='command:jupyter.viewOutput'>log</a> for further details."
     ]
    }
   ],
   "source": [
    "import experiments.base.cifar as cifar\n",
    "corrupted_testloader = cifar.cifar10_corrupted_testloader(\"/mnt/d/Uni/Bachelorarbeit/linux/data/\", intensity=4, batch_size=128)"
   ]
  },
  {
   "cell_type": "code",
   "execution_count": 4,
   "metadata": {},
   "outputs": [
    {
     "name": "stdout",
     "output_type": "stream",
     "text": [
      "Epoch 0: loss 2.01584792137146\n",
      "Epoch 1: loss 1.7863575220108032\n",
      "Epoch 2: loss 1.6391899585723877\n",
      "Epoch 3: loss 1.5623986721038818\n",
      "Epoch 4: loss 1.491809368133545\n",
      "Epoch 5: loss 1.3847906589508057\n",
      "Epoch 6: loss 1.335707426071167\n",
      "Epoch 7: loss 1.2436728477478027\n",
      "Epoch 8: loss 1.1986472606658936\n",
      "Epoch 9: loss 1.2174004316329956\n",
      "Epoch 10: loss 1.1391068696975708\n",
      "Epoch 11: loss 1.0604826211929321\n",
      "Epoch 12: loss 1.0955108404159546\n",
      "Epoch 13: loss 1.040108323097229\n",
      "Epoch 14: loss 0.9668388366699219\n",
      "Epoch 15: loss 0.9387396574020386\n",
      "Epoch 16: loss 0.8718662261962891\n",
      "Epoch 17: loss 0.86735999584198\n",
      "Epoch 18: loss 1.076339840888977\n",
      "Epoch 19: loss 0.9016361236572266\n",
      "Epoch 20: loss 0.8792597055435181\n",
      "Epoch 21: loss 0.931921660900116\n",
      "Epoch 22: loss 0.8573635220527649\n",
      "Epoch 23: loss 0.8128498792648315\n",
      "Epoch 24: loss 0.7687486410140991\n",
      "Epoch 25: loss 0.7544850707054138\n",
      "Epoch 26: loss 0.7607107162475586\n",
      "Epoch 27: loss 0.8008245229721069\n",
      "Epoch 28: loss 0.82341468334198\n",
      "Epoch 29: loss 0.7128819227218628\n",
      "Final loss 0.7128819227218628\n"
     ]
    },
    {
     "data": {
      "text/plain": [
       "MAP(\n",
       "  (model): Sequential(\n",
       "    (0): PreResNet(\n",
       "      (model): Sequential(\n",
       "        (0): Conv2d(3, 16, kernel_size=(3, 3), stride=(1, 1), padding=(1, 1))\n",
       "        (1): PreBasicBlock(\n",
       "          (main_path): Sequential(\n",
       "            (0): BatchNorm2d(16, eps=1e-05, momentum=0.1, affine=True, track_running_stats=False)\n",
       "            (1): ReLU()\n",
       "            (2): Conv2d(16, 16, kernel_size=(3, 3), stride=(1, 1), padding=(1, 1), bias=False)\n",
       "            (3): BatchNorm2d(16, eps=1e-05, momentum=0.1, affine=True, track_running_stats=False)\n",
       "            (4): ReLU()\n",
       "            (5): Conv2d(16, 16, kernel_size=(3, 3), stride=(1, 1), padding=(1, 1), bias=False)\n",
       "          )\n",
       "          (skip_path): Identity()\n",
       "        )\n",
       "        (2): PreBasicBlock(\n",
       "          (main_path): Sequential(\n",
       "            (0): BatchNorm2d(16, eps=1e-05, momentum=0.1, affine=True, track_running_stats=False)\n",
       "            (1): ReLU()\n",
       "            (2): Conv2d(16, 16, kernel_size=(3, 3), stride=(1, 1), padding=(1, 1), bias=False)\n",
       "            (3): BatchNorm2d(16, eps=1e-05, momentum=0.1, affine=True, track_running_stats=False)\n",
       "            (4): ReLU()\n",
       "            (5): Conv2d(16, 16, kernel_size=(3, 3), stride=(1, 1), padding=(1, 1), bias=False)\n",
       "          )\n",
       "          (skip_path): Identity()\n",
       "        )\n",
       "        (3): PreBasicBlock(\n",
       "          (main_path): Sequential(\n",
       "            (0): BatchNorm2d(16, eps=1e-05, momentum=0.1, affine=True, track_running_stats=False)\n",
       "            (1): ReLU()\n",
       "            (2): Conv2d(16, 16, kernel_size=(3, 3), stride=(1, 1), padding=(1, 1), bias=False)\n",
       "            (3): BatchNorm2d(16, eps=1e-05, momentum=0.1, affine=True, track_running_stats=False)\n",
       "            (4): ReLU()\n",
       "            (5): Conv2d(16, 16, kernel_size=(3, 3), stride=(1, 1), padding=(1, 1), bias=False)\n",
       "          )\n",
       "          (skip_path): Identity()\n",
       "        )\n",
       "        (4): PreBasicBlock(\n",
       "          (main_path): Sequential(\n",
       "            (0): BatchNorm2d(16, eps=1e-05, momentum=0.1, affine=True, track_running_stats=False)\n",
       "            (1): ReLU()\n",
       "            (2): Conv2d(16, 32, kernel_size=(3, 3), stride=(2, 2), padding=(1, 1), bias=False)\n",
       "            (3): BatchNorm2d(32, eps=1e-05, momentum=0.1, affine=True, track_running_stats=False)\n",
       "            (4): ReLU()\n",
       "            (5): Conv2d(32, 32, kernel_size=(3, 3), stride=(1, 1), padding=(1, 1), bias=False)\n",
       "          )\n",
       "          (skip_path): Conv2d(16, 32, kernel_size=(1, 1), stride=(2, 2), bias=False)\n",
       "        )\n",
       "        (5): PreBasicBlock(\n",
       "          (main_path): Sequential(\n",
       "            (0): BatchNorm2d(32, eps=1e-05, momentum=0.1, affine=True, track_running_stats=False)\n",
       "            (1): ReLU()\n",
       "            (2): Conv2d(32, 32, kernel_size=(3, 3), stride=(1, 1), padding=(1, 1), bias=False)\n",
       "            (3): BatchNorm2d(32, eps=1e-05, momentum=0.1, affine=True, track_running_stats=False)\n",
       "            (4): ReLU()\n",
       "            (5): Conv2d(32, 32, kernel_size=(3, 3), stride=(1, 1), padding=(1, 1), bias=False)\n",
       "          )\n",
       "          (skip_path): Identity()\n",
       "        )\n",
       "        (6): PreBasicBlock(\n",
       "          (main_path): Sequential(\n",
       "            (0): BatchNorm2d(32, eps=1e-05, momentum=0.1, affine=True, track_running_stats=False)\n",
       "            (1): ReLU()\n",
       "            (2): Conv2d(32, 32, kernel_size=(3, 3), stride=(1, 1), padding=(1, 1), bias=False)\n",
       "            (3): BatchNorm2d(32, eps=1e-05, momentum=0.1, affine=True, track_running_stats=False)\n",
       "            (4): ReLU()\n",
       "            (5): Conv2d(32, 32, kernel_size=(3, 3), stride=(1, 1), padding=(1, 1), bias=False)\n",
       "          )\n",
       "          (skip_path): Identity()\n",
       "        )\n",
       "        (7): PreBasicBlock(\n",
       "          (main_path): Sequential(\n",
       "            (0): BatchNorm2d(32, eps=1e-05, momentum=0.1, affine=True, track_running_stats=False)\n",
       "            (1): ReLU()\n",
       "            (2): Conv2d(32, 64, kernel_size=(3, 3), stride=(2, 2), padding=(1, 1), bias=False)\n",
       "            (3): BatchNorm2d(64, eps=1e-05, momentum=0.1, affine=True, track_running_stats=False)\n",
       "            (4): ReLU()\n",
       "            (5): Conv2d(64, 64, kernel_size=(3, 3), stride=(1, 1), padding=(1, 1), bias=False)\n",
       "          )\n",
       "          (skip_path): Conv2d(32, 64, kernel_size=(1, 1), stride=(2, 2), bias=False)\n",
       "        )\n",
       "        (8): PreBasicBlock(\n",
       "          (main_path): Sequential(\n",
       "            (0): BatchNorm2d(64, eps=1e-05, momentum=0.1, affine=True, track_running_stats=False)\n",
       "            (1): ReLU()\n",
       "            (2): Conv2d(64, 64, kernel_size=(3, 3), stride=(1, 1), padding=(1, 1), bias=False)\n",
       "            (3): BatchNorm2d(64, eps=1e-05, momentum=0.1, affine=True, track_running_stats=False)\n",
       "            (4): ReLU()\n",
       "            (5): Conv2d(64, 64, kernel_size=(3, 3), stride=(1, 1), padding=(1, 1), bias=False)\n",
       "          )\n",
       "          (skip_path): Identity()\n",
       "        )\n",
       "        (9): PreBasicBlock(\n",
       "          (main_path): Sequential(\n",
       "            (0): BatchNorm2d(64, eps=1e-05, momentum=0.1, affine=True, track_running_stats=False)\n",
       "            (1): ReLU()\n",
       "            (2): Conv2d(64, 64, kernel_size=(3, 3), stride=(1, 1), padding=(1, 1), bias=False)\n",
       "            (3): BatchNorm2d(64, eps=1e-05, momentum=0.1, affine=True, track_running_stats=False)\n",
       "            (4): ReLU()\n",
       "            (5): Conv2d(64, 64, kernel_size=(3, 3), stride=(1, 1), padding=(1, 1), bias=False)\n",
       "          )\n",
       "          (skip_path): Identity()\n",
       "        )\n",
       "        (10): BatchNorm2d(64, eps=1e-05, momentum=0.1, affine=True, track_running_stats=False)\n",
       "        (11): ReLU()\n",
       "        (12): AvgPool2d(kernel_size=8, stride=8, padding=0)\n",
       "        (13): Flatten(start_dim=1, end_dim=-1)\n",
       "        (14): Linear(in_features=64, out_features=10, bias=True)\n",
       "      )\n",
       "    )\n",
       "    (1): LogSoftmax(dim=1)\n",
       "  )\n",
       ")"
      ]
     },
     "execution_count": 4,
     "metadata": {},
     "output_type": "execute_result"
    }
   ],
   "source": [
    "from training.pp import MAP\n",
    "from training.swag import SwagModel\n",
    "\n",
    "layers = [\n",
    "    (\"preresnet-20\", (32, 3, 10)),\n",
    "    (\"logsoftmax\", ())\n",
    "]\n",
    "\n",
    "config = {\n",
    "    \"deviation_samples\": 30,\n",
    "    \"mean_samples\": 100,\n",
    "    \"start_epoch\": 161\n",
    "}\n",
    "\n",
    "model = MAP(layers)\n",
    "\n",
    "model.train_model(30, torch.nn.NLLLoss(), sgd(1e-1, weight_decay=3e-4, momentum=0.9, nesterov=True), trainloader, batch_size, device, scheduler_factory=wilson_scheduler(161, 0.1, None))\n",
    "#model.load_state_dict(torch.load(\"/mnt/d/Uni/Bachelorarbeit/results/CIFAR10/2/results/MAP/log/rep_00model.tar\"))\n",
    "model.to(device)"
   ]
  },
  {
   "cell_type": "code",
   "execution_count": 5,
   "metadata": {},
   "outputs": [
    {
     "name": "stdout",
     "output_type": "stream",
     "text": [
      " Accuracy: 0.5697000026702881\n",
      " Avg Log Likelihood: -1.3590730428695679\n",
      " Avg Likelihood: 0.5061303973197937\n",
      " ECE: 0.14759075942486524\n"
     ]
    },
    {
     "data": {
      "text/plain": [
       "(tensor(0.5697),\n",
       " tensor(-1.3591),\n",
       " tensor(0.5061),\n",
       " <training.calibration.ClassificationCalibrationResults at 0x7fd4b9326f70>)"
      ]
     },
     "execution_count": 5,
     "metadata": {},
     "output_type": "execute_result"
    }
   ],
   "source": [
    "import experiments.base.multiclass_classification as exp\n",
    "\n",
    "exp.eval_model(model, 5, testloader, device)"
   ]
  },
  {
   "cell_type": "code",
   "execution_count": 14,
   "metadata": {},
   "outputs": [
    {
     "name": "stdout",
     "output_type": "stream",
     "text": [
      "Epoch 0: loss 0.016812792047858238\n",
      "Epoch 1: loss 0.01514538936316967\n",
      "Epoch 2: loss 0.014576606452465057\n",
      "Epoch 3: loss 0.013781750574707985\n",
      "Epoch 4: loss 0.013224685564637184\n",
      "Epoch 5: loss 0.012892571277916431\n",
      "Epoch 6: loss 0.012442981824278831\n",
      "Epoch 7: loss 0.012070635333657265\n",
      "Epoch 8: loss 0.011789536103606224\n",
      "Epoch 9: loss 0.011786548420786858\n",
      "Epoch 10: loss 0.011420974507927895\n",
      "Epoch 11: loss 0.011331411078572273\n",
      "Epoch 12: loss 0.010765699669718742\n",
      "Epoch 13: loss 0.010381096974015236\n",
      "Epoch 14: loss 0.009998918510973454\n",
      "Epoch 15: loss 0.009953840635716915\n",
      "Epoch 16: loss 0.00974450446665287\n",
      "Epoch 17: loss 0.009362411685287952\n",
      "Epoch 18: loss 0.009200184606015682\n",
      "Epoch 19: loss 0.009995797649025917\n",
      "Epoch 20: loss 0.008917008526623249\n",
      "Epoch 21: loss 0.008530959486961365\n",
      "Epoch 22: loss 0.008324888534843922\n",
      "Epoch 23: loss 0.008079549297690392\n",
      "Epoch 24: loss 0.008152643218636513\n",
      "Epoch 25: loss 0.007774443365633488\n",
      "Epoch 26: loss 0.0075240121223032475\n",
      "Epoch 27: loss 0.008525660261511803\n",
      "Epoch 28: loss 0.007404711097478867\n",
      "Epoch 29: loss 0.007314909249544144\n",
      "Final loss 0.007314909249544144\n"
     ]
    }
   ],
   "source": [
    "from training.bbb import BBBModel, GaussianPrior\n",
    "\n",
    "prior = GaussianPrior(torch.tensor(0), torch.tensor(1))\n",
    "layers = [\n",
    "    (\"variational-preresnet-20\", (32, 3, 10, prior)),\n",
    "    (\"logsoftmax\", ())\n",
    "]\n",
    "\n",
    "model = BBBModel(layers)\n",
    "\n",
    "model.train_model(30, torch.nn.NLLLoss(), sgd(1e-1, momentum=0.9, nesterov=True), trainloader, batch_size, device, scheduler_factory=scheduler_factory(wilson_scheduler(300, 1e-1, None)), mc_samples=2, kl_rescaling=0.5)"
   ]
  },
  {
   "cell_type": "code",
   "execution_count": 15,
   "metadata": {},
   "outputs": [
    {
     "name": "stdout",
     "output_type": "stream",
     "text": [
      " Accuracy: 0.560699999332428\n",
      " Avg Log Likelihood: -1.2729154825210571\n",
      " Avg Likelihood: 0.4686032831668854\n",
      " ECE: 0.07069729184508323\n"
     ]
    },
    {
     "data": {
      "text/plain": [
       "(tensor(0.5607),\n",
       " tensor(-1.2729),\n",
       " tensor(0.4686),\n",
       " <training.calibration.ClassificationCalibrationResults at 0x7f3961af7df0>)"
      ]
     },
     "execution_count": 15,
     "metadata": {},
     "output_type": "execute_result"
    }
   ],
   "source": [
    "import experiments.base.multiclass_classification as exp\n",
    "\n",
    "model.to(device)\n",
    "exp.eval_model(model, 5, testloader, device)"
   ]
  },
  {
   "cell_type": "code",
   "execution_count": 6,
   "metadata": {},
   "outputs": [
    {
     "name": "stdout",
     "output_type": "stream",
     "text": [
      " Accuracy: 0.6556000113487244\n",
      " Avg Log Likelihood: -1.1313354969024658\n",
      " Avg Likelihood: 0.5835703611373901\n",
      " ECE: 0.08731313892900944\n"
     ]
    },
    {
     "data": {
      "text/plain": [
       "(tensor(0.6556),\n",
       " tensor(-1.1313),\n",
       " tensor(0.5836),\n",
       " <training.calibration.ClassificationCalibrationResults at 0x7f272b4afb20>)"
      ]
     },
     "execution_count": 6,
     "metadata": {},
     "output_type": "execute_result"
    }
   ],
   "source": [
    "import experiments.base.multiclass_classification as exp\n",
    "\n",
    "exp.eval_model(model, 5, testloader, device)"
   ]
  },
  {
   "cell_type": "code",
   "execution_count": 17,
   "metadata": {},
   "outputs": [
    {
     "name": "stdout",
     "output_type": "stream",
     "text": [
      "Epoch 0: loss 2.332385301589966\n",
      "Epoch 1: loss 2.253911018371582\n",
      "Epoch 2: loss 2.23465633392334\n",
      "Epoch 3: loss 2.199200391769409\n",
      "Epoch 4: loss 2.16426420211792\n",
      "Epoch 5: loss 2.1393144130706787\n",
      "Epoch 6: loss 2.109506607055664\n",
      "Epoch 7: loss 2.104416608810425\n",
      "Epoch 8: loss 2.154355764389038\n",
      "Epoch 9: loss 2.1372323036193848\n",
      "Epoch 10: loss 2.1697168350219727\n",
      "Epoch 11: loss 2.0948901176452637\n",
      "Epoch 12: loss 2.129309892654419\n",
      "Epoch 13: loss 2.2152178287506104\n",
      "Epoch 14: loss 2.13733172416687\n",
      "Epoch 15: loss 2.1065380573272705\n",
      "Epoch 16: loss 2.163856267929077\n",
      "Epoch 17: loss 2.1148147583007812\n",
      "Epoch 18: loss 2.119962215423584\n",
      "Epoch 19: loss 2.0573549270629883\n",
      "Epoch 20: loss 2.0007452964782715\n",
      "Epoch 21: loss 1.9806022644042969\n",
      "Epoch 22: loss 1.9649388790130615\n",
      "Epoch 23: loss 1.9530519247055054\n",
      "Epoch 24: loss 1.9255977869033813\n",
      "Epoch 25: loss 1.9343814849853516\n",
      "Epoch 26: loss 1.9311554431915283\n",
      "Epoch 27: loss 1.9267498254776\n",
      "Epoch 28: loss 1.946887731552124\n",
      "Epoch 29: loss 1.9310731887817383\n",
      "Epoch 30: loss 1.9264028072357178\n",
      "Epoch 31: loss 1.9316295385360718\n",
      "Epoch 32: loss 1.939728021621704\n",
      "Epoch 33: loss 1.9393970966339111\n",
      "Epoch 34: loss 1.922863245010376\n",
      "Epoch 35: loss 1.932562232017517\n",
      "Epoch 36: loss 1.9347383975982666\n",
      "Epoch 37: loss 1.926694631576538\n",
      "Epoch 38: loss 1.934532880783081\n",
      "Epoch 39: loss 1.9365142583847046\n",
      "Epoch 40: loss 1.9292755126953125\n",
      "Epoch 41: loss 1.9319769144058228\n",
      "Epoch 42: loss 1.9371429681777954\n",
      "Epoch 43: loss 1.9327270984649658\n",
      "Epoch 44: loss 1.9390500783920288\n",
      "Epoch 45: loss 1.9377139806747437\n",
      "Epoch 46: loss 1.929675817489624\n",
      "Epoch 47: loss 1.9354568719863892\n",
      "Epoch 48: loss 1.9312591552734375\n",
      "Epoch 49: loss 1.9334640502929688\n",
      "Epoch 50: loss 1.92825186252594\n",
      "Epoch 51: loss 1.9324184656143188\n",
      "Epoch 52: loss 1.9276660680770874\n",
      "Epoch 53: loss 1.931606650352478\n",
      "Epoch 54: loss 1.9339959621429443\n",
      "Epoch 55: loss 1.9261945486068726\n",
      "Epoch 56: loss 1.9422944784164429\n",
      "Epoch 57: loss 1.9307219982147217\n",
      "Epoch 58: loss 1.9271929264068604\n",
      "Epoch 59: loss 1.9312093257904053\n",
      "Epoch 60: loss 1.9355287551879883\n",
      "Epoch 61: loss 1.9277887344360352\n",
      "Epoch 62: loss 1.9313541650772095\n",
      "Epoch 63: loss 1.9290621280670166\n",
      "Epoch 64: loss 1.9262739419937134\n",
      "Epoch 65: loss 1.9404131174087524\n",
      "Epoch 66: loss 1.9326673746109009\n",
      "Epoch 67: loss 1.9183803796768188\n",
      "Epoch 68: loss 1.9299437999725342\n",
      "Epoch 69: loss 1.917290449142456\n",
      "Epoch 70: loss 1.9383872747421265\n",
      "Epoch 71: loss 1.934627890586853\n",
      "Epoch 72: loss 1.9312959909439087\n",
      "Epoch 73: loss 1.934848427772522\n",
      "Epoch 74: loss 1.9276959896087646\n",
      "Epoch 75: loss 1.9184290170669556\n",
      "Epoch 76: loss 1.9251190423965454\n",
      "Epoch 77: loss 1.9284271001815796\n",
      "Epoch 78: loss 1.9315418004989624\n",
      "Epoch 79: loss 1.9403560161590576\n",
      "Epoch 80: loss 1.9298213720321655\n",
      "Epoch 81: loss 1.9309351444244385\n",
      "Epoch 82: loss 1.9223333597183228\n",
      "Epoch 83: loss 1.9399049282073975\n",
      "Epoch 84: loss 1.9343074560165405\n",
      "Epoch 85: loss 1.9258111715316772\n",
      "Epoch 86: loss 1.9322019815444946\n",
      "Epoch 87: loss 1.9301990270614624\n",
      "Epoch 88: loss 1.941502571105957\n",
      "Epoch 89: loss 1.9306262731552124\n",
      "Epoch 90: loss 1.9374961853027344\n",
      "Epoch 91: loss 1.9308735132217407\n",
      "Epoch 92: loss 1.9292930364608765\n",
      "Epoch 93: loss 1.926771879196167\n",
      "Epoch 94: loss 1.9367446899414062\n",
      "Epoch 95: loss 1.938849687576294\n",
      "Epoch 96: loss 1.9422820806503296\n",
      "Epoch 97: loss 1.9357891082763672\n",
      "Epoch 98: loss 1.9276378154754639\n",
      "Epoch 99: loss 1.9299182891845703\n",
      "Final loss 1.9299182891845703\n"
     ]
    }
   ],
   "source": [
    "from training.pp import MAP\n",
    "from training.vogn import iVONModuleFunctorch, VOGNModule\n",
    "\n",
    "layers = [\n",
    "    (\"preresnet-20\", (32, 3, 10)),\n",
    "    (\"logsoftmax\", ())\n",
    "]\n",
    "\n",
    "ivon_model = VOGNModule(layers)\n",
    "ivon_model.train_model(100, torch.nn.NLLLoss(), {\"lr\": 1e-1, \"prior_prec\": 10, \"betas\": (0.9, 0.999), \"damping\": 1e-3, \"augmentation\": 5, \"sample\": True}, trainloader, batch_size, device, scheduler=wilson_scheduler(30, 1e-1, None), mc_samples=2)"
   ]
  },
  {
   "cell_type": "code",
   "execution_count": 18,
   "metadata": {},
   "outputs": [
    {
     "name": "stdout",
     "output_type": "stream",
     "text": [
      " Accuracy: 0.08919999748468399\n",
      " Avg Log Likelihood: -3.8762266635894775\n",
      " Avg Likelihood: 0.08848392218351364\n",
      " ECE: 0.2536653894111514\n"
     ]
    },
    {
     "data": {
      "text/plain": [
       "(tensor(0.0892),\n",
       " tensor(-3.8762),\n",
       " tensor(0.0885),\n",
       " <training.calibration.ClassificationCalibrationResults at 0x7f4d90788bb0>)"
      ]
     },
     "execution_count": 18,
     "metadata": {},
     "output_type": "execute_result"
    }
   ],
   "source": [
    "import experiments.base.multiclass_classification as exp\n",
    "\n",
    "exp.eval_model(ivon_model, 5, testloader, device)"
   ]
  },
  {
   "cell_type": "code",
   "execution_count": 11,
   "metadata": {},
   "outputs": [
    {
     "data": {
      "image/png": "[encoded data removed]",
      "text/plain": [
       "<Figure size 432x288 with 1 Axes>"
      ]
     },
     "metadata": {
      "needs_background": "light"
     },
     "output_type": "display_data"
    }
   ],
   "source": [
    "plot_losses(\"MAP\", ivon_model.all_losses(), plt.subplot())"
   ]
  }
 ],
 "metadata": {
  "kernelspec": {
   "display_name": "Python 3.9.12 ('bdl2')",
   "language": "python",
   "name": "python3"
  },
  "language_info": {
   "codemirror_mode": {
    "name": "ipython",
    "version": 3
   },
   "file_extension": ".py",
   "mimetype": "text/x-python",
   "name": "python",
   "nbconvert_exporter": "python",
   "pygments_lexer": "ipython3",
   "version": "3.9.12"
  },
  "orig_nbformat": 4,
  "vscode": {
   "interpreter": {
    "hash": "dcfaf3907fb5ccaba69729c1b2eca8858ecf7d628290008c66c1f9d42d557f9b"
   }
  }
 },
 "nbformat": 4,
 "nbformat_minor": 2
}
