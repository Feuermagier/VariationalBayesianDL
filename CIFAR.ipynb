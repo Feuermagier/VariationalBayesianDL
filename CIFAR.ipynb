{
 "cells": [
  {
   "cell_type": "code",
   "execution_count": 1,
   "metadata": {},
   "outputs": [
    {
     "name": "stderr",
     "output_type": "stream",
     "text": [
      "c:\\Users\\flose\\anaconda3\\envs\\ml\\lib\\site-packages\\tqdm\\auto.py:22: TqdmWarning: IProgress not found. Please update jupyter and ipywidgets. See https://ipywidgets.readthedocs.io/en/stable/user_install.html\n",
      "  from .autonotebook import tqdm as notebook_tqdm\n"
     ]
    }
   ],
   "source": [
    "%load_ext autoreload\n",
    "%autoreload 2\n",
    "\n",
    "import torch\n",
    "from training.util import sgd"
   ]
  },
  {
   "cell_type": "code",
   "execution_count": 2,
   "metadata": {},
   "outputs": [
    {
     "name": "stdout",
     "output_type": "stream",
     "text": [
      "Files already downloaded and verified\n",
      "Files already downloaded and verified\n"
     ]
    }
   ],
   "source": [
    "import experiments.base.cifar as cifar\n",
    "\n",
    "batch_size = 4\n",
    "trainloader = cifar.cifar10_trainloader(\"./data\", batch_size=batch_size)\n",
    "testloader = cifar.cifar10_testloader(\"./data\", batch_size=batch_size)"
   ]
  },
  {
   "cell_type": "code",
   "execution_count": 3,
   "metadata": {},
   "outputs": [],
   "source": [
    "device = torch.device(\"cpu\")"
   ]
  },
  {
   "cell_type": "code",
   "execution_count": 10,
   "metadata": {},
   "outputs": [
    {
     "ename": "KeyboardInterrupt",
     "evalue": "",
     "output_type": "error",
     "traceback": [
      "\u001b[1;31m---------------------------------------------------------------------------\u001b[0m",
      "\u001b[1;31mKeyboardInterrupt\u001b[0m                         Traceback (most recent call last)",
      "\u001b[1;32mc:\\Uni\\Bachelor\\Code\\CIFAR.ipynb Cell 4'\u001b[0m in \u001b[0;36m<cell line: 9>\u001b[1;34m()\u001b[0m\n\u001b[0;32m      <a href='vscode-notebook-cell:/c%3A/Uni/Bachelor/Code/CIFAR.ipynb#ch0000002?line=2'>3</a>\u001b[0m layers \u001b[39m=\u001b[39m [\n\u001b[0;32m      <a href='vscode-notebook-cell:/c%3A/Uni/Bachelor/Code/CIFAR.ipynb#ch0000002?line=3'>4</a>\u001b[0m     (\u001b[39m\"\u001b[39m\u001b[39mdrop-preresnet-20\u001b[39m\u001b[39m\"\u001b[39m, (\u001b[39m32\u001b[39m, \u001b[39m3\u001b[39m, \u001b[39m10\u001b[39m, \u001b[39m0.1\u001b[39m)),\n\u001b[0;32m      <a href='vscode-notebook-cell:/c%3A/Uni/Bachelor/Code/CIFAR.ipynb#ch0000002?line=4'>5</a>\u001b[0m     (\u001b[39m\"\u001b[39m\u001b[39mlogsoftmax\u001b[39m\u001b[39m\"\u001b[39m, ())\n\u001b[0;32m      <a href='vscode-notebook-cell:/c%3A/Uni/Bachelor/Code/CIFAR.ipynb#ch0000002?line=5'>6</a>\u001b[0m ]\n\u001b[0;32m      <a href='vscode-notebook-cell:/c%3A/Uni/Bachelor/Code/CIFAR.ipynb#ch0000002?line=7'>8</a>\u001b[0m pp \u001b[39m=\u001b[39m MAP(layers)\n\u001b[1;32m----> <a href='vscode-notebook-cell:/c%3A/Uni/Bachelor/Code/CIFAR.ipynb#ch0000002?line=8'>9</a>\u001b[0m pp\u001b[39m.\u001b[39;49mtrain_model(\u001b[39m1\u001b[39;49m, torch\u001b[39m.\u001b[39;49mnn\u001b[39m.\u001b[39;49mNLLLoss(), sgd(\u001b[39m0.001\u001b[39;49m), trainloader, batch_size, device)\n",
      "File \u001b[1;32mc:\\Uni\\Bachelor\\Code\\training\\pp.py:33\u001b[0m, in \u001b[0;36mMAP.train_model\u001b[1;34m(self, epochs, loss_fn, optimizer_factory, loader, batch_size, device, report_every_epochs)\u001b[0m\n\u001b[0;32m     31\u001b[0m output \u001b[39m=\u001b[39m \u001b[39mself\u001b[39m\u001b[39m.\u001b[39mmodel(data)\n\u001b[0;32m     32\u001b[0m loss \u001b[39m=\u001b[39m loss_fn(output, target)\n\u001b[1;32m---> 33\u001b[0m loss\u001b[39m.\u001b[39;49mbackward()\n\u001b[0;32m     34\u001b[0m optimizer\u001b[39m.\u001b[39mstep()\n\u001b[0;32m     35\u001b[0m epoch_loss \u001b[39m+\u001b[39m\u001b[39m=\u001b[39m loss\u001b[39m.\u001b[39mcpu()\u001b[39m.\u001b[39mitem()\n",
      "File \u001b[1;32mc:\\Users\\flose\\anaconda3\\envs\\ml\\lib\\site-packages\\torch\\_tensor.py:363\u001b[0m, in \u001b[0;36mTensor.backward\u001b[1;34m(self, gradient, retain_graph, create_graph, inputs)\u001b[0m\n\u001b[0;32m    354\u001b[0m \u001b[39mif\u001b[39;00m has_torch_function_unary(\u001b[39mself\u001b[39m):\n\u001b[0;32m    355\u001b[0m     \u001b[39mreturn\u001b[39;00m handle_torch_function(\n\u001b[0;32m    356\u001b[0m         Tensor\u001b[39m.\u001b[39mbackward,\n\u001b[0;32m    357\u001b[0m         (\u001b[39mself\u001b[39m,),\n\u001b[1;32m   (...)\u001b[0m\n\u001b[0;32m    361\u001b[0m         create_graph\u001b[39m=\u001b[39mcreate_graph,\n\u001b[0;32m    362\u001b[0m         inputs\u001b[39m=\u001b[39minputs)\n\u001b[1;32m--> 363\u001b[0m torch\u001b[39m.\u001b[39;49mautograd\u001b[39m.\u001b[39;49mbackward(\u001b[39mself\u001b[39;49m, gradient, retain_graph, create_graph, inputs\u001b[39m=\u001b[39;49minputs)\n",
      "File \u001b[1;32mc:\\Users\\flose\\anaconda3\\envs\\ml\\lib\\site-packages\\torch\\autograd\\__init__.py:173\u001b[0m, in \u001b[0;36mbackward\u001b[1;34m(tensors, grad_tensors, retain_graph, create_graph, grad_variables, inputs)\u001b[0m\n\u001b[0;32m    168\u001b[0m     retain_graph \u001b[39m=\u001b[39m create_graph\n\u001b[0;32m    170\u001b[0m \u001b[39m# The reason we repeat same the comment below is that\u001b[39;00m\n\u001b[0;32m    171\u001b[0m \u001b[39m# some Python versions print out the first line of a multi-line function\u001b[39;00m\n\u001b[0;32m    172\u001b[0m \u001b[39m# calls in the traceback and some print out the last line\u001b[39;00m\n\u001b[1;32m--> 173\u001b[0m Variable\u001b[39m.\u001b[39;49m_execution_engine\u001b[39m.\u001b[39;49mrun_backward(  \u001b[39m# Calls into the C++ engine to run the backward pass\u001b[39;49;00m\n\u001b[0;32m    174\u001b[0m     tensors, grad_tensors_, retain_graph, create_graph, inputs,\n\u001b[0;32m    175\u001b[0m     allow_unreachable\u001b[39m=\u001b[39;49m\u001b[39mTrue\u001b[39;49;00m, accumulate_grad\u001b[39m=\u001b[39;49m\u001b[39mTrue\u001b[39;49;00m)\n",
      "\u001b[1;31mKeyboardInterrupt\u001b[0m: "
     ]
    }
   ],
   "source": [
    "from training.pp import MAP\n",
    "\n",
    "layers = [\n",
    "    (\"drop-preresnet-20\", (32, 3, 10, 0.1)),\n",
    "    (\"logsoftmax\", ())\n",
    "]\n",
    "\n",
    "pp = MAP(layers)\n",
    "pp.train_model(1, torch.nn.NLLLoss(), sgd(0.001), trainloader, batch_size, device)"
   ]
  }
 ],
 "metadata": {
  "kernelspec": {
   "display_name": "Python 3.9.12 ('ml')",
   "language": "python",
   "name": "python3"
  },
  "language_info": {
   "codemirror_mode": {
    "name": "ipython",
    "version": 3
   },
   "file_extension": ".py",
   "mimetype": "text/x-python",
   "name": "python",
   "nbconvert_exporter": "python",
   "pygments_lexer": "ipython3",
   "version": "3.9.12"
  },
  "orig_nbformat": 4,
  "vscode": {
   "interpreter": {
    "hash": "c9e773b02f1dd6d74aec0fbb026bf7021da64c0bea22e6784852927c22b8961f"
   }
  }
 },
 "nbformat": 4,
 "nbformat_minor": 2
}
