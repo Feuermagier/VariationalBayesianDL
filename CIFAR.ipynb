{
 "cells": [
  {
   "cell_type": "code",
   "execution_count": 11,
   "metadata": {},
   "outputs": [
    {
     "name": "stdout",
     "output_type": "stream",
     "text": [
      "The autoreload extension is already loaded. To reload it, use:\n",
      "  %reload_ext autoreload\n"
     ]
    }
   ],
   "source": [
    "%load_ext autoreload\n",
    "%autoreload 2\n",
    "\n",
    "import torch\n",
    "import matplotlib.pyplot as plt\n",
    "\n",
    "from training.util import sgd, plot_losses"
   ]
  },
  {
   "cell_type": "code",
   "execution_count": 4,
   "metadata": {},
   "outputs": [
    {
     "name": "stdout",
     "output_type": "stream",
     "text": [
      "Downloading https://www.cs.toronto.edu/~kriz/cifar-10-python.tar.gz to ./data\\cifar-10-python.tar.gz\n"
     ]
    },
    {
     "name": "stderr",
     "output_type": "stream",
     "text": [
      "170499072it [02:14, 1271066.24it/s]                               \n"
     ]
    },
    {
     "name": "stdout",
     "output_type": "stream",
     "text": [
      "Extracting ./data\\cifar-10-python.tar.gz to ./data\n",
      "Files already downloaded and verified\n"
     ]
    }
   ],
   "source": [
    "import experiments.base.cifar as cifar\n",
    "\n",
    "batch_size = 4\n",
    "trainloader = cifar.cifar10_trainloader(\"./data\", batch_size=batch_size)\n",
    "testloader = cifar.cifar10_testloader(\"./data\", batch_size=batch_size)"
   ]
  },
  {
   "cell_type": "code",
   "execution_count": 5,
   "metadata": {},
   "outputs": [],
   "source": [
    "device = torch.device(\"cuda\")"
   ]
  },
  {
   "cell_type": "code",
   "execution_count": 13,
   "metadata": {},
   "outputs": [
    {
     "name": "stdout",
     "output_type": "stream",
     "text": [
      "Epoch 0: loss 0.5237683057785034\n",
      "Epoch 1: loss 0.4709496796131134\n",
      "Epoch 2: loss 0.44889581203460693\n",
      "Epoch 3: loss 0.42979714274406433\n",
      "Epoch 4: loss 0.4085431694984436\n",
      "Final loss 0.4085431694984436\n"
     ]
    }
   ],
   "source": [
    "from training.pp import MAP\n",
    "\n",
    "layers = [\n",
    "    (\"drop-preresnet-20\", (32, 3, 10, 0.1)),\n",
    "    (\"logsoftmax\", ())\n",
    "]\n",
    "\n",
    "pp = MAP(layers)\n",
    "pp.train_model(5, torch.nn.NLLLoss(), sgd(0.001), trainloader, batch_size, device)"
   ]
  },
  {
   "cell_type": "code",
   "execution_count": 14,
   "metadata": {},
   "outputs": [
    {
     "name": "stdout",
     "output_type": "stream",
     "text": [
      " Accuracy: 0.5169000029563904\n",
      " ECE: 0.18702261159867048\n"
     ]
    },
    {
     "data": {
      "text/plain": [
       "(tensor(0.5169),\n",
       " <training.calibration.ClassificationCalibrationResults at 0x17784c06850>)"
      ]
     },
     "execution_count": 14,
     "metadata": {},
     "output_type": "execute_result"
    }
   ],
   "source": [
    "import experiments.base.multiclass_classification as exp\n",
    "\n",
    "exp.eval_model(pp, 5, testloader, device)"
   ]
  },
  {
   "cell_type": "code",
   "execution_count": 15,
   "metadata": {},
   "outputs": [
    {
     "data": {
      "image/png": "[encoded data removed]",
      "text/plain": [
       "<Figure size 432x288 with 1 Axes>"
      ]
     },
     "metadata": {
      "needs_background": "light"
     },
     "output_type": "display_data"
    }
   ],
   "source": [
    "plot_losses(\"MAP\", pp.all_losses(), plt.subplot())"
   ]
  }
 ],
 "metadata": {
  "interpreter": {
   "hash": "51fc4eb58dbd55c06f237a8a86b2df01011452f8649a8d560e5af7794de178d4"
  },
  "kernelspec": {
   "display_name": "Python 3.8.12 ('ml')",
   "language": "python",
   "name": "python3"
  },
  "language_info": {
   "codemirror_mode": {
    "name": "ipython",
    "version": 3
   },
   "file_extension": ".py",
   "mimetype": "text/x-python",
   "name": "python",
   "nbconvert_exporter": "python",
   "pygments_lexer": "ipython3",
   "version": "3.8.12"
  },
  "orig_nbformat": 4,
  "vscode": {
   "interpreter": {
    "hash": "c9e773b02f1dd6d74aec0fbb026bf7021da64c0bea22e6784852927c22b8961f"
   }
  }
 },
 "nbformat": 4,
 "nbformat_minor": 2
}
