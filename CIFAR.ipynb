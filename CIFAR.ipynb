{
 "cells": [
  {
   "cell_type": "code",
   "execution_count": 1,
   "metadata": {},
   "outputs": [
    {
     "name": "stderr",
     "output_type": "stream",
     "text": [
      "/home/flo/anaconda3/envs/bdl2/lib/python3.9/site-packages/tqdm/auto.py:22: TqdmWarning: IProgress not found. Please update jupyter and ipywidgets. See https://ipywidgets.readthedocs.io/en/stable/user_install.html\n",
      "  from .autonotebook import tqdm as notebook_tqdm\n"
     ]
    }
   ],
   "source": [
    "%load_ext autoreload\n",
    "%autoreload 2\n",
    "\n",
    "import torch\n",
    "import matplotlib.pyplot as plt\n",
    "\n",
    "from training.util import sgd, plot_losses, adam, lr_scheduler, wilson_scheduler"
   ]
  },
  {
   "cell_type": "code",
   "execution_count": 2,
   "metadata": {},
   "outputs": [],
   "source": [
    "device = torch.device(\"cuda\")"
   ]
  },
  {
   "cell_type": "code",
   "execution_count": 3,
   "metadata": {},
   "outputs": [],
   "source": [
    "import experiments.base.cifar as cifar\n",
    "\n",
    "batch_size = 128\n",
    "trainloader = cifar.cifar10_trainloader(\"/mnt/d/Uni/Bachelorarbeit/linux/data/\", batch_size=batch_size, subsample=5000)\n",
    "testloader = cifar.cifar10_testloader(\"/mnt/d/Uni/Bachelorarbeit/linux/data/\", batch_size=batch_size)\n",
    "#stl_testloader = cifar.stl10_testloader(\"/mnt/d/Uni/Bachelorarbeit/linux/data/\", batch_size=128)"
   ]
  },
  {
   "cell_type": "code",
   "execution_count": 7,
   "metadata": {},
   "outputs": [
    {
     "ename": "",
     "evalue": "",
     "output_type": "error",
     "traceback": [
      "\u001b[1;31mCanceled future for execute_request message before replies were done"
     ]
    },
    {
     "ename": "",
     "evalue": "",
     "output_type": "error",
     "traceback": [
      "\u001b[1;31mThe Kernel crashed while executing code in the the current cell or a previous cell. Please review the code in the cell(s) to identify a possible cause of the failure. Click <a href='https://aka.ms/vscodeJupyterKernelCrash'>here</a> for more info. View Jupyter <a href='command:jupyter.viewOutput'>log</a> for further details."
     ]
    }
   ],
   "source": [
    "import experiments.base.cifar as cifar\n",
    "corrupted_testloader = cifar.cifar10_corrupted_testloader(\"/mnt/d/Uni/Bachelorarbeit/linux/data/\", intensity=4, batch_size=128)"
   ]
  },
  {
   "cell_type": "code",
   "execution_count": 4,
   "metadata": {},
   "outputs": [
    {
     "name": "stdout",
     "output_type": "stream",
     "text": [
      "Epoch 0: loss 2.01584792137146\n",
      "Epoch 1: loss 1.7863575220108032\n",
      "Epoch 2: loss 1.6391899585723877\n",
      "Epoch 3: loss 1.5623986721038818\n",
      "Epoch 4: loss 1.491809368133545\n",
      "Epoch 5: loss 1.3847906589508057\n",
      "Epoch 6: loss 1.335707426071167\n",
      "Epoch 7: loss 1.2436728477478027\n",
      "Epoch 8: loss 1.1986472606658936\n",
      "Epoch 9: loss 1.2174004316329956\n",
      "Epoch 10: loss 1.1391068696975708\n",
      "Epoch 11: loss 1.0604826211929321\n",
      "Epoch 12: loss 1.0955108404159546\n",
      "Epoch 13: loss 1.040108323097229\n",
      "Epoch 14: loss 0.9668388366699219\n",
      "Epoch 15: loss 0.9387396574020386\n",
      "Epoch 16: loss 0.8718662261962891\n",
      "Epoch 17: loss 0.86735999584198\n",
      "Epoch 18: loss 1.076339840888977\n",
      "Epoch 19: loss 0.9016361236572266\n",
      "Epoch 20: loss 0.8792597055435181\n",
      "Epoch 21: loss 0.931921660900116\n",
      "Epoch 22: loss 0.8573635220527649\n",
      "Epoch 23: loss 0.8128498792648315\n",
      "Epoch 24: loss 0.7687486410140991\n",
      "Epoch 25: loss 0.7544850707054138\n",
      "Epoch 26: loss 0.7607107162475586\n",
      "Epoch 27: loss 0.8008245229721069\n",
      "Epoch 28: loss 0.82341468334198\n",
      "Epoch 29: loss 0.7128819227218628\n",
      "Final loss 0.7128819227218628\n"
     ]
    },
    {
     "data": {
      "text/plain": [
       "MAP(\n",
       "  (model): Sequential(\n",
       "    (0): PreResNet(\n",
       "      (model): Sequential(\n",
       "        (0): Conv2d(3, 16, kernel_size=(3, 3), stride=(1, 1), padding=(1, 1))\n",
       "        (1): PreBasicBlock(\n",
       "          (main_path): Sequential(\n",
       "            (0): BatchNorm2d(16, eps=1e-05, momentum=0.1, affine=True, track_running_stats=False)\n",
       "            (1): ReLU()\n",
       "            (2): Conv2d(16, 16, kernel_size=(3, 3), stride=(1, 1), padding=(1, 1), bias=False)\n",
       "            (3): BatchNorm2d(16, eps=1e-05, momentum=0.1, affine=True, track_running_stats=False)\n",
       "            (4): ReLU()\n",
       "            (5): Conv2d(16, 16, kernel_size=(3, 3), stride=(1, 1), padding=(1, 1), bias=False)\n",
       "          )\n",
       "          (skip_path): Identity()\n",
       "        )\n",
       "        (2): PreBasicBlock(\n",
       "          (main_path): Sequential(\n",
       "            (0): BatchNorm2d(16, eps=1e-05, momentum=0.1, affine=True, track_running_stats=False)\n",
       "            (1): ReLU()\n",
       "            (2): Conv2d(16, 16, kernel_size=(3, 3), stride=(1, 1), padding=(1, 1), bias=False)\n",
       "            (3): BatchNorm2d(16, eps=1e-05, momentum=0.1, affine=True, track_running_stats=False)\n",
       "            (4): ReLU()\n",
       "            (5): Conv2d(16, 16, kernel_size=(3, 3), stride=(1, 1), padding=(1, 1), bias=False)\n",
       "          )\n",
       "          (skip_path): Identity()\n",
       "        )\n",
       "        (3): PreBasicBlock(\n",
       "          (main_path): Sequential(\n",
       "            (0): BatchNorm2d(16, eps=1e-05, momentum=0.1, affine=True, track_running_stats=False)\n",
       "            (1): ReLU()\n",
       "            (2): Conv2d(16, 16, kernel_size=(3, 3), stride=(1, 1), padding=(1, 1), bias=False)\n",
       "            (3): BatchNorm2d(16, eps=1e-05, momentum=0.1, affine=True, track_running_stats=False)\n",
       "            (4): ReLU()\n",
       "            (5): Conv2d(16, 16, kernel_size=(3, 3), stride=(1, 1), padding=(1, 1), bias=False)\n",
       "          )\n",
       "          (skip_path): Identity()\n",
       "        )\n",
       "        (4): PreBasicBlock(\n",
       "          (main_path): Sequential(\n",
       "            (0): BatchNorm2d(16, eps=1e-05, momentum=0.1, affine=True, track_running_stats=False)\n",
       "            (1): ReLU()\n",
       "            (2): Conv2d(16, 32, kernel_size=(3, 3), stride=(2, 2), padding=(1, 1), bias=False)\n",
       "            (3): BatchNorm2d(32, eps=1e-05, momentum=0.1, affine=True, track_running_stats=False)\n",
       "            (4): ReLU()\n",
       "            (5): Conv2d(32, 32, kernel_size=(3, 3), stride=(1, 1), padding=(1, 1), bias=False)\n",
       "          )\n",
       "          (skip_path): Conv2d(16, 32, kernel_size=(1, 1), stride=(2, 2), bias=False)\n",
       "        )\n",
       "        (5): PreBasicBlock(\n",
       "          (main_path): Sequential(\n",
       "            (0): BatchNorm2d(32, eps=1e-05, momentum=0.1, affine=True, track_running_stats=False)\n",
       "            (1): ReLU()\n",
       "            (2): Conv2d(32, 32, kernel_size=(3, 3), stride=(1, 1), padding=(1, 1), bias=False)\n",
       "            (3): BatchNorm2d(32, eps=1e-05, momentum=0.1, affine=True, track_running_stats=False)\n",
       "            (4): ReLU()\n",
       "            (5): Conv2d(32, 32, kernel_size=(3, 3), stride=(1, 1), padding=(1, 1), bias=False)\n",
       "          )\n",
       "          (skip_path): Identity()\n",
       "        )\n",
       "        (6): PreBasicBlock(\n",
       "          (main_path): Sequential(\n",
       "            (0): BatchNorm2d(32, eps=1e-05, momentum=0.1, affine=True, track_running_stats=False)\n",
       "            (1): ReLU()\n",
       "            (2): Conv2d(32, 32, kernel_size=(3, 3), stride=(1, 1), padding=(1, 1), bias=False)\n",
       "            (3): BatchNorm2d(32, eps=1e-05, momentum=0.1, affine=True, track_running_stats=False)\n",
       "            (4): ReLU()\n",
       "            (5): Conv2d(32, 32, kernel_size=(3, 3), stride=(1, 1), padding=(1, 1), bias=False)\n",
       "          )\n",
       "          (skip_path): Identity()\n",
       "        )\n",
       "        (7): PreBasicBlock(\n",
       "          (main_path): Sequential(\n",
       "            (0): BatchNorm2d(32, eps=1e-05, momentum=0.1, affine=True, track_running_stats=False)\n",
       "            (1): ReLU()\n",
       "            (2): Conv2d(32, 64, kernel_size=(3, 3), stride=(2, 2), padding=(1, 1), bias=False)\n",
       "            (3): BatchNorm2d(64, eps=1e-05, momentum=0.1, affine=True, track_running_stats=False)\n",
       "            (4): ReLU()\n",
       "            (5): Conv2d(64, 64, kernel_size=(3, 3), stride=(1, 1), padding=(1, 1), bias=False)\n",
       "          )\n",
       "          (skip_path): Conv2d(32, 64, kernel_size=(1, 1), stride=(2, 2), bias=False)\n",
       "        )\n",
       "        (8): PreBasicBlock(\n",
       "          (main_path): Sequential(\n",
       "            (0): BatchNorm2d(64, eps=1e-05, momentum=0.1, affine=True, track_running_stats=False)\n",
       "            (1): ReLU()\n",
       "            (2): Conv2d(64, 64, kernel_size=(3, 3), stride=(1, 1), padding=(1, 1), bias=False)\n",
       "            (3): BatchNorm2d(64, eps=1e-05, momentum=0.1, affine=True, track_running_stats=False)\n",
       "            (4): ReLU()\n",
       "            (5): Conv2d(64, 64, kernel_size=(3, 3), stride=(1, 1), padding=(1, 1), bias=False)\n",
       "          )\n",
       "          (skip_path): Identity()\n",
       "        )\n",
       "        (9): PreBasicBlock(\n",
       "          (main_path): Sequential(\n",
       "            (0): BatchNorm2d(64, eps=1e-05, momentum=0.1, affine=True, track_running_stats=False)\n",
       "            (1): ReLU()\n",
       "            (2): Conv2d(64, 64, kernel_size=(3, 3), stride=(1, 1), padding=(1, 1), bias=False)\n",
       "            (3): BatchNorm2d(64, eps=1e-05, momentum=0.1, affine=True, track_running_stats=False)\n",
       "            (4): ReLU()\n",
       "            (5): Conv2d(64, 64, kernel_size=(3, 3), stride=(1, 1), padding=(1, 1), bias=False)\n",
       "          )\n",
       "          (skip_path): Identity()\n",
       "        )\n",
       "        (10): BatchNorm2d(64, eps=1e-05, momentum=0.1, affine=True, track_running_stats=False)\n",
       "        (11): ReLU()\n",
       "        (12): AvgPool2d(kernel_size=8, stride=8, padding=0)\n",
       "        (13): Flatten(start_dim=1, end_dim=-1)\n",
       "        (14): Linear(in_features=64, out_features=10, bias=True)\n",
       "      )\n",
       "    )\n",
       "    (1): LogSoftmax(dim=1)\n",
       "  )\n",
       ")"
      ]
     },
     "execution_count": 4,
     "metadata": {},
     "output_type": "execute_result"
    }
   ],
   "source": [
    "from training.pp import MAP\n",
    "from training.swag import SwagModel\n",
    "\n",
    "layers = [\n",
    "    (\"preresnet-20\", (32, 3, 10)),\n",
    "    (\"logsoftmax\", ())\n",
    "]\n",
    "\n",
    "config = {\n",
    "    \"deviation_samples\": 30,\n",
    "    \"mean_samples\": 100,\n",
    "    \"start_epoch\": 161\n",
    "}\n",
    "\n",
    "model = MAP(layers)\n",
    "\n",
    "model.train_model(30, torch.nn.NLLLoss(), sgd(1e-1, weight_decay=3e-4, momentum=0.9, nesterov=True), trainloader, batch_size, device, scheduler_factory=wilson_scheduler(161, 0.1, None))\n",
    "#model.load_state_dict(torch.load(\"/mnt/d/Uni/Bachelorarbeit/results/CIFAR10/2/results/MAP/log/rep_00model.tar\"))\n",
    "model.to(device)"
   ]
  },
  {
   "cell_type": "code",
   "execution_count": 5,
   "metadata": {},
   "outputs": [
    {
     "name": "stdout",
     "output_type": "stream",
     "text": [
      " Accuracy: 0.5697000026702881\n",
      " Avg Log Likelihood: -1.3590730428695679\n",
      " Avg Likelihood: 0.5061303973197937\n",
      " ECE: 0.14759075942486524\n"
     ]
    },
    {
     "data": {
      "text/plain": [
       "(tensor(0.5697),\n",
       " tensor(-1.3591),\n",
       " tensor(0.5061),\n",
       " <training.calibration.ClassificationCalibrationResults at 0x7fd4b9326f70>)"
      ]
     },
     "execution_count": 5,
     "metadata": {},
     "output_type": "execute_result"
    }
   ],
   "source": [
    "import experiments.base.multiclass_classification as exp\n",
    "\n",
    "exp.eval_model(model, 5, testloader, device)"
   ]
  },
  {
   "cell_type": "code",
   "execution_count": 5,
   "metadata": {},
   "outputs": [
    {
     "name": "stdout",
     "output_type": "stream",
     "text": [
      "Epoch 0: loss 0.017442939803004265\n",
      "Epoch 1: loss 0.01576991006731987\n",
      "Epoch 2: loss 0.014974778518080711\n",
      "Epoch 3: loss 0.014475700445473194\n",
      "Epoch 4: loss 0.014159495010972023\n",
      "Epoch 5: loss 0.013932622969150543\n",
      "Epoch 6: loss 0.01374245434999466\n",
      "Epoch 7: loss 0.013229833915829659\n",
      "Epoch 8: loss 0.012925120070576668\n",
      "Epoch 9: loss 0.012771576642990112\n",
      "Epoch 10: loss 0.012399147264659405\n",
      "Epoch 11: loss 0.012389701791107655\n",
      "Epoch 12: loss 0.01197140384465456\n",
      "Epoch 13: loss 0.01222048420459032\n",
      "Epoch 14: loss 0.011660674586892128\n",
      "Epoch 15: loss 0.011697755195200443\n",
      "Epoch 16: loss 0.011239136569201946\n",
      "Epoch 17: loss 0.01122136041522026\n",
      "Epoch 18: loss 0.01112551148980856\n",
      "Epoch 19: loss 0.01108136959373951\n",
      "Epoch 20: loss 0.010432997718453407\n",
      "Epoch 21: loss 0.010588743723928928\n",
      "Epoch 22: loss 0.010188398882746696\n",
      "Epoch 23: loss 0.010154985822737217\n",
      "Epoch 24: loss 0.00992424413561821\n",
      "Epoch 25: loss 0.009830254130065441\n",
      "Epoch 26: loss 0.009538568556308746\n",
      "Epoch 27: loss 0.009470631368458271\n",
      "Epoch 28: loss 0.009296776726841927\n",
      "Epoch 29: loss 0.009190287441015244\n",
      "Epoch 30: loss 0.0088572409003973\n",
      "Epoch 31: loss 0.009111408144235611\n",
      "Epoch 32: loss 0.00870222132652998\n",
      "Epoch 33: loss 0.008520189672708511\n",
      "Epoch 34: loss 0.008609234355390072\n",
      "Epoch 35: loss 0.008274275809526443\n",
      "Epoch 36: loss 0.008169643580913544\n",
      "Epoch 37: loss 0.008151928894221783\n",
      "Epoch 38: loss 0.0077774981036782265\n",
      "Epoch 39: loss 0.007450914476066828\n",
      "Epoch 40: loss 0.007419738918542862\n",
      "Epoch 41: loss 0.007509235292673111\n",
      "Epoch 42: loss 0.007346654776483774\n",
      "Epoch 43: loss 0.007594960276037455\n",
      "Epoch 44: loss 0.007523738779127598\n",
      "Epoch 45: loss 0.007087986916303635\n",
      "Epoch 46: loss 0.006996080279350281\n",
      "Epoch 47: loss 0.007074522785842419\n",
      "Epoch 48: loss 0.007022477686405182\n",
      "Epoch 49: loss 0.007043270859867334\n",
      "Epoch 50: loss 0.007650996092706919\n",
      "Epoch 51: loss 0.006540268659591675\n",
      "Epoch 52: loss 0.006606134120374918\n",
      "Epoch 53: loss 0.006869577802717686\n",
      "Epoch 54: loss 0.00633727153763175\n",
      "Epoch 55: loss 0.006402068771421909\n",
      "Epoch 56: loss 0.006674575619399548\n",
      "Epoch 57: loss 0.006133296526968479\n",
      "Epoch 58: loss 0.006305932067334652\n",
      "Epoch 59: loss 0.006261956878006458\n",
      "Epoch 60: loss 0.006175203248858452\n",
      "Epoch 61: loss 0.0062546455301344395\n",
      "Epoch 62: loss 0.005802042782306671\n",
      "Epoch 63: loss 0.005989053286612034\n",
      "Epoch 64: loss 0.005788707640022039\n",
      "Epoch 65: loss 0.005915263667702675\n",
      "Epoch 66: loss 0.00637959036976099\n",
      "Epoch 67: loss 0.005881012883037329\n",
      "Epoch 68: loss 0.005865300074219704\n",
      "Epoch 69: loss 0.005601729266345501\n",
      "Epoch 70: loss 0.005748800002038479\n",
      "Epoch 71: loss 0.005732889287173748\n",
      "Epoch 72: loss 0.0066428519785404205\n",
      "Epoch 73: loss 0.005609471350908279\n",
      "Epoch 74: loss 0.006123497616499662\n",
      "Epoch 75: loss 0.0060340650379657745\n",
      "Epoch 76: loss 0.005432506091892719\n",
      "Epoch 77: loss 0.005299591459333897\n",
      "Epoch 78: loss 0.005316413007676601\n",
      "Epoch 79: loss 0.005327953957021236\n",
      "Epoch 80: loss 0.004947824403643608\n",
      "Epoch 81: loss 0.004309157840907574\n",
      "Epoch 82: loss 0.004325164947658777\n",
      "Epoch 83: loss 0.004194325301796198\n",
      "Epoch 84: loss 0.004218648187816143\n",
      "Epoch 85: loss 0.0042109498754143715\n",
      "Epoch 86: loss 0.004140189848840237\n",
      "Epoch 87: loss 0.004242569208145142\n",
      "Epoch 88: loss 0.004061245359480381\n",
      "Epoch 89: loss 0.004119858145713806\n",
      "Epoch 90: loss 0.0040228781290352345\n",
      "Epoch 91: loss 0.00404008012264967\n",
      "Epoch 92: loss 0.004118133801966906\n",
      "Epoch 93: loss 0.003983770497143269\n",
      "Epoch 94: loss 0.004028781317174435\n",
      "Epoch 95: loss 0.0038499520160257816\n",
      "Epoch 96: loss 0.004021904431283474\n",
      "Epoch 97: loss 0.003908342216163874\n",
      "Epoch 98: loss 0.003847100306302309\n",
      "Epoch 99: loss 0.003940431866794825\n",
      "Epoch 100: loss 0.0038938666693866253\n",
      "Epoch 101: loss 0.00392437819391489\n",
      "Epoch 102: loss 0.0038140148390084505\n",
      "Epoch 103: loss 0.003929463680833578\n",
      "Epoch 104: loss 0.003930908627808094\n",
      "Epoch 105: loss 0.0038546775467693806\n",
      "Epoch 106: loss 0.003849926171824336\n",
      "Epoch 107: loss 0.003966412041336298\n",
      "Epoch 108: loss 0.003801608458161354\n",
      "Epoch 109: loss 0.003779713064432144\n",
      "Epoch 110: loss 0.0037682843394577503\n",
      "Epoch 111: loss 0.003718837397173047\n",
      "Epoch 112: loss 0.0038789354730397463\n",
      "Epoch 113: loss 0.0037960566114634275\n",
      "Epoch 114: loss 0.003742524655535817\n",
      "Epoch 115: loss 0.0038464299868792295\n",
      "Epoch 116: loss 0.003792980220168829\n",
      "Epoch 117: loss 0.0037871277891099453\n",
      "Epoch 118: loss 0.003812589216977358\n",
      "Epoch 119: loss 0.003772097174078226\n",
      "Final loss 0.003772097174078226\n"
     ]
    }
   ],
   "source": [
    "from training.bbb import BBBModel, GaussianPrior\n",
    "\n",
    "prior = GaussianPrior(torch.tensor(0), torch.tensor(1))\n",
    "layers = [\n",
    "    (\"variational-preresnet-20\", (32, 3, 10, prior)),\n",
    "    (\"logsoftmax\", ())\n",
    "]\n",
    "\n",
    "model = BBBModel(layers)\n",
    "\n",
    "model.train_model(120, torch.nn.NLLLoss(), sgd(5e-1), trainloader, batch_size, device, scheduler_factory=lr_scheduler([80, 120], 0.1), mc_samples=2, kl_rescaling=0.5)"
   ]
  },
  {
   "cell_type": "code",
   "execution_count": null,
   "metadata": {},
   "outputs": [
    {
     "name": "stdout",
     "output_type": "stream",
     "text": [
      "tensor(0.5264)\n",
      " Accuracy: 0.37957367300987244\n",
      " Avg Log Likelihood: -2.0528364181518555\n",
      " Avg Likelihood: 0.30053094029426575\n",
      " ECE: 0.146800649462405\n"
     ]
    },
    {
     "data": {
      "text/plain": [
       "(tensor(0.3796),\n",
       " tensor(-2.0528),\n",
       " tensor(0.3005),\n",
       " <training.calibration.ClassificationCalibrationResults at 0x7fcc00161f70>)"
      ]
     },
     "execution_count": 22,
     "metadata": {},
     "output_type": "execute_result"
    }
   ],
   "source": [
    "import experiments.base.multiclass_classification as exp\n",
    "\n",
    "model.to(device)\n",
    "exp.eval_model(model, 5, corrupted_testloader, device)"
   ]
  },
  {
   "cell_type": "code",
   "execution_count": 6,
   "metadata": {},
   "outputs": [
    {
     "name": "stdout",
     "output_type": "stream",
     "text": [
      " Accuracy: 0.6556000113487244\n",
      " Avg Log Likelihood: -1.1313354969024658\n",
      " Avg Likelihood: 0.5835703611373901\n",
      " ECE: 0.08731313892900944\n"
     ]
    },
    {
     "data": {
      "text/plain": [
       "(tensor(0.6556),\n",
       " tensor(-1.1313),\n",
       " tensor(0.5836),\n",
       " <training.calibration.ClassificationCalibrationResults at 0x7f272b4afb20>)"
      ]
     },
     "execution_count": 6,
     "metadata": {},
     "output_type": "execute_result"
    }
   ],
   "source": [
    "import experiments.base.multiclass_classification as exp\n",
    "\n",
    "exp.eval_model(model, 5, testloader, device)"
   ]
  },
  {
   "cell_type": "code",
   "execution_count": 12,
   "metadata": {},
   "outputs": [
    {
     "name": "stdout",
     "output_type": "stream",
     "text": [
      "Epoch 0: loss 2.322486400604248\n",
      "Epoch 1: loss 2.2293519973754883\n",
      "Epoch 2: loss 2.1148295402526855\n",
      "Epoch 3: loss 2.0080552101135254\n",
      "Epoch 4: loss 1.9212322235107422\n",
      "Epoch 5: loss 1.8644816875457764\n",
      "Epoch 6: loss 1.8036220073699951\n",
      "Epoch 7: loss 1.740602731704712\n",
      "Epoch 8: loss 1.6903257369995117\n",
      "Epoch 9: loss 1.631131887435913\n",
      "Epoch 10: loss 1.6411035060882568\n",
      "Epoch 11: loss 1.5491024255752563\n",
      "Epoch 12: loss 1.5200889110565186\n",
      "Epoch 13: loss 1.4638519287109375\n",
      "Epoch 14: loss 1.3991161584854126\n",
      "Epoch 15: loss 1.3818433284759521\n",
      "Epoch 16: loss 1.3647655248641968\n",
      "Epoch 17: loss 1.305882453918457\n",
      "Epoch 18: loss 1.2848832607269287\n",
      "Epoch 19: loss 1.1919400691986084\n",
      "Epoch 20: loss 1.1599993705749512\n",
      "Epoch 21: loss 1.1131497621536255\n",
      "Epoch 22: loss 1.072029948234558\n",
      "Epoch 23: loss 1.048135757446289\n",
      "Epoch 24: loss 1.0308061838150024\n",
      "Epoch 25: loss 1.0475828647613525\n",
      "Epoch 26: loss 1.02964186668396\n",
      "Epoch 27: loss 1.036400556564331\n",
      "Epoch 28: loss 1.0408293008804321\n",
      "Epoch 29: loss 1.040759801864624\n",
      "Final loss 1.040759801864624\n"
     ]
    }
   ],
   "source": [
    "from training.pp import MAP\n",
    "from training.vogn import iVONModuleFunctorch, VOGNModule\n",
    "\n",
    "layers = [\n",
    "    (\"preresnet-20\", (32, 3, 10)),\n",
    "    (\"logsoftmax\", ())\n",
    "]\n",
    "\n",
    "ivon_model = iVONModuleFunctorch(layers)\n",
    "ivon_model.train_model(30, torch.nn.NLLLoss(), {\"lr\": 1e-1, \"prior_prec\": 10, \"betas\": (0.9, 0.999), \"damping\": 1e-3, \"augmentation\": 5, \"sample\": True}, trainloader, batch_size, device, scheduler=wilson_scheduler(30, 1e-1, None, functional=True), mc_samples=2)"
   ]
  },
  {
   "cell_type": "code",
   "execution_count": 10,
   "metadata": {},
   "outputs": [
    {
     "name": "stdout",
     "output_type": "stream",
     "text": [
      " Accuracy: 0.5978000164031982\n",
      " Avg Log Likelihood: -1.1531397104263306\n",
      " Avg Likelihood: 0.4726247489452362\n",
      " ECE: 0.017649967695772647\n"
     ]
    },
    {
     "data": {
      "text/plain": [
       "(tensor(0.5978),\n",
       " tensor(-1.1531),\n",
       " tensor(0.4726),\n",
       " <training.calibration.ClassificationCalibrationResults at 0x7fd4a1843940>)"
      ]
     },
     "execution_count": 10,
     "metadata": {},
     "output_type": "execute_result"
    }
   ],
   "source": [
    "import experiments.base.multiclass_classification as exp\n",
    "\n",
    "model.to(device)\n",
    "exp.eval_model(model, 5, testloader, device)"
   ]
  },
  {
   "cell_type": "code",
   "execution_count": 7,
   "metadata": {},
   "outputs": [
    {
     "data": {
      "image/png": "[encoded data removed]",
      "text/plain": [
       "<Figure size 432x288 with 1 Axes>"
      ]
     },
     "metadata": {
      "needs_background": "light"
     },
     "output_type": "display_data"
    }
   ],
   "source": [
    "plot_losses(\"MAP\", model.all_losses(), plt.subplot())"
   ]
  }
 ],
 "metadata": {
  "kernelspec": {
   "display_name": "Python 3.9.12 ('bdl2')",
   "language": "python",
   "name": "python3"
  },
  "language_info": {
   "codemirror_mode": {
    "name": "ipython",
    "version": 3
   },
   "file_extension": ".py",
   "mimetype": "text/x-python",
   "name": "python",
   "nbconvert_exporter": "python",
   "pygments_lexer": "ipython3",
   "version": "3.9.12"
  },
  "orig_nbformat": 4,
  "vscode": {
   "interpreter": {
    "hash": "dcfaf3907fb5ccaba69729c1b2eca8858ecf7d628290008c66c1f9d42d557f9b"
   }
  }
 },
 "nbformat": 4,
 "nbformat_minor": 2
}
