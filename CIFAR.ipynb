{
 "cells": [
  {
   "cell_type": "code",
   "execution_count": 1,
   "metadata": {},
   "outputs": [
    {
     "name": "stderr",
     "output_type": "stream",
     "text": [
      "/home/flo/anaconda3/envs/bdl2/lib/python3.9/site-packages/tqdm/auto.py:22: TqdmWarning: IProgress not found. Please update jupyter and ipywidgets. See https://ipywidgets.readthedocs.io/en/stable/user_install.html\n",
      "  from .autonotebook import tqdm as notebook_tqdm\n"
     ]
    }
   ],
   "source": [
    "%load_ext autoreload\n",
    "%autoreload 2\n",
    "\n",
    "import torch\n",
    "import matplotlib.pyplot as plt\n",
    "\n",
    "from training.util import sgd, plot_losses, adam, lr_scheduler"
   ]
  },
  {
   "cell_type": "code",
   "execution_count": 2,
   "metadata": {},
   "outputs": [
    {
     "name": "stdout",
     "output_type": "stream",
     "text": [
      "Files already downloaded and verified\n",
      "Files already downloaded and verified\n"
     ]
    }
   ],
   "source": [
    "import experiments.base.cifar as cifar\n",
    "\n",
    "batch_size = 128\n",
    "trainloader = cifar.cifar10_trainloader(\"/mnt/d/Uni/Bachelorarbeit/linux/data/\", batch_size=batch_size, subsample=5000)\n",
    "testloader = cifar.cifar10_testloader(\"/mnt/d/Uni/Bachelorarbeit/linux/data/\", batch_size=batch_size)"
   ]
  },
  {
   "cell_type": "code",
   "execution_count": 3,
   "metadata": {},
   "outputs": [],
   "source": [
    "device = torch.device(\"cuda\")"
   ]
  },
  {
   "cell_type": "code",
   "execution_count": null,
   "metadata": {},
   "outputs": [],
   "source": [
    "import experiments.base.cifar as cifar\n",
    "corrupted_testloader = cifar.cifar10_corrupted_testloader(\"/mnt/d/Uni/Bachelorarbeit/linux/data/\", intensity=4, batch_size=128)"
   ]
  },
  {
   "cell_type": "code",
   "execution_count": 83,
   "metadata": {},
   "outputs": [
    {
     "name": "stdout",
     "output_type": "stream",
     "text": [
      "Epoch 0: loss 1.5686306953430176\n",
      "Epoch 1: loss 1.0529301166534424\n",
      "Epoch 2: loss 0.8770422339439392\n",
      "Epoch 3: loss 0.7610902190208435\n",
      "Epoch 4: loss 0.6916517019271851\n",
      "Epoch 5: loss 0.6315617561340332\n",
      "Epoch 6: loss 0.5899832844734192\n",
      "Epoch 7: loss 0.5543512105941772\n",
      "Epoch 8: loss 0.5241886377334595\n",
      "Epoch 9: loss 0.5046862363815308\n",
      "Epoch 10: loss 0.4847290813922882\n",
      "Epoch 11: loss 0.469944566488266\n",
      "Epoch 12: loss 0.45551446080207825\n",
      "Epoch 13: loss 0.4400014579296112\n",
      "Epoch 14: loss 0.42673036456108093\n",
      "Epoch 15: loss 0.41807594895362854\n",
      "Epoch 16: loss 0.406505823135376\n",
      "Epoch 17: loss 0.4007037281990051\n",
      "Epoch 18: loss 0.3915717601776123\n",
      "Epoch 19: loss 0.38174712657928467\n",
      "Epoch 20: loss 0.37116727232933044\n",
      "Epoch 21: loss 0.36761578917503357\n",
      "Epoch 22: loss 0.35726451873779297\n",
      "Epoch 23: loss 0.3546295166015625\n",
      "Epoch 24: loss 0.3455597162246704\n",
      "Epoch 25: loss 0.3465329110622406\n",
      "Epoch 26: loss 0.3442169725894928\n",
      "Epoch 27: loss 0.33451539278030396\n",
      "Epoch 28: loss 0.33069756627082825\n",
      "Epoch 29: loss 0.3281502425670624\n",
      "Epoch 30: loss 0.3219841420650482\n",
      "Epoch 31: loss 0.3251621723175049\n",
      "Epoch 32: loss 0.3138786256313324\n",
      "Epoch 33: loss 0.31223616003990173\n",
      "Epoch 34: loss 0.3167276978492737\n",
      "Epoch 35: loss 0.3122183382511139\n",
      "Epoch 36: loss 0.30653735995292664\n",
      "Epoch 37: loss 0.30338677763938904\n",
      "Epoch 38: loss 0.30178484320640564\n",
      "Epoch 39: loss 0.30186647176742554\n",
      "Epoch 40: loss 0.29577505588531494\n",
      "Epoch 41: loss 0.29512885212898254\n",
      "Epoch 42: loss 0.29360300302505493\n",
      "Epoch 43: loss 0.29008013010025024\n",
      "Epoch 44: loss 0.29023244976997375\n",
      "Epoch 45: loss 0.29242369532585144\n",
      "Epoch 46: loss 0.28079038858413696\n",
      "Epoch 47: loss 0.2806015610694885\n",
      "Epoch 48: loss 0.28043147921562195\n",
      "Epoch 49: loss 0.27785369753837585\n",
      "Epoch 50: loss 0.2800668179988861\n",
      "Epoch 51: loss 0.27638959884643555\n",
      "Epoch 52: loss 0.2714596390724182\n",
      "Epoch 53: loss 0.2712535262107849\n",
      "Epoch 54: loss 0.27532756328582764\n",
      "Epoch 55: loss 0.27392494678497314\n",
      "Epoch 56: loss 0.2662695050239563\n",
      "Epoch 57: loss 0.27491089701652527\n",
      "Epoch 58: loss 0.2668992280960083\n",
      "Epoch 59: loss 0.26349568367004395\n",
      "Epoch 60: loss 0.17117203772068024\n",
      "Epoch 61: loss 0.13779808580875397\n",
      "Epoch 62: loss 0.12939302623271942\n",
      "Epoch 63: loss 0.12264324724674225\n",
      "Epoch 64: loss 0.1175255998969078\n",
      "Epoch 65: loss 0.11209692060947418\n",
      "Epoch 66: loss 0.10691308975219727\n",
      "Epoch 67: loss 0.10254234075546265\n",
      "Epoch 68: loss 0.10107965022325516\n",
      "Epoch 69: loss 0.09912040829658508\n",
      "Epoch 70: loss 0.09539817273616791\n",
      "Epoch 71: loss 0.09343989938497543\n",
      "Epoch 72: loss 0.09106919169425964\n",
      "Epoch 73: loss 0.0887606218457222\n",
      "Epoch 74: loss 0.08683571964502335\n",
      "Epoch 75: loss 0.08584796637296677\n",
      "Epoch 76: loss 0.08318771421909332\n",
      "Epoch 77: loss 0.07946005463600159\n",
      "Epoch 78: loss 0.0771266520023346\n",
      "Epoch 79: loss 0.07941019535064697\n",
      "Epoch 80: loss 0.07503997534513474\n",
      "Epoch 81: loss 0.073201023042202\n",
      "Epoch 82: loss 0.07144550234079361\n",
      "Epoch 83: loss 0.0695471540093422\n",
      "Epoch 84: loss 0.07117161899805069\n",
      "Epoch 85: loss 0.06837859749794006\n",
      "Epoch 86: loss 0.06716601550579071\n",
      "Epoch 87: loss 0.06982316076755524\n",
      "Epoch 88: loss 0.06488437950611115\n",
      "Epoch 89: loss 0.0667446181178093\n",
      "Epoch 90: loss 0.06407088786363602\n",
      "Epoch 91: loss 0.06260329484939575\n",
      "Epoch 92: loss 0.06297047436237335\n",
      "Epoch 93: loss 0.06293467432260513\n",
      "Epoch 94: loss 0.05840852111577988\n",
      "Epoch 95: loss 0.06029999256134033\n",
      "Epoch 96: loss 0.05863047391176224\n",
      "Epoch 97: loss 0.0573183111846447\n",
      "Epoch 98: loss 0.057514626532793045\n",
      "Epoch 99: loss 0.05651530623435974\n",
      "Final loss 0.05651530623435974\n"
     ]
    }
   ],
   "source": [
    "from training.pp import MAP\n",
    "\n",
    "layers = [\n",
    "    (\"preresnet-20\", (32, 3, 10)),\n",
    "    (\"logsoftmax\", ())\n",
    "]\n",
    "\n",
    "model = MAP(layers)\n",
    "\n",
    "model.train_model(160, torch.nn.NLLLoss(), sgd(1e-1, weight_decay=1e-4, momentum=0.9, nesterov=True), trainloader, batch_size, device, scheduler_factory=lr_scheduler([80, 120], 0.1))"
   ]
  },
  {
   "cell_type": "code",
   "execution_count": 9,
   "metadata": {},
   "outputs": [
    {
     "name": "stdout",
     "output_type": "stream",
     "text": [
      "Epoch 0: loss 2.3485770225524902\n",
      "Epoch 1: loss 2.34991717338562\n",
      "Epoch 2: loss 2.3480513095855713\n",
      "Epoch 3: loss 2.3499252796173096\n"
     ]
    },
    {
     "ename": "KeyboardInterrupt",
     "evalue": "",
     "output_type": "error",
     "traceback": [
      "\u001b[0;31m---------------------------------------------------------------------------\u001b[0m",
      "\u001b[0;31mKeyboardInterrupt\u001b[0m                         Traceback (most recent call last)",
      "\u001b[1;32m/home/flo/VariationalBayesianDL/CIFAR.ipynb Cell 6'\u001b[0m in \u001b[0;36m<cell line: 10>\u001b[0;34m()\u001b[0m\n\u001b[1;32m      <a href='vscode-notebook-cell://wsl%2Bubuntu/home/flo/VariationalBayesianDL/CIFAR.ipynb#ch0000005vscode-remote?line=3'>4</a>\u001b[0m layers \u001b[39m=\u001b[39m [\n\u001b[1;32m      <a href='vscode-notebook-cell://wsl%2Bubuntu/home/flo/VariationalBayesianDL/CIFAR.ipynb#ch0000005vscode-remote?line=4'>5</a>\u001b[0m     (\u001b[39m\"\u001b[39m\u001b[39mpreresnet-20\u001b[39m\u001b[39m\"\u001b[39m, (\u001b[39m32\u001b[39m, \u001b[39m3\u001b[39m, \u001b[39m10\u001b[39m)),\n\u001b[1;32m      <a href='vscode-notebook-cell://wsl%2Bubuntu/home/flo/VariationalBayesianDL/CIFAR.ipynb#ch0000005vscode-remote?line=5'>6</a>\u001b[0m     (\u001b[39m\"\u001b[39m\u001b[39mlogsoftmax\u001b[39m\u001b[39m\"\u001b[39m, ())\n\u001b[1;32m      <a href='vscode-notebook-cell://wsl%2Bubuntu/home/flo/VariationalBayesianDL/CIFAR.ipynb#ch0000005vscode-remote?line=6'>7</a>\u001b[0m ]\n\u001b[1;32m      <a href='vscode-notebook-cell://wsl%2Bubuntu/home/flo/VariationalBayesianDL/CIFAR.ipynb#ch0000005vscode-remote?line=8'>9</a>\u001b[0m model \u001b[39m=\u001b[39m VOGNModule(layers)\n\u001b[0;32m---> <a href='vscode-notebook-cell://wsl%2Bubuntu/home/flo/VariationalBayesianDL/CIFAR.ipynb#ch0000005vscode-remote?line=9'>10</a>\u001b[0m model\u001b[39m.\u001b[39;49mtrain_model(\u001b[39m10\u001b[39;49m, torch\u001b[39m.\u001b[39;49mnn\u001b[39m.\u001b[39;49mNLLLoss(), {\u001b[39m\"\u001b[39;49m\u001b[39mlr\u001b[39;49m\u001b[39m\"\u001b[39;49m: \u001b[39m1e-6\u001b[39;49m, \u001b[39m\"\u001b[39;49m\u001b[39mprior_prec\u001b[39;49m\u001b[39m\"\u001b[39;49m: \u001b[39m150\u001b[39;49m, \u001b[39m\"\u001b[39;49m\u001b[39mbetas\u001b[39;49m\u001b[39m\"\u001b[39;49m: (\u001b[39m0.9\u001b[39;49m, \u001b[39m0.999\u001b[39;49m), \u001b[39m\"\u001b[39;49m\u001b[39mdamping\u001b[39;49m\u001b[39m\"\u001b[39;49m: \u001b[39m1\u001b[39;49m, \u001b[39m\"\u001b[39;49m\u001b[39maugmentation\u001b[39;49m\u001b[39m\"\u001b[39;49m: \u001b[39m1\u001b[39;49m, \u001b[39m\"\u001b[39;49m\u001b[39msample\u001b[39;49m\u001b[39m\"\u001b[39;49m: \u001b[39mFalse\u001b[39;49;00m}, trainloader, batch_size, device, mc_samples\u001b[39m=\u001b[39;49m\u001b[39m2\u001b[39;49m)\n",
      "File \u001b[0;32m~/VariationalBayesianDL/training/vogn.py:115\u001b[0m, in \u001b[0;36mVOGNModule.train_model\u001b[0;34m(self, epochs, loss_fn, optim_params, loader, batch_size, device, report_every_epochs, mc_samples)\u001b[0m\n\u001b[1;32m    112\u001b[0m data, target \u001b[39m=\u001b[39m data\u001b[39m.\u001b[39mto(device), target\u001b[39m.\u001b[39mto(device)\n\u001b[1;32m    113\u001b[0m data, target \u001b[39m=\u001b[39m data\u001b[39m.\u001b[39mexpand(mc_samples, \u001b[39m*\u001b[39mdata\u001b[39m.\u001b[39mshape), target\u001b[39m.\u001b[39mexpand(mc_samples, \u001b[39m*\u001b[39mtarget\u001b[39m.\u001b[39mshape)\n\u001b[0;32m--> 115\u001b[0m grads, loss \u001b[39m=\u001b[39m vmap(run_sample, (\u001b[39mNone\u001b[39;49;00m, \u001b[39mNone\u001b[39;49;00m, \u001b[39m0\u001b[39;49m, \u001b[39m0\u001b[39;49m), randomness\u001b[39m=\u001b[39;49m\u001b[39m\"\u001b[39;49m\u001b[39mdifferent\u001b[39;49m\u001b[39m\"\u001b[39;49m)(\u001b[39mself\u001b[39;49m\u001b[39m.\u001b[39;49mparams, \u001b[39mself\u001b[39;49m\u001b[39m.\u001b[39;49moptim_state, data, target)\n\u001b[1;32m    116\u001b[0m loss \u001b[39m=\u001b[39m loss\u001b[39m.\u001b[39mmean()\n\u001b[1;32m    117\u001b[0m \u001b[39mself\u001b[39m\u001b[39m.\u001b[39mparams, \u001b[39mself\u001b[39m\u001b[39m.\u001b[39moptim_state \u001b[39m=\u001b[39m vogn_step(\u001b[39mself\u001b[39m\u001b[39m.\u001b[39mparams, grads, \u001b[39mself\u001b[39m\u001b[39m.\u001b[39moptim_state)\n",
      "File \u001b[0;32m~/anaconda3/envs/bdl2/lib/python3.9/site-packages/functorch/_src/vmap.py:383\u001b[0m, in \u001b[0;36mvmap.<locals>.wrapped\u001b[0;34m(*args, **kwargs)\u001b[0m\n\u001b[1;32m    381\u001b[0m \u001b[39mtry\u001b[39;00m:\n\u001b[1;32m    382\u001b[0m     batched_inputs \u001b[39m=\u001b[39m _create_batched_inputs(flat_in_dims, flat_args, vmap_level, args_spec)\n\u001b[0;32m--> 383\u001b[0m     batched_outputs \u001b[39m=\u001b[39m func(\u001b[39m*\u001b[39;49mbatched_inputs, \u001b[39m*\u001b[39;49m\u001b[39m*\u001b[39;49mkwargs)\n\u001b[1;32m    384\u001b[0m     \u001b[39mreturn\u001b[39;00m _unwrap_batched(batched_outputs, out_dims, vmap_level, batch_size, func)\n\u001b[1;32m    385\u001b[0m \u001b[39mfinally\u001b[39;00m:\n",
      "File \u001b[0;32m~/VariationalBayesianDL/training/vogn.py:107\u001b[0m, in \u001b[0;36mVOGNModule.train_model.<locals>.run_sample\u001b[0;34m(parameters, optim_state, input, target)\u001b[0m\n\u001b[1;32m    105\u001b[0m \u001b[39mdef\u001b[39;00m \u001b[39mrun_sample\u001b[39m(parameters, optim_state, \u001b[39minput\u001b[39m, target):\n\u001b[1;32m    106\u001b[0m     prep_params \u001b[39m=\u001b[39m vogn_prepare(parameters, optim_state)\n\u001b[0;32m--> 107\u001b[0m     \u001b[39mreturn\u001b[39;00m vmap(grad_and_value(get_loss), (\u001b[39mNone\u001b[39;49;00m, \u001b[39m0\u001b[39;49m, \u001b[39m0\u001b[39;49m))(prep_params, \u001b[39minput\u001b[39;49m, target)\n",
      "File \u001b[0;32m~/anaconda3/envs/bdl2/lib/python3.9/site-packages/functorch/_src/vmap.py:383\u001b[0m, in \u001b[0;36mvmap.<locals>.wrapped\u001b[0;34m(*args, **kwargs)\u001b[0m\n\u001b[1;32m    381\u001b[0m \u001b[39mtry\u001b[39;00m:\n\u001b[1;32m    382\u001b[0m     batched_inputs \u001b[39m=\u001b[39m _create_batched_inputs(flat_in_dims, flat_args, vmap_level, args_spec)\n\u001b[0;32m--> 383\u001b[0m     batched_outputs \u001b[39m=\u001b[39m func(\u001b[39m*\u001b[39;49mbatched_inputs, \u001b[39m*\u001b[39;49m\u001b[39m*\u001b[39;49mkwargs)\n\u001b[1;32m    384\u001b[0m     \u001b[39mreturn\u001b[39;00m _unwrap_batched(batched_outputs, out_dims, vmap_level, batch_size, func)\n\u001b[1;32m    385\u001b[0m \u001b[39mfinally\u001b[39;00m:\n",
      "File \u001b[0;32m~/anaconda3/envs/bdl2/lib/python3.9/site-packages/functorch/_src/eager_transforms.py:1074\u001b[0m, in \u001b[0;36mgrad_and_value.<locals>.wrapper\u001b[0;34m(*args, **kwargs)\u001b[0m\n\u001b[1;32m   1072\u001b[0m \u001b[39m# NB: need create_graph so that backward pass isn't run in no_grad mode\u001b[39;00m\n\u001b[1;32m   1073\u001b[0m flat_outputs \u001b[39m=\u001b[39m _as_tuple(output)\n\u001b[0;32m-> 1074\u001b[0m flat_grad_input \u001b[39m=\u001b[39m _autograd_grad(flat_outputs, flat_diff_args, create_graph\u001b[39m=\u001b[39;49m\u001b[39mTrue\u001b[39;49;00m)\n\u001b[1;32m   1075\u001b[0m grad_input \u001b[39m=\u001b[39m tree_unflatten(flat_grad_input, spec)\n\u001b[1;32m   1077\u001b[0m grad_input \u001b[39m=\u001b[39m _undo_create_differentiable(grad_input, level)\n",
      "File \u001b[0;32m~/anaconda3/envs/bdl2/lib/python3.9/site-packages/functorch/_src/eager_transforms.py:93\u001b[0m, in \u001b[0;36m_autograd_grad\u001b[0;34m(outputs, inputs, grad_outputs, retain_graph, create_graph)\u001b[0m\n\u001b[1;32m     91\u001b[0m \u001b[39mif\u001b[39;00m \u001b[39mlen\u001b[39m(diff_outputs) \u001b[39m==\u001b[39m \u001b[39m0\u001b[39m:\n\u001b[1;32m     92\u001b[0m     \u001b[39mreturn\u001b[39;00m \u001b[39mtuple\u001b[39m(torch\u001b[39m.\u001b[39mzeros_like(inp) \u001b[39mfor\u001b[39;00m inp \u001b[39min\u001b[39;00m inputs)\n\u001b[0;32m---> 93\u001b[0m grad_inputs \u001b[39m=\u001b[39m torch\u001b[39m.\u001b[39;49mautograd\u001b[39m.\u001b[39;49mgrad(diff_outputs, inputs, grad_outputs,\n\u001b[1;32m     94\u001b[0m                                   retain_graph\u001b[39m=\u001b[39;49mretain_graph,\n\u001b[1;32m     95\u001b[0m                                   create_graph\u001b[39m=\u001b[39;49mcreate_graph,\n\u001b[1;32m     96\u001b[0m                                   allow_unused\u001b[39m=\u001b[39;49m\u001b[39mTrue\u001b[39;49;00m)\n\u001b[1;32m     97\u001b[0m grad_inputs \u001b[39m=\u001b[39m \u001b[39mtuple\u001b[39m(torch\u001b[39m.\u001b[39mzeros_like(inp) \u001b[39mif\u001b[39;00m gi \u001b[39mis\u001b[39;00m \u001b[39mNone\u001b[39;00m \u001b[39melse\u001b[39;00m gi\n\u001b[1;32m     98\u001b[0m                     \u001b[39mfor\u001b[39;00m gi, inp \u001b[39min\u001b[39;00m \u001b[39mzip\u001b[39m(grad_inputs, inputs))\n\u001b[1;32m     99\u001b[0m \u001b[39mreturn\u001b[39;00m grad_inputs\n",
      "File \u001b[0;32m~/anaconda3/envs/bdl2/lib/python3.9/site-packages/torch/autograd/__init__.py:275\u001b[0m, in \u001b[0;36mgrad\u001b[0;34m(outputs, inputs, grad_outputs, retain_graph, create_graph, only_inputs, allow_unused, is_grads_batched)\u001b[0m\n\u001b[1;32m    273\u001b[0m     \u001b[39mreturn\u001b[39;00m _vmap_internals\u001b[39m.\u001b[39m_vmap(vjp, \u001b[39m0\u001b[39m, \u001b[39m0\u001b[39m, allow_none_pass_through\u001b[39m=\u001b[39m\u001b[39mTrue\u001b[39;00m)(grad_outputs)\n\u001b[1;32m    274\u001b[0m \u001b[39melse\u001b[39;00m:\n\u001b[0;32m--> 275\u001b[0m     \u001b[39mreturn\u001b[39;00m Variable\u001b[39m.\u001b[39;49m_execution_engine\u001b[39m.\u001b[39;49mrun_backward(  \u001b[39m# Calls into the C++ engine to run the backward pass\u001b[39;49;00m\n\u001b[1;32m    276\u001b[0m         outputs, grad_outputs_, retain_graph, create_graph, inputs,\n\u001b[1;32m    277\u001b[0m         allow_unused, accumulate_grad\u001b[39m=\u001b[39;49m\u001b[39mFalse\u001b[39;49;00m)\n",
      "\u001b[0;31mKeyboardInterrupt\u001b[0m: "
     ]
    }
   ],
   "source": [
    "from training.pp import MAP\n",
    "from training.vogn import iVONModuleFunctorch, VOGNModule\n",
    "\n",
    "layers = [\n",
    "    (\"preresnet-20\", (32, 3, 10)),\n",
    "    (\"logsoftmax\", ())\n",
    "]\n",
    "\n",
    "model = VOGNModule(layers)\n",
    "model.train_model(10, torch.nn.NLLLoss(), {\"lr\": 1e-4, \"prior_prec\": 150, \"betas\": (0.9, 0.999), \"damping\": 1, \"augmentation\": 1, \"sample\": False}, trainloader, batch_size, device, mc_samples=2)"
   ]
  },
  {
   "cell_type": "code",
   "execution_count": 84,
   "metadata": {},
   "outputs": [
    {
     "name": "stdout",
     "output_type": "stream",
     "text": [
      " Accuracy: 0.8496999740600586\n",
      " Avg Log Likelihood: -0.5370649695396423\n",
      " Avg Likelihood: 0.8302077054977417\n",
      " ECE: 0.06883288042247296\n"
     ]
    },
    {
     "data": {
      "text/plain": [
       "(tensor(0.8497),\n",
       " tensor(-0.5371),\n",
       " tensor(0.8302),\n",
       " <training.calibration.ClassificationCalibrationResults at 0x7fcc92551bb0>)"
      ]
     },
     "execution_count": 84,
     "metadata": {},
     "output_type": "execute_result"
    }
   ],
   "source": [
    "import experiments.base.multiclass_classification as exp\n",
    "\n",
    "model.to(device)\n",
    "exp.eval_model(model, 5, testloader, device)"
   ]
  },
  {
   "cell_type": "code",
   "execution_count": 8,
   "metadata": {},
   "outputs": [
    {
     "data": {
      "image/png": "[encoded data removed]",
      "text/plain": [
       "<Figure size 432x288 with 1 Axes>"
      ]
     },
     "metadata": {
      "needs_background": "light"
     },
     "output_type": "display_data"
    }
   ],
   "source": [
    "plot_losses(\"MAP\", model.all_losses(), plt.subplot())"
   ]
  }
 ],
 "metadata": {
  "kernelspec": {
   "display_name": "Python 3.9.12 ('bdl2')",
   "language": "python",
   "name": "python3"
  },
  "language_info": {
   "codemirror_mode": {
    "name": "ipython",
    "version": 3
   },
   "file_extension": ".py",
   "mimetype": "text/x-python",
   "name": "python",
   "nbconvert_exporter": "python",
   "pygments_lexer": "ipython3",
   "version": "3.9.12"
  },
  "orig_nbformat": 4,
  "vscode": {
   "interpreter": {
    "hash": "dcfaf3907fb5ccaba69729c1b2eca8858ecf7d628290008c66c1f9d42d557f9b"
   }
  }
 },
 "nbformat": 4,
 "nbformat_minor": 2
}
