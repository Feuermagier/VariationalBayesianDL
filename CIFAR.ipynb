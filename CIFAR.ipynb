{
 "cells": [
  {
   "cell_type": "code",
   "execution_count": 14,
   "metadata": {},
   "outputs": [
    {
     "name": "stdout",
     "output_type": "stream",
     "text": [
      "The autoreload extension is already loaded. To reload it, use:\n",
      "  %reload_ext autoreload\n"
     ]
    }
   ],
   "source": [
    "%load_ext autoreload\n",
    "%autoreload 2\n",
    "\n",
    "import torch\n",
    "import matplotlib.pyplot as plt\n",
    "\n",
    "from training.util import sgd, plot_losses, adam, lr_scheduler, wilson_scheduler"
   ]
  },
  {
   "cell_type": "code",
   "execution_count": 2,
   "metadata": {},
   "outputs": [],
   "source": [
    "device = torch.device(\"cuda\")"
   ]
  },
  {
   "cell_type": "code",
   "execution_count": 10,
   "metadata": {},
   "outputs": [
    {
     "name": "stdout",
     "output_type": "stream",
     "text": [
      "Files already downloaded and verified\n"
     ]
    }
   ],
   "source": [
    "import experiments.base.cifar as cifar\n",
    "\n",
    "batch_size = 128\n",
    "trainloader = cifar.cifar10_trainloader(\"/mnt/d/Uni/Bachelorarbeit/linux/data/\", batch_size=batch_size, subsample=5000)\n",
    "testloader = cifar.cifar10_testloader(\"/mnt/d/Uni/Bachelorarbeit/linux/data/\", batch_size=batch_size)\n",
    "stl_testloader = cifar.stl10_testloader(\"/mnt/d/Uni/Bachelorarbeit/linux/data/\", batch_size=128)"
   ]
  },
  {
   "cell_type": "code",
   "execution_count": 7,
   "metadata": {},
   "outputs": [
    {
     "ename": "",
     "evalue": "",
     "output_type": "error",
     "traceback": [
      "\u001b[1;31mCanceled future for execute_request message before replies were done"
     ]
    },
    {
     "ename": "",
     "evalue": "",
     "output_type": "error",
     "traceback": [
      "\u001b[1;31mThe Kernel crashed while executing code in the the current cell or a previous cell. Please review the code in the cell(s) to identify a possible cause of the failure. Click <a href='https://aka.ms/vscodeJupyterKernelCrash'>here</a> for more info. View Jupyter <a href='command:jupyter.viewOutput'>log</a> for further details."
     ]
    }
   ],
   "source": [
    "import experiments.base.cifar as cifar\n",
    "corrupted_testloader = cifar.cifar10_corrupted_testloader(\"/mnt/d/Uni/Bachelorarbeit/linux/data/\", intensity=4, batch_size=128)"
   ]
  },
  {
   "cell_type": "code",
   "execution_count": 22,
   "metadata": {},
   "outputs": [
    {
     "name": "stdout",
     "output_type": "stream",
     "text": [
      "Adjusting learning rate of group 0 to 1.0000e-01.\n",
      "Adjusting learning rate of group 0 to 1.0000e-01.\n",
      "Epoch 0: loss 2.0147554874420166\n",
      "Adjusting learning rate of group 0 to 1.0000e-01.\n",
      "Epoch 1: loss 1.880865454673767\n",
      "Adjusting learning rate of group 0 to 1.0000e-01.\n",
      "Epoch 2: loss 1.7365572452545166\n",
      "Adjusting learning rate of group 0 to 1.0000e-01.\n",
      "Epoch 3: loss 1.7241096496582031\n",
      "Adjusting learning rate of group 0 to 1.0000e-01.\n",
      "Epoch 4: loss 1.586887001991272\n",
      "Adjusting learning rate of group 0 to 1.0000e-01.\n",
      "Epoch 5: loss 1.5148136615753174\n",
      "Adjusting learning rate of group 0 to 1.0000e-01.\n",
      "Epoch 6: loss 1.4849541187286377\n",
      "Adjusting learning rate of group 0 to 1.0000e-01.\n",
      "Epoch 7: loss 1.432898759841919\n",
      "Adjusting learning rate of group 0 to 1.0000e-01.\n",
      "Epoch 8: loss 1.2941534519195557\n",
      "Adjusting learning rate of group 0 to 1.0000e-01.\n",
      "Epoch 9: loss 1.237328290939331\n",
      "Adjusting learning rate of group 0 to 1.0000e-01.\n",
      "Epoch 10: loss 1.227186918258667\n",
      "Adjusting learning rate of group 0 to 1.0000e-01.\n",
      "Epoch 11: loss 1.2092366218566895\n",
      "Adjusting learning rate of group 0 to 1.0000e-01.\n",
      "Epoch 12: loss 1.1710546016693115\n",
      "Adjusting learning rate of group 0 to 1.0000e-01.\n",
      "Epoch 13: loss 1.1930068731307983\n",
      "Adjusting learning rate of group 0 to 1.0000e-01.\n",
      "Epoch 14: loss 1.0800745487213135\n",
      "Adjusting learning rate of group 0 to 1.0000e-01.\n",
      "Epoch 15: loss 1.0307790040969849\n",
      "Adjusting learning rate of group 0 to 1.0000e-01.\n",
      "Epoch 16: loss 1.094902753829956\n",
      "Adjusting learning rate of group 0 to 1.0000e-01.\n",
      "Epoch 17: loss 0.9638921022415161\n",
      "Adjusting learning rate of group 0 to 1.0000e-01.\n",
      "Epoch 18: loss 0.9590792655944824\n",
      "Adjusting learning rate of group 0 to 1.0000e-01.\n",
      "Epoch 19: loss 0.947908878326416\n",
      "Adjusting learning rate of group 0 to 1.0000e-01.\n",
      "Epoch 20: loss 0.9403896331787109\n",
      "Adjusting learning rate of group 0 to 1.0000e-01.\n",
      "Epoch 21: loss 0.8866109848022461\n",
      "Adjusting learning rate of group 0 to 1.0000e-01.\n",
      "Epoch 22: loss 0.9416518211364746\n",
      "Adjusting learning rate of group 0 to 1.0000e-01.\n",
      "Epoch 23: loss 0.8631836771965027\n",
      "Adjusting learning rate of group 0 to 1.0000e-01.\n",
      "Epoch 24: loss 0.8826999664306641\n",
      "Adjusting learning rate of group 0 to 1.0000e-01.\n",
      "Epoch 25: loss 0.8139163851737976\n",
      "Adjusting learning rate of group 0 to 1.0000e-01.\n",
      "Epoch 26: loss 0.787857711315155\n",
      "Adjusting learning rate of group 0 to 1.0000e-01.\n",
      "Epoch 27: loss 0.78573077917099\n",
      "Adjusting learning rate of group 0 to 1.0000e-01.\n",
      "Epoch 28: loss 0.7651749849319458\n",
      "Adjusting learning rate of group 0 to 1.0000e-01.\n",
      "Epoch 29: loss 0.7416888475418091\n",
      "Adjusting learning rate of group 0 to 1.0000e-01.\n",
      "Epoch 30: loss 0.7605226635932922\n",
      "Adjusting learning rate of group 0 to 1.0000e-01.\n",
      "Epoch 31: loss 0.7087138891220093\n",
      "Adjusting learning rate of group 0 to 1.0000e-01.\n",
      "Epoch 32: loss 0.6634750962257385\n",
      "Adjusting learning rate of group 0 to 1.0000e-01.\n",
      "Epoch 33: loss 0.6527236104011536\n",
      "Adjusting learning rate of group 0 to 1.0000e-01.\n",
      "Epoch 34: loss 0.656269907951355\n",
      "Adjusting learning rate of group 0 to 1.0000e-01.\n",
      "Epoch 35: loss 0.5831039547920227\n",
      "Adjusting learning rate of group 0 to 1.0000e-01.\n",
      "Epoch 36: loss 0.6566165089607239\n",
      "Adjusting learning rate of group 0 to 1.0000e-01.\n",
      "Epoch 37: loss 0.5710057616233826\n",
      "Adjusting learning rate of group 0 to 1.0000e-01.\n",
      "Epoch 38: loss 0.5996950268745422\n",
      "Adjusting learning rate of group 0 to 1.0000e-01.\n",
      "Epoch 39: loss 0.5839815735816956\n",
      "Adjusting learning rate of group 0 to 1.0000e-01.\n",
      "Epoch 40: loss 0.5604400038719177\n",
      "Adjusting learning rate of group 0 to 1.0000e-01.\n",
      "Epoch 41: loss 0.6428526639938354\n",
      "Adjusting learning rate of group 0 to 1.0000e-01.\n",
      "Epoch 42: loss 0.6034493446350098\n",
      "Adjusting learning rate of group 0 to 1.0000e-01.\n",
      "Epoch 43: loss 0.506456196308136\n",
      "Adjusting learning rate of group 0 to 1.0000e-01.\n",
      "Epoch 44: loss 0.4915699064731598\n",
      "Adjusting learning rate of group 0 to 1.0000e-01.\n",
      "Epoch 45: loss 0.5465339422225952\n",
      "Adjusting learning rate of group 0 to 1.0000e-01.\n",
      "Epoch 46: loss 0.6381558179855347\n",
      "Adjusting learning rate of group 0 to 1.0000e-01.\n",
      "Epoch 47: loss 0.5069711804389954\n",
      "Adjusting learning rate of group 0 to 1.0000e-01.\n",
      "Epoch 48: loss 0.5995613932609558\n",
      "Adjusting learning rate of group 0 to 1.0000e-01.\n",
      "Epoch 49: loss 0.5261092782020569\n",
      "Adjusting learning rate of group 0 to 1.0000e-01.\n",
      "Epoch 50: loss 0.5942054390907288\n",
      "Adjusting learning rate of group 0 to 1.0000e-01.\n",
      "Epoch 51: loss 0.48550862073898315\n",
      "Adjusting learning rate of group 0 to 1.0000e-01.\n",
      "Epoch 52: loss 0.5123732686042786\n",
      "Adjusting learning rate of group 0 to 1.0000e-01.\n",
      "Epoch 53: loss 0.4797784388065338\n",
      "Adjusting learning rate of group 0 to 1.0000e-01.\n",
      "Epoch 54: loss 0.41269636154174805\n",
      "Adjusting learning rate of group 0 to 1.0000e-01.\n",
      "Epoch 55: loss 0.4318297505378723\n",
      "Adjusting learning rate of group 0 to 1.0000e-01.\n",
      "Epoch 56: loss 0.3711227774620056\n",
      "Adjusting learning rate of group 0 to 1.0000e-01.\n",
      "Epoch 57: loss 0.32496821880340576\n",
      "Adjusting learning rate of group 0 to 1.0000e-01.\n",
      "Epoch 58: loss 0.3998415172100067\n",
      "Adjusting learning rate of group 0 to 1.0000e-01.\n",
      "Epoch 59: loss 0.4368850588798523\n",
      "Adjusting learning rate of group 0 to 9.7938e-02.\n",
      "Epoch 60: loss 0.36825093626976013\n",
      "Adjusting learning rate of group 0 to 9.5875e-02.\n",
      "Epoch 61: loss 0.3946099877357483\n",
      "Adjusting learning rate of group 0 to 9.3813e-02.\n",
      "Epoch 62: loss 0.463795006275177\n",
      "Adjusting learning rate of group 0 to 9.1750e-02.\n",
      "Epoch 63: loss 0.49153614044189453\n",
      "Adjusting learning rate of group 0 to 8.9688e-02.\n",
      "Epoch 64: loss 0.3515166640281677\n",
      "Adjusting learning rate of group 0 to 8.7625e-02.\n",
      "Epoch 65: loss 0.31411901116371155\n",
      "Adjusting learning rate of group 0 to 8.5562e-02.\n",
      "Epoch 66: loss 0.34544113278388977\n",
      "Adjusting learning rate of group 0 to 8.3500e-02.\n",
      "Epoch 67: loss 0.4484935402870178\n",
      "Adjusting learning rate of group 0 to 8.1438e-02.\n",
      "Epoch 68: loss 0.37829700112342834\n",
      "Adjusting learning rate of group 0 to 7.9375e-02.\n",
      "Epoch 69: loss 0.3149575889110565\n",
      "Adjusting learning rate of group 0 to 7.7313e-02.\n",
      "Epoch 70: loss 0.31763601303100586\n",
      "Adjusting learning rate of group 0 to 7.5250e-02.\n",
      "Epoch 71: loss 0.3280028700828552\n",
      "Adjusting learning rate of group 0 to 7.3188e-02.\n",
      "Epoch 72: loss 0.29465538263320923\n",
      "Adjusting learning rate of group 0 to 7.1125e-02.\n",
      "Epoch 73: loss 0.4111699163913727\n",
      "Adjusting learning rate of group 0 to 6.9063e-02.\n",
      "Epoch 74: loss 0.2896692454814911\n",
      "Adjusting learning rate of group 0 to 6.7000e-02.\n",
      "Epoch 75: loss 0.2897338569164276\n",
      "Adjusting learning rate of group 0 to 6.4937e-02.\n",
      "Epoch 76: loss 0.1854139268398285\n",
      "Adjusting learning rate of group 0 to 6.2875e-02.\n",
      "Epoch 77: loss 0.22706103324890137\n",
      "Adjusting learning rate of group 0 to 6.0813e-02.\n",
      "Epoch 78: loss 0.3662296235561371\n",
      "Adjusting learning rate of group 0 to 5.8750e-02.\n",
      "Epoch 79: loss 0.33498021960258484\n",
      "Adjusting learning rate of group 0 to 5.6687e-02.\n",
      "Epoch 80: loss 0.2821499705314636\n",
      "Adjusting learning rate of group 0 to 5.4625e-02.\n",
      "Epoch 81: loss 0.27735787630081177\n",
      "Adjusting learning rate of group 0 to 5.2563e-02.\n",
      "Epoch 82: loss 0.23077157139778137\n",
      "Adjusting learning rate of group 0 to 5.0500e-02.\n",
      "Epoch 83: loss 0.23011374473571777\n",
      "Adjusting learning rate of group 0 to 4.8437e-02.\n",
      "Epoch 84: loss 0.16383185982704163\n",
      "Adjusting learning rate of group 0 to 4.6375e-02.\n",
      "Epoch 85: loss 0.1509142816066742\n",
      "Adjusting learning rate of group 0 to 4.4313e-02.\n",
      "Epoch 86: loss 0.14989981055259705\n",
      "Adjusting learning rate of group 0 to 4.2250e-02.\n",
      "Epoch 87: loss 0.19227032363414764\n",
      "Adjusting learning rate of group 0 to 4.0188e-02.\n",
      "Epoch 88: loss 0.22427137196063995\n",
      "Adjusting learning rate of group 0 to 3.8125e-02.\n",
      "Epoch 89: loss 0.13619089126586914\n",
      "Adjusting learning rate of group 0 to 3.6063e-02.\n",
      "Epoch 90: loss 0.10394986718893051\n",
      "Adjusting learning rate of group 0 to 3.4000e-02.\n",
      "Epoch 91: loss 0.09163758903741837\n",
      "Adjusting learning rate of group 0 to 3.1938e-02.\n",
      "Epoch 92: loss 0.10461322963237762\n",
      "Adjusting learning rate of group 0 to 2.9875e-02.\n",
      "Epoch 93: loss 0.08393978327512741\n",
      "Adjusting learning rate of group 0 to 2.7813e-02.\n",
      "Epoch 94: loss 0.11410476267337799\n",
      "Adjusting learning rate of group 0 to 2.5750e-02.\n",
      "Epoch 95: loss 0.08291912823915482\n",
      "Adjusting learning rate of group 0 to 2.3687e-02.\n",
      "Epoch 96: loss 0.0686584934592247\n",
      "Adjusting learning rate of group 0 to 2.1625e-02.\n",
      "Epoch 97: loss 0.08883543312549591\n",
      "Adjusting learning rate of group 0 to 1.9563e-02.\n",
      "Epoch 98: loss 0.07774626463651657\n",
      "Adjusting learning rate of group 0 to 1.7500e-02.\n",
      "Epoch 99: loss 0.0915553942322731\n",
      "Adjusting learning rate of group 0 to 1.5438e-02.\n",
      "Epoch 100: loss 0.10173974186182022\n",
      "Adjusting learning rate of group 0 to 1.3375e-02.\n",
      "Epoch 101: loss 0.08289817720651627\n",
      "Adjusting learning rate of group 0 to 1.1313e-02.\n",
      "Epoch 102: loss 0.052136801183223724\n",
      "Adjusting learning rate of group 0 to 9.2500e-03.\n",
      "Epoch 103: loss 0.05546671152114868\n",
      "Adjusting learning rate of group 0 to 7.1875e-03.\n",
      "Epoch 104: loss 0.060942839831113815\n",
      "Adjusting learning rate of group 0 to 5.1250e-03.\n",
      "Epoch 105: loss 0.04785251244902611\n",
      "Adjusting learning rate of group 0 to 3.0625e-03.\n",
      "Epoch 106: loss 0.040510185062885284\n",
      "Adjusting learning rate of group 0 to 1.0000e-03.\n",
      "Epoch 107: loss 0.04191116616129875\n",
      "Adjusting learning rate of group 0 to 1.0000e-03.\n",
      "Epoch 108: loss 0.034782927483320236\n",
      "Adjusting learning rate of group 0 to 1.0000e-03.\n",
      "Epoch 109: loss 0.044435013085603714\n",
      "Adjusting learning rate of group 0 to 1.0000e-03.\n",
      "Epoch 110: loss 0.03913208842277527\n",
      "Adjusting learning rate of group 0 to 1.0000e-03.\n",
      "Epoch 111: loss 0.04134664684534073\n",
      "Adjusting learning rate of group 0 to 1.0000e-03.\n",
      "Epoch 112: loss 0.03799585625529289\n",
      "Adjusting learning rate of group 0 to 1.0000e-03.\n",
      "Epoch 113: loss 0.04035433381795883\n",
      "Adjusting learning rate of group 0 to 1.0000e-03.\n",
      "Epoch 114: loss 0.05405557155609131\n",
      "Adjusting learning rate of group 0 to 1.0000e-03.\n",
      "Epoch 115: loss 0.03743932396173477\n",
      "Adjusting learning rate of group 0 to 1.0000e-03.\n",
      "Epoch 116: loss 0.04006580263376236\n",
      "Adjusting learning rate of group 0 to 1.0000e-03.\n",
      "Epoch 117: loss 0.04063451290130615\n",
      "Adjusting learning rate of group 0 to 1.0000e-03.\n",
      "Epoch 118: loss 0.04287613555788994\n",
      "Adjusting learning rate of group 0 to 1.0000e-03.\n",
      "Epoch 119: loss 0.052864063531160355\n",
      "Adjusting learning rate of group 0 to 1.0000e-03.\n",
      "Epoch 120: loss 0.04219452291727066\n",
      "Adjusting learning rate of group 0 to 1.0000e-03.\n",
      "Epoch 121: loss 0.05589237064123154\n",
      "Adjusting learning rate of group 0 to 1.0000e-03.\n",
      "Epoch 122: loss 0.0912884920835495\n",
      "Adjusting learning rate of group 0 to 1.0000e-03.\n",
      "Epoch 123: loss 0.0440712533891201\n",
      "Adjusting learning rate of group 0 to 1.0000e-03.\n",
      "Epoch 124: loss 0.0403011180460453\n",
      "Adjusting learning rate of group 0 to 1.0000e-03.\n",
      "Epoch 125: loss 0.03461291640996933\n",
      "Adjusting learning rate of group 0 to 1.0000e-03.\n",
      "Epoch 126: loss 0.04777713865041733\n",
      "Adjusting learning rate of group 0 to 1.0000e-03.\n",
      "Epoch 127: loss 0.031541600823402405\n",
      "Adjusting learning rate of group 0 to 1.0000e-03.\n",
      "Epoch 128: loss 0.04097897931933403\n",
      "Adjusting learning rate of group 0 to 1.0000e-03.\n",
      "Epoch 129: loss 0.042208313941955566\n",
      "Adjusting learning rate of group 0 to 1.0000e-03.\n",
      "Epoch 130: loss 0.045190904289484024\n",
      "Adjusting learning rate of group 0 to 1.0000e-03.\n",
      "Epoch 131: loss 0.0365201011300087\n",
      "Adjusting learning rate of group 0 to 1.0000e-03.\n",
      "Epoch 132: loss 0.04072609916329384\n",
      "Adjusting learning rate of group 0 to 1.0000e-03.\n",
      "Epoch 133: loss 0.04663712903857231\n",
      "Adjusting learning rate of group 0 to 1.0000e-03.\n",
      "Epoch 134: loss 0.042834024876356125\n",
      "Adjusting learning rate of group 0 to 1.0000e-03.\n",
      "Epoch 135: loss 0.03416062146425247\n",
      "Adjusting learning rate of group 0 to 1.0000e-03.\n",
      "Epoch 136: loss 0.042073801159858704\n",
      "Adjusting learning rate of group 0 to 1.0000e-03.\n",
      "Epoch 137: loss 0.040079645812511444\n",
      "Adjusting learning rate of group 0 to 1.0000e-03.\n",
      "Epoch 138: loss 0.03216699883341789\n",
      "Adjusting learning rate of group 0 to 1.0000e-03.\n",
      "Epoch 139: loss 0.04507315158843994\n",
      "Adjusting learning rate of group 0 to 1.0000e-03.\n",
      "Epoch 140: loss 0.040142424404621124\n",
      "Adjusting learning rate of group 0 to 1.0000e-03.\n",
      "Epoch 141: loss 0.04109559580683708\n",
      "Adjusting learning rate of group 0 to 1.0000e-03.\n",
      "Epoch 142: loss 0.03312771022319794\n",
      "Adjusting learning rate of group 0 to 1.0000e-03.\n",
      "Epoch 143: loss 0.04110565409064293\n",
      "Adjusting learning rate of group 0 to 1.0000e-03.\n",
      "Epoch 144: loss 0.03287972882390022\n",
      "Adjusting learning rate of group 0 to 1.0000e-03.\n",
      "Epoch 145: loss 0.029864436015486717\n",
      "Adjusting learning rate of group 0 to 1.0000e-03.\n",
      "Epoch 146: loss 0.03345511108636856\n",
      "Adjusting learning rate of group 0 to 1.0000e-03.\n",
      "Epoch 147: loss 0.040230680257081985\n",
      "Adjusting learning rate of group 0 to 1.0000e-03.\n",
      "Epoch 148: loss 0.04806732386350632\n",
      "Adjusting learning rate of group 0 to 1.0000e-03.\n",
      "Epoch 149: loss 0.031651582568883896\n",
      "Adjusting learning rate of group 0 to 1.0000e-03.\n",
      "Epoch 150: loss 0.040923137217760086\n",
      "Adjusting learning rate of group 0 to 1.0000e-03.\n",
      "Epoch 151: loss 0.03530540689826012\n",
      "Adjusting learning rate of group 0 to 1.0000e-03.\n",
      "Epoch 152: loss 0.0668405294418335\n",
      "Adjusting learning rate of group 0 to 1.0000e-03.\n",
      "Epoch 153: loss 0.039077065885066986\n",
      "Adjusting learning rate of group 0 to 1.0000e-03.\n",
      "Epoch 154: loss 0.03322364762425423\n",
      "Adjusting learning rate of group 0 to 1.0000e-03.\n",
      "Epoch 155: loss 0.06886468827724457\n",
      "Adjusting learning rate of group 0 to 1.0000e-03.\n",
      "Epoch 156: loss 0.03408496826887131\n",
      "Adjusting learning rate of group 0 to 1.0000e-03.\n",
      "Epoch 157: loss 0.051746465265750885\n",
      "Adjusting learning rate of group 0 to 1.0000e-03.\n",
      "Epoch 158: loss 0.035574205219745636\n",
      "Adjusting learning rate of group 0 to 1.0000e-03.\n",
      "Epoch 159: loss 0.03321406990289688\n",
      "Final loss 0.03321406990289688\n"
     ]
    },
    {
     "data": {
      "text/plain": [
       "MAP(\n",
       "  (model): Sequential(\n",
       "    (0): PreResNet(\n",
       "      (model): Sequential(\n",
       "        (0): Conv2d(3, 16, kernel_size=(3, 3), stride=(1, 1), padding=(1, 1))\n",
       "        (1): PreBasicBlock(\n",
       "          (main_path): Sequential(\n",
       "            (0): BatchNorm2d(16, eps=1e-05, momentum=0.1, affine=True, track_running_stats=False)\n",
       "            (1): ReLU()\n",
       "            (2): Conv2d(16, 16, kernel_size=(3, 3), stride=(1, 1), padding=(1, 1), bias=False)\n",
       "            (3): BatchNorm2d(16, eps=1e-05, momentum=0.1, affine=True, track_running_stats=False)\n",
       "            (4): ReLU()\n",
       "            (5): Conv2d(16, 16, kernel_size=(3, 3), stride=(1, 1), padding=(1, 1), bias=False)\n",
       "          )\n",
       "          (skip_path): Identity()\n",
       "        )\n",
       "        (2): PreBasicBlock(\n",
       "          (main_path): Sequential(\n",
       "            (0): BatchNorm2d(16, eps=1e-05, momentum=0.1, affine=True, track_running_stats=False)\n",
       "            (1): ReLU()\n",
       "            (2): Conv2d(16, 16, kernel_size=(3, 3), stride=(1, 1), padding=(1, 1), bias=False)\n",
       "            (3): BatchNorm2d(16, eps=1e-05, momentum=0.1, affine=True, track_running_stats=False)\n",
       "            (4): ReLU()\n",
       "            (5): Conv2d(16, 16, kernel_size=(3, 3), stride=(1, 1), padding=(1, 1), bias=False)\n",
       "          )\n",
       "          (skip_path): Identity()\n",
       "        )\n",
       "        (3): PreBasicBlock(\n",
       "          (main_path): Sequential(\n",
       "            (0): BatchNorm2d(16, eps=1e-05, momentum=0.1, affine=True, track_running_stats=False)\n",
       "            (1): ReLU()\n",
       "            (2): Conv2d(16, 16, kernel_size=(3, 3), stride=(1, 1), padding=(1, 1), bias=False)\n",
       "            (3): BatchNorm2d(16, eps=1e-05, momentum=0.1, affine=True, track_running_stats=False)\n",
       "            (4): ReLU()\n",
       "            (5): Conv2d(16, 16, kernel_size=(3, 3), stride=(1, 1), padding=(1, 1), bias=False)\n",
       "          )\n",
       "          (skip_path): Identity()\n",
       "        )\n",
       "        (4): PreBasicBlock(\n",
       "          (main_path): Sequential(\n",
       "            (0): BatchNorm2d(16, eps=1e-05, momentum=0.1, affine=True, track_running_stats=False)\n",
       "            (1): ReLU()\n",
       "            (2): Conv2d(16, 32, kernel_size=(3, 3), stride=(2, 2), padding=(1, 1), bias=False)\n",
       "            (3): BatchNorm2d(32, eps=1e-05, momentum=0.1, affine=True, track_running_stats=False)\n",
       "            (4): ReLU()\n",
       "            (5): Conv2d(32, 32, kernel_size=(3, 3), stride=(1, 1), padding=(1, 1), bias=False)\n",
       "          )\n",
       "          (skip_path): Conv2d(16, 32, kernel_size=(1, 1), stride=(2, 2), bias=False)\n",
       "        )\n",
       "        (5): PreBasicBlock(\n",
       "          (main_path): Sequential(\n",
       "            (0): BatchNorm2d(32, eps=1e-05, momentum=0.1, affine=True, track_running_stats=False)\n",
       "            (1): ReLU()\n",
       "            (2): Conv2d(32, 32, kernel_size=(3, 3), stride=(1, 1), padding=(1, 1), bias=False)\n",
       "            (3): BatchNorm2d(32, eps=1e-05, momentum=0.1, affine=True, track_running_stats=False)\n",
       "            (4): ReLU()\n",
       "            (5): Conv2d(32, 32, kernel_size=(3, 3), stride=(1, 1), padding=(1, 1), bias=False)\n",
       "          )\n",
       "          (skip_path): Identity()\n",
       "        )\n",
       "        (6): PreBasicBlock(\n",
       "          (main_path): Sequential(\n",
       "            (0): BatchNorm2d(32, eps=1e-05, momentum=0.1, affine=True, track_running_stats=False)\n",
       "            (1): ReLU()\n",
       "            (2): Conv2d(32, 32, kernel_size=(3, 3), stride=(1, 1), padding=(1, 1), bias=False)\n",
       "            (3): BatchNorm2d(32, eps=1e-05, momentum=0.1, affine=True, track_running_stats=False)\n",
       "            (4): ReLU()\n",
       "            (5): Conv2d(32, 32, kernel_size=(3, 3), stride=(1, 1), padding=(1, 1), bias=False)\n",
       "          )\n",
       "          (skip_path): Identity()\n",
       "        )\n",
       "        (7): PreBasicBlock(\n",
       "          (main_path): Sequential(\n",
       "            (0): BatchNorm2d(32, eps=1e-05, momentum=0.1, affine=True, track_running_stats=False)\n",
       "            (1): ReLU()\n",
       "            (2): Conv2d(32, 64, kernel_size=(3, 3), stride=(2, 2), padding=(1, 1), bias=False)\n",
       "            (3): BatchNorm2d(64, eps=1e-05, momentum=0.1, affine=True, track_running_stats=False)\n",
       "            (4): ReLU()\n",
       "            (5): Conv2d(64, 64, kernel_size=(3, 3), stride=(1, 1), padding=(1, 1), bias=False)\n",
       "          )\n",
       "          (skip_path): Conv2d(32, 64, kernel_size=(1, 1), stride=(2, 2), bias=False)\n",
       "        )\n",
       "        (8): PreBasicBlock(\n",
       "          (main_path): Sequential(\n",
       "            (0): BatchNorm2d(64, eps=1e-05, momentum=0.1, affine=True, track_running_stats=False)\n",
       "            (1): ReLU()\n",
       "            (2): Conv2d(64, 64, kernel_size=(3, 3), stride=(1, 1), padding=(1, 1), bias=False)\n",
       "            (3): BatchNorm2d(64, eps=1e-05, momentum=0.1, affine=True, track_running_stats=False)\n",
       "            (4): ReLU()\n",
       "            (5): Conv2d(64, 64, kernel_size=(3, 3), stride=(1, 1), padding=(1, 1), bias=False)\n",
       "          )\n",
       "          (skip_path): Identity()\n",
       "        )\n",
       "        (9): PreBasicBlock(\n",
       "          (main_path): Sequential(\n",
       "            (0): BatchNorm2d(64, eps=1e-05, momentum=0.1, affine=True, track_running_stats=False)\n",
       "            (1): ReLU()\n",
       "            (2): Conv2d(64, 64, kernel_size=(3, 3), stride=(1, 1), padding=(1, 1), bias=False)\n",
       "            (3): BatchNorm2d(64, eps=1e-05, momentum=0.1, affine=True, track_running_stats=False)\n",
       "            (4): ReLU()\n",
       "            (5): Conv2d(64, 64, kernel_size=(3, 3), stride=(1, 1), padding=(1, 1), bias=False)\n",
       "          )\n",
       "          (skip_path): Identity()\n",
       "        )\n",
       "        (10): BatchNorm2d(64, eps=1e-05, momentum=0.1, affine=True, track_running_stats=False)\n",
       "        (11): ReLU()\n",
       "        (12): AvgPool2d(kernel_size=8, stride=8, padding=0)\n",
       "        (13): Flatten(start_dim=1, end_dim=-1)\n",
       "        (14): Linear(in_features=64, out_features=10, bias=True)\n",
       "      )\n",
       "    )\n",
       "    (1): LogSoftmax(dim=1)\n",
       "  )\n",
       ")"
      ]
     },
     "execution_count": 22,
     "metadata": {},
     "output_type": "execute_result"
    }
   ],
   "source": [
    "from training.pp import MAP\n",
    "\n",
    "layers = [\n",
    "    (\"preresnet-20\", (32, 3, 10)),\n",
    "    (\"logsoftmax\", ())\n",
    "]\n",
    "\n",
    "model = MAP(layers)\n",
    "\n",
    "model.train_model(160, torch.nn.NLLLoss(), sgd(1e-1, weight_decay=1e-4, momentum=0.9, nesterov=True), trainloader, batch_size, device, scheduler_factory=wilson_scheduler(160, 0.1, None))\n",
    "#model.load_state_dict(torch.load(\"/mnt/d/Uni/Bachelorarbeit/results/CIFAR10/2/results/MAP/log/rep_00model.tar\"))\n",
    "model.to(device)"
   ]
  },
  {
   "cell_type": "code",
   "execution_count": 12,
   "metadata": {},
   "outputs": [
    {
     "name": "stdout",
     "output_type": "stream",
     "text": [
      " Accuracy: 0.43424999713897705\n",
      " Avg Log Likelihood: -5.012221813201904\n",
      " Avg Likelihood: 0.4180564284324646\n",
      " ECE: 0.4057955401577055\n"
     ]
    },
    {
     "data": {
      "text/plain": [
       "(tensor(0.4342),\n",
       " tensor(-5.0122),\n",
       " tensor(0.4181),\n",
       " <training.calibration.ClassificationCalibrationResults at 0x7f6c63d8fb20>)"
      ]
     },
     "execution_count": 12,
     "metadata": {},
     "output_type": "execute_result"
    }
   ],
   "source": [
    "import experiments.base.multiclass_classification as exp\n",
    "\n",
    "exp.eval_model(model, 5, stl_testloader, device)"
   ]
  },
  {
   "cell_type": "code",
   "execution_count": null,
   "metadata": {},
   "outputs": [],
   "source": [
    "from training.bbb import BBBModel, GaussianPrior\n",
    "\n",
    "prior = GaussianPrior(torch.tensor(0), torch.tensor(1))\n",
    "layers = [\n",
    "    (\"variational-preresnet-20\", (32, 3, 10, prior)),\n",
    "    (\"logsoftmax\", ())\n",
    "]\n",
    "\n",
    "model = BBBModel(layers)\n",
    "\n",
    "model.train_model(120, torch.nn.NLLLoss(), sgd(1e-1), trainloader, batch_size, device, scheduler_factory=lr_scheduler([80, 120], 0.1), mc_samples=2, kl_rescaling=0.5)"
   ]
  },
  {
   "cell_type": "code",
   "execution_count": null,
   "metadata": {},
   "outputs": [
    {
     "name": "stdout",
     "output_type": "stream",
     "text": [
      "tensor(0.5264)\n",
      " Accuracy: 0.37957367300987244\n",
      " Avg Log Likelihood: -2.0528364181518555\n",
      " Avg Likelihood: 0.30053094029426575\n",
      " ECE: 0.146800649462405\n"
     ]
    },
    {
     "data": {
      "text/plain": [
       "(tensor(0.3796),\n",
       " tensor(-2.0528),\n",
       " tensor(0.3005),\n",
       " <training.calibration.ClassificationCalibrationResults at 0x7fcc00161f70>)"
      ]
     },
     "execution_count": 22,
     "metadata": {},
     "output_type": "execute_result"
    }
   ],
   "source": [
    "import experiments.base.multiclass_classification as exp\n",
    "\n",
    "model.to(device)\n",
    "exp.eval_model(model, 5, corrupted_testloader, device)"
   ]
  },
  {
   "cell_type": "code",
   "execution_count": 19,
   "metadata": {},
   "outputs": [
    {
     "name": "stdout",
     "output_type": "stream",
     "text": [
      " Accuracy: 0.720300018787384\n",
      " Avg Log Likelihood: -1.1909916400909424\n",
      " Avg Likelihood: 0.6958616971969604\n",
      " ECE: 0.15854743110537528\n"
     ]
    },
    {
     "data": {
      "text/plain": [
       "(tensor(0.7203),\n",
       " tensor(-1.1910),\n",
       " tensor(0.6959),\n",
       " <training.calibration.ClassificationCalibrationResults at 0x7f6c75a63c40>)"
      ]
     },
     "execution_count": 19,
     "metadata": {},
     "output_type": "execute_result"
    }
   ],
   "source": [
    "import experiments.base.multiclass_classification as exp\n",
    "\n",
    "exp.eval_model(model, 5, testloader, device)"
   ]
  },
  {
   "cell_type": "code",
   "execution_count": 9,
   "metadata": {},
   "outputs": [
    {
     "name": "stdout",
     "output_type": "stream",
     "text": [
      "Epoch 0: loss 2.3485770225524902\n",
      "Epoch 1: loss 2.34991717338562\n",
      "Epoch 2: loss 2.3480513095855713\n",
      "Epoch 3: loss 2.3499252796173096\n"
     ]
    },
    {
     "ename": "KeyboardInterrupt",
     "evalue": "",
     "output_type": "error",
     "traceback": [
      "\u001b[0;31m---------------------------------------------------------------------------\u001b[0m",
      "\u001b[0;31mKeyboardInterrupt\u001b[0m                         Traceback (most recent call last)",
      "\u001b[1;32m/home/flo/VariationalBayesianDL/CIFAR.ipynb Cell 6'\u001b[0m in \u001b[0;36m<cell line: 10>\u001b[0;34m()\u001b[0m\n\u001b[1;32m      <a href='vscode-notebook-cell://wsl%2Bubuntu/home/flo/VariationalBayesianDL/CIFAR.ipynb#ch0000005vscode-remote?line=3'>4</a>\u001b[0m layers \u001b[39m=\u001b[39m [\n\u001b[1;32m      <a href='vscode-notebook-cell://wsl%2Bubuntu/home/flo/VariationalBayesianDL/CIFAR.ipynb#ch0000005vscode-remote?line=4'>5</a>\u001b[0m     (\u001b[39m\"\u001b[39m\u001b[39mpreresnet-20\u001b[39m\u001b[39m\"\u001b[39m, (\u001b[39m32\u001b[39m, \u001b[39m3\u001b[39m, \u001b[39m10\u001b[39m)),\n\u001b[1;32m      <a href='vscode-notebook-cell://wsl%2Bubuntu/home/flo/VariationalBayesianDL/CIFAR.ipynb#ch0000005vscode-remote?line=5'>6</a>\u001b[0m     (\u001b[39m\"\u001b[39m\u001b[39mlogsoftmax\u001b[39m\u001b[39m\"\u001b[39m, ())\n\u001b[1;32m      <a href='vscode-notebook-cell://wsl%2Bubuntu/home/flo/VariationalBayesianDL/CIFAR.ipynb#ch0000005vscode-remote?line=6'>7</a>\u001b[0m ]\n\u001b[1;32m      <a href='vscode-notebook-cell://wsl%2Bubuntu/home/flo/VariationalBayesianDL/CIFAR.ipynb#ch0000005vscode-remote?line=8'>9</a>\u001b[0m model \u001b[39m=\u001b[39m VOGNModule(layers)\n\u001b[0;32m---> <a href='vscode-notebook-cell://wsl%2Bubuntu/home/flo/VariationalBayesianDL/CIFAR.ipynb#ch0000005vscode-remote?line=9'>10</a>\u001b[0m model\u001b[39m.\u001b[39;49mtrain_model(\u001b[39m10\u001b[39;49m, torch\u001b[39m.\u001b[39;49mnn\u001b[39m.\u001b[39;49mNLLLoss(), {\u001b[39m\"\u001b[39;49m\u001b[39mlr\u001b[39;49m\u001b[39m\"\u001b[39;49m: \u001b[39m1e-6\u001b[39;49m, \u001b[39m\"\u001b[39;49m\u001b[39mprior_prec\u001b[39;49m\u001b[39m\"\u001b[39;49m: \u001b[39m150\u001b[39;49m, \u001b[39m\"\u001b[39;49m\u001b[39mbetas\u001b[39;49m\u001b[39m\"\u001b[39;49m: (\u001b[39m0.9\u001b[39;49m, \u001b[39m0.999\u001b[39;49m), \u001b[39m\"\u001b[39;49m\u001b[39mdamping\u001b[39;49m\u001b[39m\"\u001b[39;49m: \u001b[39m1\u001b[39;49m, \u001b[39m\"\u001b[39;49m\u001b[39maugmentation\u001b[39;49m\u001b[39m\"\u001b[39;49m: \u001b[39m1\u001b[39;49m, \u001b[39m\"\u001b[39;49m\u001b[39msample\u001b[39;49m\u001b[39m\"\u001b[39;49m: \u001b[39mFalse\u001b[39;49;00m}, trainloader, batch_size, device, mc_samples\u001b[39m=\u001b[39;49m\u001b[39m2\u001b[39;49m)\n",
      "File \u001b[0;32m~/VariationalBayesianDL/training/vogn.py:115\u001b[0m, in \u001b[0;36mVOGNModule.train_model\u001b[0;34m(self, epochs, loss_fn, optim_params, loader, batch_size, device, report_every_epochs, mc_samples)\u001b[0m\n\u001b[1;32m    112\u001b[0m data, target \u001b[39m=\u001b[39m data\u001b[39m.\u001b[39mto(device), target\u001b[39m.\u001b[39mto(device)\n\u001b[1;32m    113\u001b[0m data, target \u001b[39m=\u001b[39m data\u001b[39m.\u001b[39mexpand(mc_samples, \u001b[39m*\u001b[39mdata\u001b[39m.\u001b[39mshape), target\u001b[39m.\u001b[39mexpand(mc_samples, \u001b[39m*\u001b[39mtarget\u001b[39m.\u001b[39mshape)\n\u001b[0;32m--> 115\u001b[0m grads, loss \u001b[39m=\u001b[39m vmap(run_sample, (\u001b[39mNone\u001b[39;49;00m, \u001b[39mNone\u001b[39;49;00m, \u001b[39m0\u001b[39;49m, \u001b[39m0\u001b[39;49m), randomness\u001b[39m=\u001b[39;49m\u001b[39m\"\u001b[39;49m\u001b[39mdifferent\u001b[39;49m\u001b[39m\"\u001b[39;49m)(\u001b[39mself\u001b[39;49m\u001b[39m.\u001b[39;49mparams, \u001b[39mself\u001b[39;49m\u001b[39m.\u001b[39;49moptim_state, data, target)\n\u001b[1;32m    116\u001b[0m loss \u001b[39m=\u001b[39m loss\u001b[39m.\u001b[39mmean()\n\u001b[1;32m    117\u001b[0m \u001b[39mself\u001b[39m\u001b[39m.\u001b[39mparams, \u001b[39mself\u001b[39m\u001b[39m.\u001b[39moptim_state \u001b[39m=\u001b[39m vogn_step(\u001b[39mself\u001b[39m\u001b[39m.\u001b[39mparams, grads, \u001b[39mself\u001b[39m\u001b[39m.\u001b[39moptim_state)\n",
      "File \u001b[0;32m~/anaconda3/envs/bdl2/lib/python3.9/site-packages/functorch/_src/vmap.py:383\u001b[0m, in \u001b[0;36mvmap.<locals>.wrapped\u001b[0;34m(*args, **kwargs)\u001b[0m\n\u001b[1;32m    381\u001b[0m \u001b[39mtry\u001b[39;00m:\n\u001b[1;32m    382\u001b[0m     batched_inputs \u001b[39m=\u001b[39m _create_batched_inputs(flat_in_dims, flat_args, vmap_level, args_spec)\n\u001b[0;32m--> 383\u001b[0m     batched_outputs \u001b[39m=\u001b[39m func(\u001b[39m*\u001b[39;49mbatched_inputs, \u001b[39m*\u001b[39;49m\u001b[39m*\u001b[39;49mkwargs)\n\u001b[1;32m    384\u001b[0m     \u001b[39mreturn\u001b[39;00m _unwrap_batched(batched_outputs, out_dims, vmap_level, batch_size, func)\n\u001b[1;32m    385\u001b[0m \u001b[39mfinally\u001b[39;00m:\n",
      "File \u001b[0;32m~/VariationalBayesianDL/training/vogn.py:107\u001b[0m, in \u001b[0;36mVOGNModule.train_model.<locals>.run_sample\u001b[0;34m(parameters, optim_state, input, target)\u001b[0m\n\u001b[1;32m    105\u001b[0m \u001b[39mdef\u001b[39;00m \u001b[39mrun_sample\u001b[39m(parameters, optim_state, \u001b[39minput\u001b[39m, target):\n\u001b[1;32m    106\u001b[0m     prep_params \u001b[39m=\u001b[39m vogn_prepare(parameters, optim_state)\n\u001b[0;32m--> 107\u001b[0m     \u001b[39mreturn\u001b[39;00m vmap(grad_and_value(get_loss), (\u001b[39mNone\u001b[39;49;00m, \u001b[39m0\u001b[39;49m, \u001b[39m0\u001b[39;49m))(prep_params, \u001b[39minput\u001b[39;49m, target)\n",
      "File \u001b[0;32m~/anaconda3/envs/bdl2/lib/python3.9/site-packages/functorch/_src/vmap.py:383\u001b[0m, in \u001b[0;36mvmap.<locals>.wrapped\u001b[0;34m(*args, **kwargs)\u001b[0m\n\u001b[1;32m    381\u001b[0m \u001b[39mtry\u001b[39;00m:\n\u001b[1;32m    382\u001b[0m     batched_inputs \u001b[39m=\u001b[39m _create_batched_inputs(flat_in_dims, flat_args, vmap_level, args_spec)\n\u001b[0;32m--> 383\u001b[0m     batched_outputs \u001b[39m=\u001b[39m func(\u001b[39m*\u001b[39;49mbatched_inputs, \u001b[39m*\u001b[39;49m\u001b[39m*\u001b[39;49mkwargs)\n\u001b[1;32m    384\u001b[0m     \u001b[39mreturn\u001b[39;00m _unwrap_batched(batched_outputs, out_dims, vmap_level, batch_size, func)\n\u001b[1;32m    385\u001b[0m \u001b[39mfinally\u001b[39;00m:\n",
      "File \u001b[0;32m~/anaconda3/envs/bdl2/lib/python3.9/site-packages/functorch/_src/eager_transforms.py:1074\u001b[0m, in \u001b[0;36mgrad_and_value.<locals>.wrapper\u001b[0;34m(*args, **kwargs)\u001b[0m\n\u001b[1;32m   1072\u001b[0m \u001b[39m# NB: need create_graph so that backward pass isn't run in no_grad mode\u001b[39;00m\n\u001b[1;32m   1073\u001b[0m flat_outputs \u001b[39m=\u001b[39m _as_tuple(output)\n\u001b[0;32m-> 1074\u001b[0m flat_grad_input \u001b[39m=\u001b[39m _autograd_grad(flat_outputs, flat_diff_args, create_graph\u001b[39m=\u001b[39;49m\u001b[39mTrue\u001b[39;49;00m)\n\u001b[1;32m   1075\u001b[0m grad_input \u001b[39m=\u001b[39m tree_unflatten(flat_grad_input, spec)\n\u001b[1;32m   1077\u001b[0m grad_input \u001b[39m=\u001b[39m _undo_create_differentiable(grad_input, level)\n",
      "File \u001b[0;32m~/anaconda3/envs/bdl2/lib/python3.9/site-packages/functorch/_src/eager_transforms.py:93\u001b[0m, in \u001b[0;36m_autograd_grad\u001b[0;34m(outputs, inputs, grad_outputs, retain_graph, create_graph)\u001b[0m\n\u001b[1;32m     91\u001b[0m \u001b[39mif\u001b[39;00m \u001b[39mlen\u001b[39m(diff_outputs) \u001b[39m==\u001b[39m \u001b[39m0\u001b[39m:\n\u001b[1;32m     92\u001b[0m     \u001b[39mreturn\u001b[39;00m \u001b[39mtuple\u001b[39m(torch\u001b[39m.\u001b[39mzeros_like(inp) \u001b[39mfor\u001b[39;00m inp \u001b[39min\u001b[39;00m inputs)\n\u001b[0;32m---> 93\u001b[0m grad_inputs \u001b[39m=\u001b[39m torch\u001b[39m.\u001b[39;49mautograd\u001b[39m.\u001b[39;49mgrad(diff_outputs, inputs, grad_outputs,\n\u001b[1;32m     94\u001b[0m                                   retain_graph\u001b[39m=\u001b[39;49mretain_graph,\n\u001b[1;32m     95\u001b[0m                                   create_graph\u001b[39m=\u001b[39;49mcreate_graph,\n\u001b[1;32m     96\u001b[0m                                   allow_unused\u001b[39m=\u001b[39;49m\u001b[39mTrue\u001b[39;49;00m)\n\u001b[1;32m     97\u001b[0m grad_inputs \u001b[39m=\u001b[39m \u001b[39mtuple\u001b[39m(torch\u001b[39m.\u001b[39mzeros_like(inp) \u001b[39mif\u001b[39;00m gi \u001b[39mis\u001b[39;00m \u001b[39mNone\u001b[39;00m \u001b[39melse\u001b[39;00m gi\n\u001b[1;32m     98\u001b[0m                     \u001b[39mfor\u001b[39;00m gi, inp \u001b[39min\u001b[39;00m \u001b[39mzip\u001b[39m(grad_inputs, inputs))\n\u001b[1;32m     99\u001b[0m \u001b[39mreturn\u001b[39;00m grad_inputs\n",
      "File \u001b[0;32m~/anaconda3/envs/bdl2/lib/python3.9/site-packages/torch/autograd/__init__.py:275\u001b[0m, in \u001b[0;36mgrad\u001b[0;34m(outputs, inputs, grad_outputs, retain_graph, create_graph, only_inputs, allow_unused, is_grads_batched)\u001b[0m\n\u001b[1;32m    273\u001b[0m     \u001b[39mreturn\u001b[39;00m _vmap_internals\u001b[39m.\u001b[39m_vmap(vjp, \u001b[39m0\u001b[39m, \u001b[39m0\u001b[39m, allow_none_pass_through\u001b[39m=\u001b[39m\u001b[39mTrue\u001b[39;00m)(grad_outputs)\n\u001b[1;32m    274\u001b[0m \u001b[39melse\u001b[39;00m:\n\u001b[0;32m--> 275\u001b[0m     \u001b[39mreturn\u001b[39;00m Variable\u001b[39m.\u001b[39;49m_execution_engine\u001b[39m.\u001b[39;49mrun_backward(  \u001b[39m# Calls into the C++ engine to run the backward pass\u001b[39;49;00m\n\u001b[1;32m    276\u001b[0m         outputs, grad_outputs_, retain_graph, create_graph, inputs,\n\u001b[1;32m    277\u001b[0m         allow_unused, accumulate_grad\u001b[39m=\u001b[39;49m\u001b[39mFalse\u001b[39;49;00m)\n",
      "\u001b[0;31mKeyboardInterrupt\u001b[0m: "
     ]
    }
   ],
   "source": [
    "from training.pp import MAP\n",
    "from training.vogn import iVONModuleFunctorch, VOGNModule\n",
    "\n",
    "layers = [\n",
    "    (\"preresnet-20\", (32, 3, 10)),\n",
    "    (\"logsoftmax\", ())\n",
    "]\n",
    "\n",
    "model = VOGNModule(layers)\n",
    "model.train_model(10, torch.nn.NLLLoss(), {\"lr\": 1e-4, \"prior_prec\": 150, \"betas\": (0.9, 0.999), \"damping\": 1, \"augmentation\": 1, \"sample\": False}, trainloader, batch_size, device, mc_samples=2)"
   ]
  },
  {
   "cell_type": "code",
   "execution_count": 11,
   "metadata": {},
   "outputs": [
    {
     "name": "stdout",
     "output_type": "stream",
     "text": [
      "tensor(0.7874)\n",
      " Accuracy: 0.5201526284217834\n",
      " Avg Log Likelihood: -2.049781560897827\n",
      " Avg Likelihood: 0.493396133184433\n",
      " ECE: 0.26724077704540994\n"
     ]
    },
    {
     "data": {
      "text/plain": [
       "(tensor(0.5202),\n",
       " tensor(-2.0498),\n",
       " tensor(0.4934),\n",
       " <training.calibration.ClassificationCalibrationResults at 0x7fd9bd87dfa0>)"
      ]
     },
     "execution_count": 11,
     "metadata": {},
     "output_type": "execute_result"
    }
   ],
   "source": [
    "import experiments.base.multiclass_classification as exp\n",
    "\n",
    "model.to(device)\n",
    "exp.eval_model(model, 5, corrupted_testloader, device)"
   ]
  },
  {
   "cell_type": "code",
   "execution_count": 20,
   "metadata": {},
   "outputs": [
    {
     "data": {
      "image/png": "[encoded data removed]",
      "text/plain": [
       "<Figure size 432x288 with 1 Axes>"
      ]
     },
     "metadata": {
      "needs_background": "light"
     },
     "output_type": "display_data"
    }
   ],
   "source": [
    "plot_losses(\"MAP\", model.all_losses(), plt.subplot())"
   ]
  }
 ],
 "metadata": {
  "kernelspec": {
   "display_name": "Python 3.9.12 ('bdl2')",
   "language": "python",
   "name": "python3"
  },
  "language_info": {
   "codemirror_mode": {
    "name": "ipython",
    "version": 3
   },
   "file_extension": ".py",
   "mimetype": "text/x-python",
   "name": "python",
   "nbconvert_exporter": "python",
   "pygments_lexer": "ipython3",
   "version": "3.9.12"
  },
  "orig_nbformat": 4,
  "vscode": {
   "interpreter": {
    "hash": "dcfaf3907fb5ccaba69729c1b2eca8858ecf7d628290008c66c1f9d42d557f9b"
   }
  }
 },
 "nbformat": 4,
 "nbformat_minor": 2
}
