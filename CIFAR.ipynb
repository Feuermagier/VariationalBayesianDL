{
 "cells": [
  {
   "cell_type": "code",
   "execution_count": 1,
   "metadata": {},
   "outputs": [
    {
     "name": "stderr",
     "output_type": "stream",
     "text": [
      "/home/flo/anaconda3/envs/bdl2/lib/python3.9/site-packages/tqdm/auto.py:22: TqdmWarning: IProgress not found. Please update jupyter and ipywidgets. See https://ipywidgets.readthedocs.io/en/stable/user_install.html\n",
      "  from .autonotebook import tqdm as notebook_tqdm\n"
     ]
    }
   ],
   "source": [
    "%load_ext autoreload\n",
    "%autoreload 2\n",
    "\n",
    "import torch\n",
    "import matplotlib.pyplot as plt\n",
    "\n",
    "from training.util import sgd, plot_losses, adam, lr_scheduler"
   ]
  },
  {
   "cell_type": "code",
   "execution_count": 2,
   "metadata": {},
   "outputs": [
    {
     "name": "stdout",
     "output_type": "stream",
     "text": [
      "Files already downloaded and verified\n",
      "Files already downloaded and verified\n"
     ]
    }
   ],
   "source": [
    "import experiments.base.cifar as cifar\n",
    "\n",
    "batch_size = 128\n",
    "trainloader = cifar.cifar10_trainloader(\"/mnt/d/Uni/Bachelorarbeit/linux/data/\", batch_size=batch_size, subsample=5000)\n",
    "testloader = cifar.cifar10_testloader(\"/mnt/d/Uni/Bachelorarbeit/linux/data/\", batch_size=batch_size)"
   ]
  },
  {
   "cell_type": "code",
   "execution_count": 3,
   "metadata": {},
   "outputs": [],
   "source": [
    "device = torch.device(\"cuda\")"
   ]
  },
  {
   "cell_type": "code",
   "execution_count": null,
   "metadata": {},
   "outputs": [],
   "source": [
    "import experiments.base.cifar as cifar\n",
    "corrupted_testloader = cifar.cifar10_corrupted_testloader(\"/mnt/d/Uni/Bachelorarbeit/linux/data/\", intensity=4, batch_size=128)"
   ]
  },
  {
   "cell_type": "code",
   "execution_count": 83,
   "metadata": {},
   "outputs": [
    {
     "name": "stdout",
     "output_type": "stream",
     "text": [
      "Epoch 0: loss 1.5686306953430176\n",
      "Epoch 1: loss 1.0529301166534424\n",
      "Epoch 2: loss 0.8770422339439392\n",
      "Epoch 3: loss 0.7610902190208435\n",
      "Epoch 4: loss 0.6916517019271851\n",
      "Epoch 5: loss 0.6315617561340332\n",
      "Epoch 6: loss 0.5899832844734192\n",
      "Epoch 7: loss 0.5543512105941772\n",
      "Epoch 8: loss 0.5241886377334595\n",
      "Epoch 9: loss 0.5046862363815308\n",
      "Epoch 10: loss 0.4847290813922882\n",
      "Epoch 11: loss 0.469944566488266\n",
      "Epoch 12: loss 0.45551446080207825\n",
      "Epoch 13: loss 0.4400014579296112\n",
      "Epoch 14: loss 0.42673036456108093\n",
      "Epoch 15: loss 0.41807594895362854\n",
      "Epoch 16: loss 0.406505823135376\n",
      "Epoch 17: loss 0.4007037281990051\n",
      "Epoch 18: loss 0.3915717601776123\n",
      "Epoch 19: loss 0.38174712657928467\n",
      "Epoch 20: loss 0.37116727232933044\n",
      "Epoch 21: loss 0.36761578917503357\n",
      "Epoch 22: loss 0.35726451873779297\n",
      "Epoch 23: loss 0.3546295166015625\n",
      "Epoch 24: loss 0.3455597162246704\n",
      "Epoch 25: loss 0.3465329110622406\n",
      "Epoch 26: loss 0.3442169725894928\n",
      "Epoch 27: loss 0.33451539278030396\n",
      "Epoch 28: loss 0.33069756627082825\n",
      "Epoch 29: loss 0.3281502425670624\n",
      "Epoch 30: loss 0.3219841420650482\n",
      "Epoch 31: loss 0.3251621723175049\n",
      "Epoch 32: loss 0.3138786256313324\n",
      "Epoch 33: loss 0.31223616003990173\n",
      "Epoch 34: loss 0.3167276978492737\n",
      "Epoch 35: loss 0.3122183382511139\n",
      "Epoch 36: loss 0.30653735995292664\n",
      "Epoch 37: loss 0.30338677763938904\n",
      "Epoch 38: loss 0.30178484320640564\n",
      "Epoch 39: loss 0.30186647176742554\n",
      "Epoch 40: loss 0.29577505588531494\n",
      "Epoch 41: loss 0.29512885212898254\n",
      "Epoch 42: loss 0.29360300302505493\n",
      "Epoch 43: loss 0.29008013010025024\n",
      "Epoch 44: loss 0.29023244976997375\n",
      "Epoch 45: loss 0.29242369532585144\n",
      "Epoch 46: loss 0.28079038858413696\n",
      "Epoch 47: loss 0.2806015610694885\n",
      "Epoch 48: loss 0.28043147921562195\n",
      "Epoch 49: loss 0.27785369753837585\n",
      "Epoch 50: loss 0.2800668179988861\n",
      "Epoch 51: loss 0.27638959884643555\n",
      "Epoch 52: loss 0.2714596390724182\n",
      "Epoch 53: loss 0.2712535262107849\n",
      "Epoch 54: loss 0.27532756328582764\n",
      "Epoch 55: loss 0.27392494678497314\n",
      "Epoch 56: loss 0.2662695050239563\n",
      "Epoch 57: loss 0.27491089701652527\n",
      "Epoch 58: loss 0.2668992280960083\n",
      "Epoch 59: loss 0.26349568367004395\n",
      "Epoch 60: loss 0.17117203772068024\n",
      "Epoch 61: loss 0.13779808580875397\n",
      "Epoch 62: loss 0.12939302623271942\n",
      "Epoch 63: loss 0.12264324724674225\n",
      "Epoch 64: loss 0.1175255998969078\n",
      "Epoch 65: loss 0.11209692060947418\n",
      "Epoch 66: loss 0.10691308975219727\n",
      "Epoch 67: loss 0.10254234075546265\n",
      "Epoch 68: loss 0.10107965022325516\n",
      "Epoch 69: loss 0.09912040829658508\n",
      "Epoch 70: loss 0.09539817273616791\n",
      "Epoch 71: loss 0.09343989938497543\n",
      "Epoch 72: loss 0.09106919169425964\n",
      "Epoch 73: loss 0.0887606218457222\n",
      "Epoch 74: loss 0.08683571964502335\n",
      "Epoch 75: loss 0.08584796637296677\n",
      "Epoch 76: loss 0.08318771421909332\n",
      "Epoch 77: loss 0.07946005463600159\n",
      "Epoch 78: loss 0.0771266520023346\n",
      "Epoch 79: loss 0.07941019535064697\n",
      "Epoch 80: loss 0.07503997534513474\n",
      "Epoch 81: loss 0.073201023042202\n",
      "Epoch 82: loss 0.07144550234079361\n",
      "Epoch 83: loss 0.0695471540093422\n",
      "Epoch 84: loss 0.07117161899805069\n",
      "Epoch 85: loss 0.06837859749794006\n",
      "Epoch 86: loss 0.06716601550579071\n",
      "Epoch 87: loss 0.06982316076755524\n",
      "Epoch 88: loss 0.06488437950611115\n",
      "Epoch 89: loss 0.0667446181178093\n",
      "Epoch 90: loss 0.06407088786363602\n",
      "Epoch 91: loss 0.06260329484939575\n",
      "Epoch 92: loss 0.06297047436237335\n",
      "Epoch 93: loss 0.06293467432260513\n",
      "Epoch 94: loss 0.05840852111577988\n",
      "Epoch 95: loss 0.06029999256134033\n",
      "Epoch 96: loss 0.05863047391176224\n",
      "Epoch 97: loss 0.0573183111846447\n",
      "Epoch 98: loss 0.057514626532793045\n",
      "Epoch 99: loss 0.05651530623435974\n",
      "Final loss 0.05651530623435974\n"
     ]
    }
   ],
   "source": [
    "from training.pp import MAP\n",
    "\n",
    "layers = [\n",
    "    (\"preresnet-20\", (32, 3, 10)),\n",
    "    (\"logsoftmax\", ())\n",
    "]\n",
    "\n",
    "model = MAP(layers)\n",
    "\n",
    "model.train_model(160, torch.nn.NLLLoss(), sgd(1e-1, weight_decay=1e-4, momentum=0.9, nesterov=True), trainloader, batch_size, device, scheduler_factory=lr_scheduler([80, 120], 0.1))"
   ]
  },
  {
   "cell_type": "code",
   "execution_count": 4,
   "metadata": {},
   "outputs": [],
   "source": [
    "from training.pp import MAP\n",
    "from training.vogn import iVONModuleFunctorch, VOGNModule\n",
    "\n",
    "layers = [\n",
    "    (\"preresnet-20\", (32, 3, 10)),\n",
    "    (\"logsoftmax\", ())\n",
    "]\n",
    "\n",
    "model = VOGNModule(layers)\n",
    "model.train_model(10, torch.nn.NLLLoss(), {\"lr\": 1e-4, \"prior_prec\": 150, \"betas\": (0.9, 0.999), \"damping\": 1, \"augmentation\": 1, \"sample\": False}, trainloader, batch_size, device, mc_samples=2)"
   ]
  },
  {
   "cell_type": "code",
   "execution_count": 84,
   "metadata": {},
   "outputs": [
    {
     "name": "stdout",
     "output_type": "stream",
     "text": [
      " Accuracy: 0.8496999740600586\n",
      " Avg Log Likelihood: -0.5370649695396423\n",
      " Avg Likelihood: 0.8302077054977417\n",
      " ECE: 0.06883288042247296\n"
     ]
    },
    {
     "data": {
      "text/plain": [
       "(tensor(0.8497),\n",
       " tensor(-0.5371),\n",
       " tensor(0.8302),\n",
       " <training.calibration.ClassificationCalibrationResults at 0x7fcc92551bb0>)"
      ]
     },
     "execution_count": 84,
     "metadata": {},
     "output_type": "execute_result"
    }
   ],
   "source": [
    "import experiments.base.multiclass_classification as exp\n",
    "\n",
    "model.to(device)\n",
    "exp.eval_model(model, 5, testloader, device)"
   ]
  },
  {
   "cell_type": "code",
   "execution_count": 85,
   "metadata": {},
   "outputs": [
    {
     "data": {
      "image/png": "[encoded data removed]",
      "text/plain": [
       "<Figure size 432x288 with 1 Axes>"
      ]
     },
     "metadata": {
      "needs_background": "light"
     },
     "output_type": "display_data"
    }
   ],
   "source": [
    "plot_losses(\"MAP\", model.all_losses(), plt.subplot())"
   ]
  }
 ],
 "metadata": {
  "kernelspec": {
   "display_name": "Python 3.9.12 ('bdl2')",
   "language": "python",
   "name": "python3"
  },
  "language_info": {
   "codemirror_mode": {
    "name": "ipython",
    "version": 3
   },
   "file_extension": ".py",
   "mimetype": "text/x-python",
   "name": "python",
   "nbconvert_exporter": "python",
   "pygments_lexer": "ipython3",
   "version": "3.9.12"
  },
  "orig_nbformat": 4,
  "vscode": {
   "interpreter": {
    "hash": "dcfaf3907fb5ccaba69729c1b2eca8858ecf7d628290008c66c1f9d42d557f9b"
   }
  }
 },
 "nbformat": 4,
 "nbformat_minor": 2
}
