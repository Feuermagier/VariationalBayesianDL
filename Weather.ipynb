{
 "cells": [
  {
   "cell_type": "code",
   "execution_count": 1,
   "metadata": {},
   "outputs": [
    {
     "name": "stderr",
     "output_type": "stream",
     "text": [
      "/home/flo/anaconda3/envs/bdl2/lib/python3.9/site-packages/tqdm/auto.py:22: TqdmWarning: IProgress not found. Please update jupyter and ipywidgets. See https://ipywidgets.readthedocs.io/en/stable/user_install.html\n",
      "  from .autonotebook import tqdm as notebook_tqdm\n"
     ]
    }
   ],
   "source": [
    "%load_ext autoreload\n",
    "%autoreload 2\n",
    "\n",
    "import torch\n",
    "import torch.nn.functional as F\n",
    "from experiments.base.shifts import WeatherShiftsDataset\n",
    "from training.util import nll_loss, adam, sgd, EarlyStopper\n",
    "\n",
    "dataset = WeatherShiftsDataset(\"/mnt/d/Uni/Bachelorarbeit/linux/data/\")"
   ]
  },
  {
   "cell_type": "code",
   "execution_count": 2,
   "metadata": {},
   "outputs": [],
   "source": [
    "device = torch.device(\"cpu\")"
   ]
  },
  {
   "cell_type": "code",
   "execution_count": 3,
   "metadata": {},
   "outputs": [],
   "source": [
    "batch_size = 512\n",
    "trainloader = dataset.trainloader(batch_size, small=True)\n",
    "valloader = dataset.in_valloader(1000)\n",
    "init_std = torch.tensor(0.1)"
   ]
  },
  {
   "cell_type": "code",
   "execution_count": 4,
   "metadata": {},
   "outputs": [],
   "source": [
    "def validate(model):\n",
    "    with torch.no_grad():\n",
    "        loss = 0\n",
    "        for data, target in valloader:\n",
    "            output = model(data, 100).mean(dim=0)\n",
    "            loss += nll_loss(output, target).detach().item()\n",
    "        return loss / len(valloader)"
   ]
  },
  {
   "cell_type": "code",
   "execution_count": null,
   "metadata": {},
   "outputs": [],
   "source": [
    "from training.bbb import GaussianPrior, BBBModel\n",
    "\n",
    "prior = GaussianPrior(0, 1)\n",
    "layers = [\n",
    "    (\"v_fc\", (123, 250, prior, {})),\n",
    "    (\"relu\", ()),\n",
    "    (\"v_fc\", (250, 250, prior, {})),\n",
    "    (\"relu\", ()),\n",
    "    (\"v_fc\", (250, 1, prior, {})),\n",
    "    (\"gauss\", (init_std, True)),\n",
    "]\n",
    "\n",
    "model = BBBModel(layers)\n",
    "model.train_model(10, nll_loss, adam(0.003), trainloader, 512, device, mc_samples=2, kl_rescaling=0.2, report_every_epochs=1)\n"
   ]
  },
  {
   "cell_type": "code",
   "execution_count": 28,
   "metadata": {},
   "outputs": [
    {
     "name": "stdout",
     "output_type": "stream",
     "text": [
      "Epoch 0: loss 2.1840457916259766\n",
      "Epoch 1: loss -0.8537770509719849\n",
      "Epoch 2: loss -0.9290555119514465\n",
      "Epoch 3: loss -0.9808865785598755\n",
      "Epoch 4: loss -1.017924427986145\n",
      "Epoch 5: loss -1.036207675933838\n",
      "Epoch 6: loss -1.0351866483688354\n",
      "Epoch 7: loss -1.0352941751480103\n",
      "Epoch 8: loss -1.0479520559310913\n",
      "Epoch 9: loss -1.0319256782531738\n",
      "Final loss -1.0319256782531738\n"
     ]
    }
   ],
   "source": [
    "from training.vogn import VOGNModule, iVONModuleFunctorch\n",
    "\n",
    "layers = [\n",
    "    (\"fc\", (123, 256)),\n",
    "    (\"relu\", ()),\n",
    "    (\"fc\", (256, 512)),\n",
    "    (\"relu\", ()),\n",
    "    (\"fc\", (512, 256)),\n",
    "    (\"relu\", ()),\n",
    "    (\"fc\", (256, 128)),\n",
    "    (\"relu\", ()),\n",
    "    (\"fc\", (128, 1)),\n",
    "    (\"gauss\", (init_std, True)),\n",
    "]\n",
    "\n",
    "model = iVONModuleFunctorch(layers)\n",
    "model.train_model(10, nll_loss, {\"lr\": 3e-3, \"prior_prec\": 100, \"damping\": 1e-3, \"betas\": (0.9, 0.999), \"sample\": True}, trainloader, batch_size, device, mc_samples=2)"
   ]
  },
  {
   "cell_type": "code",
   "execution_count": 30,
   "metadata": {},
   "outputs": [
    {
     "name": "stdout",
     "output_type": "stream",
     "text": [
      "Epoch 0: loss 2.595972776412964\n",
      "Epoch 1: loss 0.4667265713214874\n",
      "Epoch 2: loss 0.02813771553337574\n",
      "Epoch 3: loss -0.218293696641922\n",
      "Epoch 4: loss -0.43715429306030273\n",
      "Epoch 5: loss -0.5821081399917603\n",
      "Epoch 6: loss -0.6841873526573181\n",
      "Epoch 7: loss -0.7302435636520386\n",
      "Epoch 8: loss -0.7684341073036194\n",
      "Epoch 9: loss -0.8158431649208069\n",
      "Epoch 10: loss -0.8404673337936401\n",
      "Epoch 11: loss -0.8662179112434387\n",
      "Epoch 12: loss -0.8714732527732849\n",
      "Epoch 13: loss -0.8865500092506409\n",
      "Epoch 14: loss -0.8997650146484375\n",
      "Epoch 15: loss -0.9085706472396851\n",
      "Epoch 16: loss -0.9146618843078613\n",
      "Epoch 17: loss -0.9211964011192322\n",
      "Epoch 18: loss -0.9217075705528259\n",
      "Epoch 19: loss -0.9288759827613831\n",
      "Epoch 20: loss -0.9236927032470703\n",
      "Epoch 21: loss -0.9224843382835388\n",
      "Epoch 22: loss -0.9266132116317749\n",
      "Epoch 23: loss -0.9291160106658936\n",
      "Epoch 24: loss -0.9360290765762329\n",
      "Epoch 25: loss -0.9246293902397156\n",
      "Epoch 26: loss -0.9316752552986145\n",
      "Epoch 27: loss -0.9406249523162842\n",
      "Epoch 28: loss -0.9420623779296875\n",
      "Epoch 29: loss -0.9469810128211975\n",
      "Epoch 30: loss -0.9244711995124817\n",
      "Epoch 31: loss -0.9443849921226501\n",
      "Epoch 32: loss -0.9385331869125366\n",
      "Epoch 33: loss -0.9351605772972107\n",
      "Epoch 34: loss -0.9480900764465332\n",
      "Epoch 35: loss -0.9443548321723938\n",
      "Epoch 36: loss -0.9433120489120483\n",
      "Epoch 37: loss -0.9423383474349976\n",
      "Epoch 38: loss -0.9485146403312683\n",
      "Epoch 39: loss -0.9422011971473694\n",
      "Epoch 40: loss -0.9494993090629578\n",
      "Epoch 41: loss -0.9459684491157532\n",
      "Epoch 42: loss -0.9411444067955017\n",
      "Epoch 43: loss -0.9527804255485535\n",
      "Epoch 44: loss -0.9297583699226379\n",
      "Epoch 45: loss -0.94818514585495\n",
      "Epoch 46: loss -0.9550596475601196\n",
      "Epoch 47: loss -0.9491745233535767\n",
      "Epoch 48: loss -0.9356560111045837\n",
      "Epoch 49: loss -0.9472296237945557\n",
      "Final loss -0.9472296237945557\n"
     ]
    }
   ],
   "source": [
    "from training.pp import MAP\n",
    "from training.swag import SwagModel\n",
    "\n",
    "p = 0.2\n",
    "layers = [\n",
    "    (\"dropout\", (p,)),\n",
    "    (\"fc\", (123, 250)),\n",
    "    (\"dropout\", (p,)),\n",
    "    (\"relu\", ()),\n",
    "    (\"fc\", (250, 250)),\n",
    "    (\"dropout\", (p,)),\n",
    "    (\"relu\", ()),\n",
    "    (\"fc\", (250, 1)),\n",
    "    (\"gauss\", (init_std, True)),\n",
    "]\n",
    "\n",
    "model = MAP(layers)\n",
    "model.train_model(50, nll_loss, adam(3e-3), trainloader, batch_size, device)"
   ]
  },
  {
   "cell_type": "code",
   "execution_count": 14,
   "metadata": {},
   "outputs": [
    {
     "ename": "TypeError",
     "evalue": "'FunctionalModuleWithBuffers' object is not subscriptable",
     "output_type": "error",
     "traceback": [
      "\u001b[0;31m---------------------------------------------------------------------------\u001b[0m",
      "\u001b[0;31mTypeError\u001b[0m                                 Traceback (most recent call last)",
      "\u001b[1;32m/home/flo/VariationalBayesianDL/Weather.ipynb Cell 8\u001b[0m in \u001b[0;36m<cell line: 1>\u001b[0;34m()\u001b[0m\n\u001b[0;32m----> <a href='vscode-notebook-cell://wsl%2Bubuntu/home/flo/VariationalBayesianDL/Weather.ipynb#ch0000005vscode-remote?line=0'>1</a>\u001b[0m model\u001b[39m.\u001b[39;49mmodel[\u001b[39m-\u001b[39;49m\u001b[39m1\u001b[39;49m]\u001b[39m.\u001b[39mvar\u001b[39m.\u001b[39msqrt()\n",
      "\u001b[0;31mTypeError\u001b[0m: 'FunctionalModuleWithBuffers' object is not subscriptable"
     ]
    }
   ],
   "source": [
    "model.model[-1].var.sqrt()"
   ]
  },
  {
   "cell_type": "code",
   "execution_count": 10,
   "metadata": {},
   "outputs": [
    {
     "data": {
      "image/png": "[encoded data removed]",
      "text/plain": [
       "<Figure size 432x288 with 1 Axes>"
      ]
     },
     "metadata": {
      "needs_background": "light"
     },
     "output_type": "display_data"
    }
   ],
   "source": [
    "import matplotlib.pyplot as plt\n",
    "from training.util import plot_losses\n",
    "\n",
    "plot_losses(\"MAP\", model.all_losses(), plt.subplot(), val_losses=es.losses)"
   ]
  },
  {
   "cell_type": "code",
   "execution_count": 15,
   "metadata": {},
   "outputs": [],
   "source": [
    "in_testloader = dataset.in_testloader(batch_size)\n",
    "out_testloader = dataset.out_testloader(batch_size)"
   ]
  },
  {
   "cell_type": "code",
   "execution_count": 31,
   "metadata": {},
   "outputs": [
    {
     "name": "stdout",
     "output_type": "stream",
     "text": [
      "tensor(26.0489)\n",
      "tensor(0.2685)\n"
     ]
    }
   ],
   "source": [
    "from training.regresssion import RegressionResults\n",
    "\n",
    "res = RegressionResults(in_testloader, \"MAP\", model.infer, 10, device, target_mean=dataset.target_mean, target_std=dataset.target_std)\n",
    "print(res.mse_of_means)\n",
    "print(res.qce)"
   ]
  },
  {
   "cell_type": "code",
   "execution_count": 25,
   "metadata": {},
   "outputs": [
    {
     "name": "stdout",
     "output_type": "stream",
     "text": [
      "tensor(6.8564)\n",
      "tensor(0.0490)\n"
     ]
    }
   ],
   "source": [
    "from training.regresssion import RegressionResults\n",
    "\n",
    "res = RegressionResults(out_testloader, \"MAP\", model.infer, 10, device, target_mean=dataset.target_mean, target_std=dataset.target_std)\n",
    "print(res.mse_of_means)\n",
    "print(res.qce)"
   ]
  }
 ],
 "metadata": {
  "kernelspec": {
   "display_name": "Python 3.9.12 ('bdl2')",
   "language": "python",
   "name": "python3"
  },
  "language_info": {
   "codemirror_mode": {
    "name": "ipython",
    "version": 3
   },
   "file_extension": ".py",
   "mimetype": "text/x-python",
   "name": "python",
   "nbconvert_exporter": "python",
   "pygments_lexer": "ipython3",
   "version": "3.9.12"
  },
  "orig_nbformat": 4,
  "vscode": {
   "interpreter": {
    "hash": "dcfaf3907fb5ccaba69729c1b2eca8858ecf7d628290008c66c1f9d42d557f9b"
   }
  }
 },
 "nbformat": 4,
 "nbformat_minor": 2
}
