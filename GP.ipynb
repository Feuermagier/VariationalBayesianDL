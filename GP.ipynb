{
 "cells": [
  {
   "cell_type": "code",
   "execution_count": 1,
   "metadata": {},
   "outputs": [],
   "source": [
    "import math\n",
    "import torch\n",
    "import gpytorch\n"
   ]
  },
  {
   "cell_type": "code",
   "execution_count": 75,
   "metadata": {},
   "outputs": [],
   "source": [
    "# Training data is 100 points in [0,1] inclusive regularly spaced\n",
    "train_x = torch.cat((torch.linspace(0, 1, 15), torch.linspace(2, 3, 15)))\n",
    "# True function is sin(2*pi*x) with Gaussian noise\n",
    "train_y = torch.sin(train_x * (2 * math.pi)) + torch.randn(train_x.size()) * math.sqrt(0.04) + 5"
   ]
  },
  {
   "cell_type": "code",
   "execution_count": 76,
   "metadata": {},
   "outputs": [],
   "source": [
    "class ExactGPModel(gpytorch.models.ExactGP):\n",
    "    def __init__(self, train_x, train_y, likelihood):\n",
    "        super().__init__(train_x, train_y, likelihood)\n",
    "        self.mean_module = gpytorch.means.ConstantMean()\n",
    "        self.covar_module = gpytorch.kernels.ScaleKernel(gpytorch.kernels.RBFKernel())\n",
    "\n",
    "    def forward(self, x):\n",
    "        mean = self.mean_module(x)\n",
    "        covar = self.covar_module(x)\n",
    "        return gpytorch.distributions.MultivariateNormal(mean, covar)"
   ]
  },
  {
   "cell_type": "code",
   "execution_count": 77,
   "metadata": {},
   "outputs": [
    {
     "name": "stdout",
     "output_type": "stream",
     "text": [
      "Iter 0, loss 2.4320855140686035\n",
      "Iter 1, loss 2.2527801990509033\n",
      "Iter 2, loss 2.0990278720855713\n",
      "Iter 3, loss 1.968584418296814\n",
      "Iter 4, loss 1.8590099811553955\n",
      "Iter 5, loss 1.767817735671997\n",
      "Iter 6, loss 1.692566156387329\n",
      "Iter 7, loss 1.6308887004852295\n",
      "Iter 8, loss 1.5804616212844849\n",
      "Iter 9, loss 1.5389320850372314\n",
      "Iter 10, loss 1.50387704372406\n",
      "Iter 11, loss 1.4728960990905762\n",
      "Iter 12, loss 1.4438865184783936\n",
      "Iter 13, loss 1.4153752326965332\n",
      "Iter 14, loss 1.3866757154464722\n",
      "Iter 15, loss 1.3577842712402344\n",
      "Iter 16, loss 1.3291207551956177\n",
      "Iter 17, loss 1.3012659549713135\n",
      "Iter 18, loss 1.2747554779052734\n",
      "Iter 19, loss 1.249965786933899\n",
      "Iter 20, loss 1.2270740270614624\n",
      "Iter 21, loss 1.2060786485671997\n",
      "Iter 22, loss 1.1868592500686646\n",
      "Iter 23, loss 1.1692488193511963\n",
      "Iter 24, loss 1.1530970335006714\n",
      "Iter 25, loss 1.138291835784912\n",
      "Iter 26, loss 1.1247572898864746\n",
      "Iter 27, loss 1.1124125719070435\n",
      "Iter 28, loss 1.101137399673462\n",
      "Iter 29, loss 1.0907530784606934\n",
      "Iter 30, loss 1.0810294151306152\n",
      "Iter 31, loss 1.0716973543167114\n",
      "Iter 32, loss 1.062434434890747\n",
      "Iter 33, loss 1.0528024435043335\n",
      "Iter 34, loss 1.0421351194381714\n",
      "Iter 35, loss 1.0293471813201904\n",
      "Iter 36, loss 1.0126498937606812\n",
      "Iter 37, loss 0.9892964959144592\n",
      "Iter 38, loss 0.9558543562889099\n",
      "Iter 39, loss 0.9101073145866394\n",
      "Iter 40, loss 0.8545464277267456\n",
      "Iter 41, loss 0.7975407838821411\n",
      "Iter 42, loss 0.7483978867530823\n",
      "Iter 43, loss 0.7112401723861694\n",
      "Iter 44, loss 0.6847941279411316\n",
      "Iter 45, loss 0.6656908392906189\n",
      "Iter 46, loss 0.6504630446434021\n",
      "Iter 47, loss 0.63627690076828\n",
      "Iter 48, loss 0.6213535666465759\n",
      "Iter 49, loss 0.605073869228363\n"
     ]
    }
   ],
   "source": [
    "likelihood = gpytorch.likelihoods.GaussianLikelihood()\n",
    "model = ExactGPModel(train_x, train_y, likelihood)\n",
    "\n",
    "model.train()\n",
    "likelihood.train()\n",
    "\n",
    "optimizer = torch.optim.Adam(model.parameters(), lr=0.1)\n",
    "mll = gpytorch.mlls.ExactMarginalLogLikelihood(likelihood, model)\n",
    "\n",
    "for i in range(50):\n",
    "    optimizer.zero_grad()\n",
    "    output = model(train_x)\n",
    "    loss = -mll(output, train_y)\n",
    "    loss.backward()\n",
    "    optimizer.step()\n",
    "    print(f\"Iter {i}, loss {loss}\")"
   ]
  },
  {
   "cell_type": "code",
   "execution_count": 78,
   "metadata": {},
   "outputs": [
    {
     "data": {
      "image/png": "[encoded data removed]",
      "text/plain": [
       "<Figure size 432x288 with 1 Axes>"
      ]
     },
     "metadata": {
      "needs_background": "light"
     },
     "output_type": "display_data"
    }
   ],
   "source": [
    "import matplotlib.pyplot as plt\n",
    "\n",
    "model.eval()\n",
    "likelihood.eval()\n",
    "\n",
    "with torch.no_grad():\n",
    "    xs = torch.linspace(0, 3, 50)\n",
    "    preds = likelihood(model(xs))\n",
    "    lower, upper = preds.confidence_region()\n",
    "    plt.fill_between(xs, lower, upper, color=\"lightgrey\")\n",
    "    plt.plot(xs, preds.mean, color=\"red\")\n",
    "    plt.scatter(train_x, train_y)"
   ]
  },
  {
   "cell_type": "code",
   "execution_count": 81,
   "metadata": {},
   "outputs": [
    {
     "data": {
      "text/plain": [
       "0.0"
      ]
     },
     "execution_count": 81,
     "metadata": {},
     "output_type": "execute_result"
    }
   ],
   "source": [
    "from scipy.stats import wasserstein_distance\n",
    "\n",
    "wasserstein_distance([0, 1], [0, 1], [0.5, 0.5], [0.25, 0.75])"
   ]
  }
 ],
 "metadata": {
  "interpreter": {
   "hash": "0e7c78064c0373a43d5649a0756f15757864c8e7f314765530680950dc16e1bb"
  },
  "kernelspec": {
   "display_name": "Python 3.8.12 ('ml')",
   "language": "python",
   "name": "python3"
  },
  "language_info": {
   "codemirror_mode": {
    "name": "ipython",
    "version": 3
   },
   "file_extension": ".py",
   "mimetype": "text/x-python",
   "name": "python",
   "nbconvert_exporter": "python",
   "pygments_lexer": "ipython3",
   "version": "3.8.12"
  },
  "orig_nbformat": 4
 },
 "nbformat": 4,
 "nbformat_minor": 2
}
