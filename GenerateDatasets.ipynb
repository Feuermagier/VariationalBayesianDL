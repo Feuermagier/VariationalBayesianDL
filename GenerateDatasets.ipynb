{
 "cells": [
  {
   "cell_type": "code",
   "execution_count": 30,
   "metadata": {},
   "outputs": [],
   "source": [
    "import torch\n",
    "import torchvision\n",
    "from experiments import mnist\n",
    "import random\n",
    "from PIL import Image\n",
    "from pathlib import Path"
   ]
  },
  {
   "cell_type": "code",
   "execution_count": 20,
   "metadata": {},
   "outputs": [],
   "source": [
    "# Python-Fu to import from mnist-c which has a dash in it\n",
    "import importlib\n",
    "import os\n",
    "os.chdir(\"./mnist-c/\")\n",
    "mnist_c = importlib.import_module(\"corruptions\", \"mnist-c\")\n",
    "os.chdir(\"..\")"
   ]
  },
  {
   "cell_type": "code",
   "execution_count": 27,
   "metadata": {},
   "outputs": [],
   "source": [
    "DATA_PATH = \"./data\""
   ]
  },
  {
   "cell_type": "code",
   "execution_count": 38,
   "metadata": {},
   "outputs": [
    {
     "name": "stdout",
     "output_type": "stream",
     "text": [
      "Completed 1000 images\n",
      "Completed 2000 images\n",
      "Completed 3000 images\n",
      "Completed 4000 images\n",
      "Completed 5000 images\n",
      "Completed 6000 images\n",
      "Completed 7000 images\n",
      "Completed 8000 images\n",
      "Completed 9000 images\n"
     ]
    }
   ],
   "source": [
    "# FashionMNIST corrupted\n",
    "random.seed(0)\n",
    "\n",
    "for i in range(10):\n",
    "    Path(DATA_PATH + f\"/FashionMNIST-Test(C)/{i}\").mkdir(parents=True, exist_ok=True)\n",
    "\n",
    "fashion_train = torchvision.datasets.FashionMNIST(root=\"./data\", train=False, download=True)\n",
    "\n",
    "for i, (img, label) in enumerate(fashion_train):\n",
    "    corruption = random.choice(mnist_c.CORRUPTIONS)\n",
    "    corrupted_data = getattr(mnist_c, corruption)(img)\n",
    "    corrupted_img = Image.fromarray(corrupted_data).convert(\"L\")\n",
    "    corrupted_img.save(DATA_PATH + f\"/FashionMNIST-Test(C)/{label}/{i}.png\")\n",
    "    if i != 0 and i % 1000 == 0:\n",
    "        print(f\"Completed {i} images\")"
   ]
  }
 ],
 "metadata": {
  "interpreter": {
   "hash": "0e7c78064c0373a43d5649a0756f15757864c8e7f314765530680950dc16e1bb"
  },
  "kernelspec": {
   "display_name": "Python 3.8.12 ('ml')",
   "language": "python",
   "name": "python3"
  },
  "language_info": {
   "codemirror_mode": {
    "name": "ipython",
    "version": 3
   },
   "file_extension": ".py",
   "mimetype": "text/x-python",
   "name": "python",
   "nbconvert_exporter": "python",
   "pygments_lexer": "ipython3",
   "version": "3.8.12"
  },
  "orig_nbformat": 4
 },
 "nbformat": 4,
 "nbformat_minor": 2
}
