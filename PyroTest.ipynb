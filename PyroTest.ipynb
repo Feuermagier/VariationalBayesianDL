{
 "cells": [
  {
   "cell_type": "code",
   "execution_count": 1,
   "metadata": {},
   "outputs": [],
   "source": [
    "import torch\n",
    "import numpy as np\n",
    "import pyro\n",
    "import matplotlib.pyplot as plt\n",
    "import torch.nn as nn\n",
    "import torch.nn.functional as F\n",
    "import pyro.distributions as dist"
   ]
  },
  {
   "cell_type": "code",
   "execution_count": 3,
   "metadata": {},
   "outputs": [
    {
     "data": {
      "text/plain": [
       "<matplotlib.collections.PathCollection at 0x1fc4bb079d0>"
      ]
     },
     "execution_count": 3,
     "metadata": {},
     "output_type": "execute_result"
    },
    {
     "data": {
      "image/png": "[encoded data removed]",
      "text/plain": [
       "<Figure size 432x288 with 1 Axes>"
      ]
     },
     "metadata": {
      "needs_background": "light"
     },
     "output_type": "display_data"
    }
   ],
   "source": [
    "samples = 100\n",
    "train_x = torch.linspace(0, 5, samples).float()\n",
    "train_y = train_x**3 + torch.normal(torch.zeros(samples), torch.ones(samples)).float()\n",
    "train_x = train_x.unsqueeze(-1)\n",
    "train_y = train_y.unsqueeze(-1)\n",
    "\n",
    "plt.scatter(train_x, train_y, s=1)"
   ]
  },
  {
   "cell_type": "code",
   "execution_count": 4,
   "metadata": {},
   "outputs": [],
   "source": [
    "def model2(x, y=None):\n",
    "    w1 = pyro.sample(\"w1\", dist.Normal(torch.zeros((1, 16)), torch.ones((1, 16))).to_event(2))\n",
    "    b1 = pyro.sample(\"b1\", dist.Normal(torch.zeros(16), torch.ones(16)).to_event(1))\n",
    "    x = F.relu(x @ w1 + b1)\n",
    "\n",
    "    w2 = pyro.sample(\"w2\", dist.Normal(torch.zeros((16, 16)), torch.ones((16, 16))).to_event(2))\n",
    "    b2 = pyro.sample(\"b2\", dist.Normal(torch.zeros(16), torch.ones(16)).to_event(1))\n",
    "    x = F.relu(x @ w2 + b2)\n",
    "\n",
    "    w3 = pyro.sample(\"w3\", dist.Normal(torch.zeros((16, 1)), torch.ones((16, 1))).to_event(2))\n",
    "    b3 = pyro.sample(\"b3\", dist.Normal(torch.zeros(1), torch.ones(1)).to_event(1))\n",
    "    x = x @ w3 + b3\n",
    "\n",
    "    sigma = pyro.sample(\"sigma\", dist.Uniform(0, 1))\n",
    "    \n",
    "    with pyro.plate(\"data\", x.shape[0]):\n",
    "        result = pyro.sample(\"y\", dist.Normal(x, sigma).to_event(1), obs=y)\n",
    "\n",
    "    return result"
   ]
  },
  {
   "cell_type": "code",
   "execution_count": null,
   "metadata": {},
   "outputs": [],
   "source": [
    "pyro.clear_param_store()\n",
    "kernel = pyro.infer.NUTS(model2)\n",
    "mcmc = pyro.infer.MCMC(kernel, warmup_steps=100, num_samples=500, num_chains=1)\n",
    "mcmc.run(train_x, train_y)\n",
    "mcmc.summary()"
   ]
  },
  {
   "cell_type": "code",
   "execution_count": 21,
   "metadata": {},
   "outputs": [],
   "source": [
    "pyro.get_param_store().save(\"trained_models/pyro_test_mcmc.save\")"
   ]
  },
  {
   "cell_type": "code",
   "execution_count": 7,
   "metadata": {},
   "outputs": [],
   "source": [
    "pyro.get_param_store().load(\"trained_models/pyro_test_mcmc.save\")"
   ]
  },
  {
   "cell_type": "code",
   "execution_count": 43,
   "metadata": {},
   "outputs": [
    {
     "name": "stderr",
     "output_type": "stream",
     "text": [
      "100%|██████████| 2000/2000 [00:24<00:00, 81.71it/s, loss=54.81629966616631] \n"
     ]
    }
   ],
   "source": [
    "from tqdm.auto import trange\n",
    "\n",
    "guide = pyro.infer.autoguide.AutoDiagonalNormal(model2)\n",
    "optimizer = pyro.optim.Adam({\"lr\": 1e-3})\n",
    "svi = pyro.infer.SVI(model2, guide, optimizer, loss=pyro.infer.Trace_ELBO())\n",
    "\n",
    "bar = trange(2000)\n",
    "pyro.clear_param_store()\n",
    "for epoch in bar:\n",
    "    loss = svi.step(train_x, train_y)\n",
    "    bar.set_postfix(loss=f\"{loss / train_x.shape[0]}\")\n",
    "\n",
    "    "
   ]
  },
  {
   "cell_type": "code",
   "execution_count": 44,
   "metadata": {},
   "outputs": [
    {
     "data": {
      "text/plain": [
       "<matplotlib.collections.PathCollection at 0x1fc53dac8b0>"
      ]
     },
     "execution_count": 44,
     "metadata": {},
     "output_type": "execute_result"
    },
    {
     "data": {
      "image/png": "[encoded data removed]",
      "text/plain": [
       "<Figure size 432x288 with 1 Axes>"
      ]
     },
     "metadata": {
      "needs_background": "light"
     },
     "output_type": "display_data"
    }
   ],
   "source": [
    "plt.scatter(train_x, train_y)\n",
    "predictive = pyro.infer.Predictive(model2, guide=guide, num_samples=500)\n",
    "posterior_samples = predictive(train_x)[\"y\"]\n",
    "#posterior_samples = torch.stack([guide(train_x) for _ in range(100)])\n",
    "plt.scatter(train_x, posterior_samples.mean(dim=0))"
   ]
  },
  {
   "cell_type": "code",
   "execution_count": 13,
   "metadata": {},
   "outputs": [
    {
     "data": {
      "image/svg+xml": "<?xml version=\"1.0\" encoding=\"UTF-8\" standalone=\"no\"?>\n<!DOCTYPE svg PUBLIC \"-//W3C//DTD SVG 1.1//EN\"\n \"http://www.w3.org/Graphics/SVG/1.1/DTD/svg11.dtd\">\n<!-- Generated by graphviz version 3.0.0 (20220226.1711)\n -->\n<!-- Pages: 1 -->\n<svg width=\"632pt\" height=\"247pt\"\n viewBox=\"0.00 0.00 632.00 247.00\" xmlns=\"http://www.w3.org/2000/svg\" xmlns:xlink=\"http://www.w3.org/1999/xlink\">\n<g id=\"graph0\" class=\"graph\" transform=\"scale(1 1) rotate(0) translate(4 243)\">\n<polygon fill=\"white\" stroke=\"transparent\" points=\"-4,4 -4,-243 628,-243 628,4 -4,4\"/>\n<g id=\"clust1\" class=\"cluster\">\n<title>cluster_data</title>\n<polygon fill=\"none\" stroke=\"black\" points=\"208,-8 208,-83 278,-83 278,-8 208,-8\"/>\n<text text-anchor=\"middle\" x=\"258\" y=\"-15.8\" font-family=\"Times New Roman,serif\" font-size=\"14.00\">data</text>\n</g>\n<!-- w1 -->\n<g id=\"node1\" class=\"node\">\n<title>w1</title>\n<ellipse fill=\"white\" stroke=\"black\" cx=\"27\" cy=\"-175\" rx=\"27\" ry=\"18\"/>\n<text text-anchor=\"middle\" x=\"27\" y=\"-171.3\" font-family=\"Times New Roman,serif\" font-size=\"14.00\">w1</text>\n</g>\n<!-- y -->\n<g id=\"node8\" class=\"node\">\n<title>y</title>\n<ellipse fill=\"white\" stroke=\"black\" cx=\"243\" cy=\"-57\" rx=\"27\" ry=\"18\"/>\n<text text-anchor=\"middle\" x=\"243\" y=\"-53.3\" font-family=\"Times New Roman,serif\" font-size=\"14.00\">y</text>\n</g>\n<!-- w1&#45;&gt;y -->\n<g id=\"edge3\" class=\"edge\">\n<title>w1&#45;&gt;y</title>\n<path fill=\"none\" stroke=\"black\" d=\"M32.56,-157.14C38.1,-142.86 47.98,-122.88 63,-111 104.78,-77.96 166.62,-65.51 205.85,-60.82\"/>\n<polygon fill=\"black\" stroke=\"black\" points=\"206.47,-64.27 216.04,-59.72 205.72,-57.31 206.47,-64.27\"/>\n</g>\n<!-- b1 -->\n<g id=\"node2\" class=\"node\">\n<title>b1</title>\n<ellipse fill=\"white\" stroke=\"black\" cx=\"99\" cy=\"-175\" rx=\"27\" ry=\"18\"/>\n<text text-anchor=\"middle\" x=\"99\" y=\"-171.3\" font-family=\"Times New Roman,serif\" font-size=\"14.00\">b1</text>\n</g>\n<!-- b1&#45;&gt;y -->\n<g id=\"edge4\" class=\"edge\">\n<title>b1&#45;&gt;y</title>\n<path fill=\"none\" stroke=\"black\" d=\"M105.2,-157.47C111.1,-143.6 121.13,-124.02 135,-111 156.09,-91.2 185.97,-77.31 208.96,-68.73\"/>\n<polygon fill=\"black\" stroke=\"black\" points=\"210.42,-71.93 218.66,-65.27 208.07,-65.33 210.42,-71.93\"/>\n</g>\n<!-- w2 -->\n<g id=\"node3\" class=\"node\">\n<title>w2</title>\n<ellipse fill=\"white\" stroke=\"black\" cx=\"171\" cy=\"-175\" rx=\"27\" ry=\"18\"/>\n<text text-anchor=\"middle\" x=\"171\" y=\"-171.3\" font-family=\"Times New Roman,serif\" font-size=\"14.00\">w2</text>\n</g>\n<!-- w2&#45;&gt;y -->\n<g id=\"edge2\" class=\"edge\">\n<title>w2&#45;&gt;y</title>\n<path fill=\"none\" stroke=\"black\" d=\"M179.83,-157.74C186.92,-144.9 197.26,-126.6 207,-111 213.01,-101.37 219.94,-91.01 226.11,-82.01\"/>\n<polygon fill=\"black\" stroke=\"black\" points=\"229.15,-83.77 231.96,-73.56 223.39,-79.79 229.15,-83.77\"/>\n</g>\n<!-- b2 -->\n<g id=\"node4\" class=\"node\">\n<title>b2</title>\n<ellipse fill=\"white\" stroke=\"black\" cx=\"243\" cy=\"-175\" rx=\"27\" ry=\"18\"/>\n<text text-anchor=\"middle\" x=\"243\" y=\"-171.3\" font-family=\"Times New Roman,serif\" font-size=\"14.00\">b2</text>\n</g>\n<!-- b2&#45;&gt;y -->\n<g id=\"edge6\" class=\"edge\">\n<title>b2&#45;&gt;y</title>\n<path fill=\"none\" stroke=\"black\" d=\"M243,-156.88C243,-138.04 243,-107.47 243,-85.3\"/>\n<polygon fill=\"black\" stroke=\"black\" points=\"246.5,-85.19 243,-75.19 239.5,-85.19 246.5,-85.19\"/>\n</g>\n<!-- w3 -->\n<g id=\"node5\" class=\"node\">\n<title>w3</title>\n<ellipse fill=\"white\" stroke=\"black\" cx=\"315\" cy=\"-175\" rx=\"27\" ry=\"18\"/>\n<text text-anchor=\"middle\" x=\"315\" y=\"-171.3\" font-family=\"Times New Roman,serif\" font-size=\"14.00\">w3</text>\n</g>\n<!-- w3&#45;&gt;y -->\n<g id=\"edge7\" class=\"edge\">\n<title>w3&#45;&gt;y</title>\n<path fill=\"none\" stroke=\"black\" d=\"M306.17,-157.74C299.08,-144.9 288.74,-126.6 279,-111 272.99,-101.37 266.06,-91.01 259.89,-82.01\"/>\n<polygon fill=\"black\" stroke=\"black\" points=\"262.61,-79.79 254.04,-73.56 256.85,-83.77 262.61,-79.79\"/>\n</g>\n<!-- b3 -->\n<g id=\"node6\" class=\"node\">\n<title>b3</title>\n<ellipse fill=\"white\" stroke=\"black\" cx=\"387\" cy=\"-175\" rx=\"27\" ry=\"18\"/>\n<text text-anchor=\"middle\" x=\"387\" y=\"-171.3\" font-family=\"Times New Roman,serif\" font-size=\"14.00\">b3</text>\n</g>\n<!-- b3&#45;&gt;y -->\n<g id=\"edge1\" class=\"edge\">\n<title>b3&#45;&gt;y</title>\n<path fill=\"none\" stroke=\"black\" d=\"M380.8,-157.47C374.9,-143.6 364.87,-124.02 351,-111 329.91,-91.2 300.03,-77.31 277.04,-68.73\"/>\n<polygon fill=\"black\" stroke=\"black\" points=\"277.93,-65.33 267.34,-65.27 275.58,-71.93 277.93,-65.33\"/>\n</g>\n<!-- sigma -->\n<g id=\"node7\" class=\"node\">\n<title>sigma</title>\n<ellipse fill=\"white\" stroke=\"black\" cx=\"464\" cy=\"-175\" rx=\"31.7\" ry=\"18\"/>\n<text text-anchor=\"middle\" x=\"464\" y=\"-171.3\" font-family=\"Times New Roman,serif\" font-size=\"14.00\">sigma</text>\n</g>\n<!-- sigma&#45;&gt;y -->\n<g id=\"edge5\" class=\"edge\">\n<title>sigma&#45;&gt;y</title>\n<path fill=\"none\" stroke=\"black\" d=\"M457.21,-157.4C450.53,-143.1 439.01,-122.93 423,-111 380.37,-79.25 318.96,-66.44 280.03,-61.33\"/>\n<polygon fill=\"black\" stroke=\"black\" points=\"280.03,-57.8 269.68,-60.08 279.19,-64.75 280.03,-57.8\"/>\n</g>\n<!-- distribution_description_node -->\n<g id=\"node9\" class=\"node\">\n<title>distribution_description_node</title>\n<text text-anchor=\"start\" x=\"522\" y=\"-223.8\" font-family=\"Times New Roman,serif\" font-size=\"14.00\">w1 ~ Normal</text>\n<text text-anchor=\"start\" x=\"522\" y=\"-208.8\" font-family=\"Times New Roman,serif\" font-size=\"14.00\">b1 ~ Normal</text>\n<text text-anchor=\"start\" x=\"522\" y=\"-193.8\" font-family=\"Times New Roman,serif\" font-size=\"14.00\">w2 ~ Normal</text>\n<text text-anchor=\"start\" x=\"522\" y=\"-178.8\" font-family=\"Times New Roman,serif\" font-size=\"14.00\">b2 ~ Normal</text>\n<text text-anchor=\"start\" x=\"522\" y=\"-163.8\" font-family=\"Times New Roman,serif\" font-size=\"14.00\">w3 ~ Normal</text>\n<text text-anchor=\"start\" x=\"522\" y=\"-148.8\" font-family=\"Times New Roman,serif\" font-size=\"14.00\">b3 ~ Normal</text>\n<text text-anchor=\"start\" x=\"522\" y=\"-133.8\" font-family=\"Times New Roman,serif\" font-size=\"14.00\">sigma ~ Uniform</text>\n<text text-anchor=\"start\" x=\"522\" y=\"-118.8\" font-family=\"Times New Roman,serif\" font-size=\"14.00\">y ~ Normal</text>\n</g>\n</g>\n</svg>\n",
      "text/plain": [
       "<graphviz.graphs.Digraph at 0x1fc5292edf0>"
      ]
     },
     "execution_count": 13,
     "metadata": {},
     "output_type": "execute_result"
    }
   ],
   "source": [
    "pyro.render_model(model2, model_args=(train_x,), render_distributions=True)"
   ]
  },
  {
   "cell_type": "code",
   "execution_count": 38,
   "metadata": {},
   "outputs": [
    {
     "name": "stderr",
     "output_type": "stream",
     "text": [
      "100%|██████████| 200/200 [00:08<00:00, 24.00it/s]\n"
     ]
    }
   ],
   "source": [
    "import torch.nn as nn\n",
    "\n",
    "mle_model = nn.Sequential(nn.Linear(1, 16), nn.ReLU(), nn.Linear(16, 16), nn.ReLU(), nn.Linear(16, 1))\n",
    "mle_optim = torch.optim.Adam(mle_model.parameters(), lr=1e-3)\n",
    "mle_bar = trange(200)\n",
    "for epoch in mle_bar:\n",
    "    epoch_loss = torch.tensor(0, dtype=torch.float)\n",
    "    for i in range(0, train_x.shape[0], 2):\n",
    "        mle_optim.zero_grad()\n",
    "        xs = train_x[i:i+2]\n",
    "        ys = train_y[i:i+2]\n",
    "        output = mle_model(xs)\n",
    "        loss = torch.nn.functional.mse_loss(output, ys)\n",
    "        loss.backward()\n",
    "        mle_optim.step()\n",
    "        epoch_loss += loss\n",
    "    bar.set_postfix(loss=f\"{epoch_loss / (2 * train_x.shape[0])}\")\n"
   ]
  },
  {
   "cell_type": "code",
   "execution_count": 40,
   "metadata": {},
   "outputs": [
    {
     "data": {
      "text/plain": [
       "<matplotlib.collections.PathCollection at 0x1fc53d2f2b0>"
      ]
     },
     "execution_count": 40,
     "metadata": {},
     "output_type": "execute_result"
    },
    {
     "data": {
      "image/png": "[encoded data removed]",
      "text/plain": [
       "<Figure size 432x288 with 1 Axes>"
      ]
     },
     "metadata": {
      "needs_background": "light"
     },
     "output_type": "display_data"
    }
   ],
   "source": [
    "plt.scatter(train_x, train_y)\n",
    "plt.scatter(train_x, mle_model(train_x).detach())"
   ]
  }
 ],
 "metadata": {
  "interpreter": {
   "hash": "96836cc28e460061bca45187f20cd83662f914d0b92933e0c7f2f0f17d1b293c"
  },
  "kernelspec": {
   "display_name": "Python 3 (ipykernel)",
   "language": "python",
   "name": "python3"
  },
  "language_info": {
   "codemirror_mode": {
    "name": "ipython",
    "version": 3
   },
   "file_extension": ".py",
   "mimetype": "text/x-python",
   "name": "python",
   "nbconvert_exporter": "python",
   "pygments_lexer": "ipython3",
   "version": "3.8.12"
  }
 },
 "nbformat": 4,
 "nbformat_minor": 2
}
