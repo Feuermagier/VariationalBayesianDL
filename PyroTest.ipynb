{
 "cells": [
  {
   "cell_type": "code",
   "execution_count": 1,
   "metadata": {},
   "outputs": [],
   "source": [
    "%load_ext autoreload\n",
    "%autoreload 2\n",
    "\n",
    "import torch\n",
    "import torch.nn as nn\n",
    "import numpy as np\n",
    "import pyro\n",
    "import matplotlib.pyplot as plt\n",
    "import torch.nn as nn\n",
    "import torch.nn.functional as F\n",
    "import pyro.distributions as dist"
   ]
  },
  {
   "cell_type": "code",
   "execution_count": 2,
   "metadata": {},
   "outputs": [],
   "source": [
    "device = torch.device(\"cpu\")"
   ]
  },
  {
   "cell_type": "code",
   "execution_count": 3,
   "metadata": {},
   "outputs": [],
   "source": [
    "class PyroLinear(pyro.nn.PyroModule):\n",
    "    def __init__(self, in_features, out_features, prior_var):\n",
    "        super().__init__()\n",
    "        self.linear = pyro.nn.PyroModule[nn.Linear](in_features, out_features)\n",
    "        self.linear.weight = pyro.nn.PyroSample(dist.Normal(0.0, prior_var).expand((out_features, in_features)).to_event(2))\n",
    "        self.linear.bias = pyro.nn.PyroSample(dist.Normal(0.0, prior_var).expand((out_features,)).to_event(1))\n",
    "\n",
    "    def forward(self, x):\n",
    "        return self.linear(x)"
   ]
  },
  {
   "cell_type": "code",
   "execution_count": 4,
   "metadata": {},
   "outputs": [],
   "source": [
    "class PyroVIModule(pyro.nn.PyroModule):\n",
    "    def __init__(self, layers, noise=None):\n",
    "        super().__init__()\n",
    "        self.model = layers\n",
    "        self.noise = noise\n",
    "        self.losses = []\n",
    "\n",
    "    def _model(self, x, y=None):\n",
    "        if self.noise is None:\n",
    "            noise = pyro.sample(\"noise\", dist.Uniform(0.0, 10.0))\n",
    "        else:\n",
    "            noise = self.noise\n",
    "        mean = self.model(x)\n",
    "        with pyro.plate(\"data\", x.shape[0]):\n",
    "            obs = pyro.sample(\"obs\", dist.Normal(mean, noise).to_event(1), obs=y)\n",
    "        return mean\n",
    "\n",
    "    def train_model(self, epochs, loader, batch_size, device, report_every_epochs=1):\n",
    "        self.model.to(device)\n",
    "        self.model.train()\n",
    "\n",
    "        self.guide = pyro.infer.autoguide.AutoMultivariateNormal(self._model)\n",
    "        optimizer = pyro.optim.Adam({\"lr\": 0.001})\n",
    "        svi = pyro.infer.SVI(self._model, self.guide, optimizer, loss=pyro.infer.Trace_ELBO())\n",
    "        pyro.clear_param_store()\n",
    "\n",
    "        for epoch in range(epochs):\n",
    "            epoch_loss = torch.tensor(0, dtype=torch.float)\n",
    "            for data, target in loader:\n",
    "                loss = svi.step(data, target)\n",
    "                epoch_loss += loss\n",
    "            epoch_loss /= (len(loader) * batch_size)\n",
    "            self.losses.append(epoch_loss.detach())\n",
    "            if report_every_epochs > 0 and epoch % report_every_epochs == 0:\n",
    "                print(f\"Epoch {epoch}: loss {epoch_loss}\")\n",
    "        if report_every_epochs >= 0:\n",
    "            print(f\"Final loss {epoch_loss}\")\n",
    "    \n",
    "    def all_losses(self):\n",
    "        return [self.losses]\n",
    "\n",
    "    def infer(self, input, samples):\n",
    "        predictive = pyro.infer.Predictive(self._model, guide=self.guide, num_samples=samples)\n",
    "        output = predictive(input)[\"obs\"]\n",
    "        return torch.stack((output, self.noise.expand(output.shape)), -1)"
   ]
  },
  {
   "cell_type": "code",
   "execution_count": 5,
   "metadata": {},
   "outputs": [
    {
     "name": "stdout",
     "output_type": "stream",
     "text": [
      "Epoch 0: loss 1990.17041015625\n",
      "Epoch 10: loss 1406.6004638671875\n",
      "Epoch 20: loss 1483.6383056640625\n",
      "Epoch 30: loss 1209.729736328125\n",
      "Epoch 40: loss 1828.8759765625\n",
      "Epoch 50: loss 1873.7510986328125\n",
      "Epoch 60: loss 1031.9383544921875\n",
      "Epoch 70: loss 1288.21826171875\n",
      "Epoch 80: loss 1077.7730712890625\n",
      "Epoch 90: loss 1153.107421875\n",
      "Epoch 100: loss 1255.795166015625\n",
      "Epoch 110: loss 1249.505859375\n",
      "Epoch 120: loss 1253.411376953125\n",
      "Epoch 130: loss 856.1490478515625\n",
      "Epoch 140: loss 1106.2203369140625\n",
      "Epoch 150: loss 713.6622924804688\n",
      "Epoch 160: loss 953.3186645507812\n",
      "Epoch 170: loss 1083.822509765625\n",
      "Epoch 180: loss 757.167236328125\n",
      "Epoch 190: loss 972.6204833984375\n",
      "Epoch 200: loss 715.3739013671875\n",
      "Epoch 210: loss 993.7586669921875\n",
      "Epoch 220: loss 585.5304565429688\n",
      "Epoch 230: loss 579.831787109375\n",
      "Epoch 240: loss 625.6365356445312\n",
      "Epoch 250: loss 423.63543701171875\n",
      "Epoch 260: loss 641.9840698242188\n",
      "Epoch 270: loss 536.6949462890625\n",
      "Epoch 280: loss 588.5050659179688\n",
      "Epoch 290: loss 418.93121337890625\n",
      "Epoch 300: loss 402.6475830078125\n",
      "Epoch 310: loss 452.1719055175781\n",
      "Epoch 320: loss 339.0805358886719\n",
      "Epoch 330: loss 623.8540649414062\n",
      "Epoch 340: loss 457.08526611328125\n",
      "Epoch 350: loss 510.3457946777344\n",
      "Epoch 360: loss 369.973876953125\n",
      "Epoch 370: loss 306.318115234375\n",
      "Epoch 380: loss 274.6081237792969\n",
      "Epoch 390: loss 331.5468444824219\n",
      "Epoch 400: loss 327.4347839355469\n",
      "Epoch 410: loss 359.6383972167969\n",
      "Epoch 420: loss 245.3387908935547\n",
      "Epoch 430: loss 265.8424987792969\n",
      "Epoch 440: loss 214.97215270996094\n",
      "Epoch 450: loss 227.03492736816406\n",
      "Epoch 460: loss 269.5234069824219\n",
      "Epoch 470: loss 204.9384307861328\n",
      "Epoch 480: loss 272.9407958984375\n",
      "Epoch 490: loss 204.10562133789062\n",
      "Epoch 500: loss 209.1405487060547\n",
      "Epoch 510: loss 210.53343200683594\n",
      "Epoch 520: loss 180.85777282714844\n",
      "Epoch 530: loss 212.54527282714844\n",
      "Epoch 540: loss 188.69268798828125\n",
      "Epoch 550: loss 257.0852966308594\n",
      "Epoch 560: loss 279.5389099121094\n",
      "Epoch 570: loss 240.0111541748047\n",
      "Epoch 580: loss 205.99476623535156\n",
      "Epoch 590: loss 217.12257385253906\n",
      "Epoch 600: loss 196.8002471923828\n",
      "Epoch 610: loss 249.51304626464844\n",
      "Epoch 620: loss 207.46067810058594\n",
      "Epoch 630: loss 217.94073486328125\n",
      "Epoch 640: loss 211.03445434570312\n",
      "Epoch 650: loss 178.4159393310547\n",
      "Epoch 660: loss 271.1185607910156\n",
      "Epoch 670: loss 160.95079040527344\n",
      "Epoch 680: loss 139.37637329101562\n",
      "Epoch 690: loss 173.86712646484375\n",
      "Epoch 700: loss 143.14242553710938\n",
      "Epoch 710: loss 167.12547302246094\n",
      "Epoch 720: loss 178.21856689453125\n",
      "Epoch 730: loss 178.87181091308594\n",
      "Epoch 740: loss 224.83847045898438\n",
      "Epoch 750: loss 168.00267028808594\n",
      "Epoch 760: loss 146.1865234375\n",
      "Epoch 770: loss 143.41790771484375\n",
      "Epoch 780: loss 155.13690185546875\n",
      "Epoch 790: loss 159.6176300048828\n",
      "Epoch 800: loss 180.93775939941406\n",
      "Epoch 810: loss 155.38101196289062\n",
      "Epoch 820: loss 177.24623107910156\n",
      "Epoch 830: loss 148.39157104492188\n",
      "Epoch 840: loss 143.54702758789062\n",
      "Epoch 850: loss 150.37466430664062\n",
      "Epoch 860: loss 145.7572021484375\n",
      "Epoch 870: loss 138.25445556640625\n",
      "Epoch 880: loss 178.68798828125\n",
      "Epoch 890: loss 153.70924377441406\n",
      "Epoch 900: loss 170.6264190673828\n",
      "Epoch 910: loss 140.3887939453125\n",
      "Epoch 920: loss 186.59677124023438\n",
      "Epoch 930: loss 127.22334289550781\n",
      "Epoch 940: loss 130.0658721923828\n",
      "Epoch 950: loss 152.68865966796875\n",
      "Epoch 960: loss 168.57273864746094\n",
      "Epoch 970: loss 155.1499481201172\n",
      "Epoch 980: loss 123.54399108886719\n",
      "Epoch 990: loss 173.40908813476562\n",
      "Final loss 123.00720977783203\n"
     ]
    }
   ],
   "source": [
    "from experiments.toy_regression import gap_datasets, plot_grid, NOISE\n",
    "torch.manual_seed(42)\n",
    "\n",
    "dataset, trainloader, testset = gap_datasets(device)\n",
    "\n",
    "model = PyroVIModule(pyro.nn.PyroModule[nn.Sequential](\n",
    "    PyroLinear(1, 32, 1),\n",
    "    pyro.nn.PyroModule[nn.ReLU](),\n",
    "    PyroLinear(32, 32, 1),\n",
    "    pyro.nn.PyroModule[nn.ReLU](),\n",
    "    PyroLinear(32, 1, 1)\n",
    "), NOISE)\n",
    "model.train_model(1000, trainloader, 20, device, report_every_epochs=10)"
   ]
  },
  {
   "cell_type": "code",
   "execution_count": 6,
   "metadata": {},
   "outputs": [],
   "source": [
    "pyro.get_param_store().save(\"trained_models/toy/regression/frvi_pyro.save\")"
   ]
  },
  {
   "cell_type": "code",
   "execution_count": 7,
   "metadata": {},
   "outputs": [],
   "source": [
    "pyro.get_param_store().load(\"trained_models/toy/regression/frvi_pyro.save\")"
   ]
  },
  {
   "cell_type": "code",
   "execution_count": null,
   "metadata": {},
   "outputs": [],
   "source": [
    "plot_grid(dataset, testset, [(\"VI\", model, 1000)], device, plot_ground_truth=False)"
   ]
  },
  {
   "cell_type": "code",
   "execution_count": 8,
   "metadata": {},
   "outputs": [
    {
     "data": {
      "image/png": "[encoded data removed]",
      "text/plain": [
       "<Figure size 432x288 with 1 Axes>"
      ]
     },
     "metadata": {
      "needs_background": "light"
     },
     "output_type": "display_data"
    },
    {
     "data": {
      "image/png": "[encoded data removed]",
      "text/plain": [
       "<Figure size 432x288 with 1 Axes>"
      ]
     },
     "metadata": {
      "needs_background": "light"
     },
     "output_type": "display_data"
    }
   ],
   "source": [
    "from experiments.toy_regression import store_results\n",
    "\n",
    "store_results(dataset, testset, [(\"full_vi\", model, 1000)], device, plot_ground_truth=False)"
   ]
  },
  {
   "cell_type": "code",
   "execution_count": 31,
   "metadata": {},
   "outputs": [
    {
     "name": "stdout",
     "output_type": "stream",
     "text": [
      "guide.loc torch.Size([1153])\n",
      "guide.scale torch.Size([1153])\n",
      "guide.scale_tril torch.Size([1153, 1153])\n"
     ]
    }
   ],
   "source": [
    "for name, value in pyro.get_param_store().items():\n",
    "    print(name, pyro.param(name).shape)"
   ]
  }
 ],
 "metadata": {
  "interpreter": {
   "hash": "c9e773b02f1dd6d74aec0fbb026bf7021da64c0bea22e6784852927c22b8961f"
  },
  "kernelspec": {
   "display_name": "Python 3.9.12 ('ml')",
   "language": "python",
   "name": "python3"
  },
  "language_info": {
   "codemirror_mode": {
    "name": "ipython",
    "version": 3
   },
   "file_extension": ".py",
   "mimetype": "text/x-python",
   "name": "python",
   "nbconvert_exporter": "python",
   "pygments_lexer": "ipython3",
   "version": "3.9.12"
  }
 },
 "nbformat": 4,
 "nbformat_minor": 2
}
