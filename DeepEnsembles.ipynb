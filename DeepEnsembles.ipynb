{
 "cells": [
  {
   "cell_type": "code",
   "execution_count": 12,
   "metadata": {},
   "outputs": [],
   "source": [
    "import numpy as np\n",
    "import torch\n",
    "import torch.nn as nn\n",
    "import torch.nn.functional as F\n",
    "import torchvision\n",
    "from torchvision.transforms import transforms\n",
    "import matplotlib.pyplot as plt\n",
    "import itertools\n",
    "from training import toy"
   ]
  },
  {
   "cell_type": "code",
   "execution_count": 18,
   "metadata": {},
   "outputs": [],
   "source": [
    "batch_size = 1\n",
    "\n",
    "trainset = toy.CubicToyDataset(min=-4, max=4, sample_count=20, noise=3)\n",
    "trainloader = torch.utils.data.DataLoader(trainset, batch_size)"
   ]
  },
  {
   "cell_type": "code",
   "execution_count": 19,
   "metadata": {},
   "outputs": [],
   "source": [
    "if torch.cuda.is_available():\n",
    "    device = torch.device(\"cuda\")\n",
    "else:\n",
    "    print(\"No cuda device available; using the CPU\")\n",
    "    device = torch.device(\"cpu\")"
   ]
  },
  {
   "cell_type": "code",
   "execution_count": 20,
   "metadata": {},
   "outputs": [],
   "source": [
    "def nll_loss(mean, variance, target):\n",
    "    return (torch.log(variance) / 2 + torch.pow(target - mean, 2) / (2 * variance)).sum() / mean.shape[0]"
   ]
  },
  {
   "cell_type": "code",
   "execution_count": 21,
   "metadata": {},
   "outputs": [],
   "source": [
    "nets = [nn.Sequential(nn.Linear(1, 100), nn.ReLU(), nn.Linear(100, 2)) for _ in range(5)]\n",
    "for net in nets:\n",
    "    optimizer = torch.optim.Adam(net.parameters())\n",
    "    for epoch in range(40):\n",
    "        for data, target in trainloader:\n",
    "            optimizer.zero_grad()\n",
    "\n",
    "            data.requires_grad = True # For the adversarial example\n",
    "            target = target.squeeze(0)\n",
    "            output = net(data)\n",
    "            mean, variance = output[:,0], torch.log1p(torch.exp(output[:,1])) + 10e-6\n",
    "            loss = nll_loss(mean, variance, target)\n",
    "            loss.backward(retain_graph = True)\n",
    "\n",
    "            # Adversarial examples\n",
    "            a_data = data + 0.01 * torch.sign(data.grad)\n",
    "            a_target = a_data**3\n",
    "            a_output = net(data)\n",
    "            a_mean, a_variance = a_output[:,0], torch.log1p(torch.exp(a_output[:,1])) + 10e-6\n",
    "            a_loss = nll_loss(a_mean, a_variance, a_target)\n",
    "\n",
    "            # Final optimizer step\n",
    "            optimizer.zero_grad()\n",
    "            loss = loss + a_loss\n",
    "            loss.backward()\n",
    "            optimizer.step()\n",
    "    "
   ]
  },
  {
   "cell_type": "code",
   "execution_count": 27,
   "metadata": {},
   "outputs": [
    {
     "data": {
      "text/plain": [
       "<matplotlib.collections.PathCollection at 0x2cf62587e50>"
      ]
     },
     "execution_count": 27,
     "metadata": {},
     "output_type": "execute_result"
    },
    {
     "data": {
      "image/png": "[encoded data removed]",
      "text/plain": [
       "<Figure size 432x288 with 1 Axes>"
      ]
     },
     "metadata": {
      "needs_background": "light"
     },
     "output_type": "display_data"
    }
   ],
   "source": [
    "import matplotlib.pyplot as plt\n",
    "from torchinfo import summary\n",
    "\n",
    "plt.xlim(-2, 2)\n",
    "plt.ylim(-3, 3)\n",
    "t = np.linspace(-2, 2, 50)\n",
    "\n",
    "plt.plot(t, t**3, color=\"blue\") # Ground truth\n",
    "\n",
    "with torch.no_grad():\n",
    "    means, variances = torch.zeros((len(nets), t.shape[0])), torch.zeros((len(nets), t.shape[0]))\n",
    "    for i, net in enumerate(nets):\n",
    "        output = net(torch.from_numpy(t).unsqueeze(-1).float()).squeeze(-1)\n",
    "        means[i] = output[:,0]\n",
    "        variances[i] = torch.log1p(torch.exp(output[:,1])) + 10e-6\n",
    "    mean = torch.mean(means, dim=0)\n",
    "    higher_bound, _ = torch.max(means + 3 * torch.sqrt(variances), dim=0)\n",
    "    lower_bound, _ = torch.min(means - 3 * torch.sqrt(variances), dim=0)\n",
    "    plt.plot(t, mean, color=\"red\") # Averaged predictions\n",
    "    plt.fill_between(t, lower_bound, higher_bound, color=\"lightgrey\")\n",
    "\n",
    "xs, ys = zip(*trainset)\n",
    "plt.scatter(xs, ys, s=4, color=\"blue\")\n",
    "#summary(nets[0], input_size=(batch_size, 1))"
   ]
  },
  {
   "cell_type": "code",
   "execution_count": null,
   "metadata": {},
   "outputs": [],
   "source": []
  }
 ],
 "metadata": {
  "interpreter": {
   "hash": "0e7c78064c0373a43d5649a0756f15757864c8e7f314765530680950dc16e1bb"
  },
  "kernelspec": {
   "display_name": "Python 3.8.12 ('ml')",
   "language": "python",
   "name": "python3"
  },
  "language_info": {
   "codemirror_mode": {
    "name": "ipython",
    "version": 3
   },
   "file_extension": ".py",
   "mimetype": "text/x-python",
   "name": "python",
   "nbconvert_exporter": "python",
   "pygments_lexer": "ipython3",
   "version": "3.8.12"
  },
  "orig_nbformat": 4
 },
 "nbformat": 4,
 "nbformat_minor": 2
}
